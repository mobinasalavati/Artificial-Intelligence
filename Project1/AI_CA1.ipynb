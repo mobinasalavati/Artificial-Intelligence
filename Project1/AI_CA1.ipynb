{
 "cells": [
  {
   "cell_type": "markdown",
   "id": "8d7ae881",
   "metadata": {
    "direction": "rtl"
   },
   "source": [
    "#  هدف پروژه:\n",
    "## توضیح کلی پروژه و تعریف صورت مسئله:\n",
    "### گندالف خاکستری و یاران حلقه\n",
    "\n",
    "گندالف خاکستری با هدف رهبری و هدایت یاران حلقه مأموریت یافته با ارباب تاریکی سائورون مقابله کند. برای این کار\n",
    "باید یاران حلقه را از بین اورک‌ها که ارتش سائورون هستند عبور دهد و هر یک را به یک موقعیت مشخص برساند و در انتها\n",
    "خود به گاندور می‌رود. گندالف نقشه‌ای شطرنجی دارد که شامل موارد زیر است:\n",
    "+  نقطه شروع گندالف \n",
    "+  موقعیت هر یک از یاران حلقه \n",
    "+  موقعیت اورک‌ها \n",
    "+  محلی که هر یار حلقه باید در آن قرار گیرد \n",
    "+  موقعیت نهایی (گاندور)   \n",
    " هر یک از اورک‌ها یک درجه نظامی دارد که براساس آن خانه‌هایی با فاصله من‌هتنی n را نظارت می‌کند که گندالف و یاران حلقه نمی‌توانند از آن عبور کنند. چون قرار است گندالف در شب از بین اورک‌ها عبور کند و آن‌ها خواب هستند، او می‌تواند از خانه‌هایی که آن‌ها نظارت می‌کنند عبور کند به این شرط که آن‌ها را بیدار نکند. بعد از عبور n خانه در محوطه تحت نظارت اورك‌ها، آن‌ها بيدار مي‌شوند. بعد از خارج شدن از محدوده تحت نظارت اورک‌ها می‌توان به آن محدوده بدون در نظر گرفتن حرکات قبلی بازگشت. گندالف در هر حرکت می‌تواند به یکی از چهار خانه مجاور خانه فعلی (بالا، پایین، چپ و راست) حرکت کند به شرطی که خانه مقصد خارج از محدوده نقشه نباشد و همچنین اورکی در آن وجود نداشته باشد. گندالف با گذشتن از خانه‌ای که در آن یاران حلقه قرار دارند، او را برمی‌دارد و پس از رسیدن به مکان قرارگیری یار حلقه، او را بدون صرف زمان در آنجا مستقر می‌کند. گندالف تنها می‌تواند در هر زمان تنها یکی از یاران حلقه را به همراه داشته باشد. هیچ‌گاه موقعیت یاران و محلی که باید در آن قرار گیرند در محدوده نظارت اورک‌ها نیست و دو محدوده تحت نظارت اورک‌ها اشتراک ندارند."
   ]
  },
  {
   "cell_type": "markdown",
   "id": "71182b61",
   "metadata": {
    "direction": "rtl"
   },
   "source": [
    "### فرمت ورودی\n",
    "اطلاعات اولیه در یک فایل به فرمت زیر در اختیار برنامه قرار خواهد گرفت:\n",
    "+ در سطر اول به ترتیب n و m آمده است که n تعداد سطرهای صفحه و m تعداد ستون‌های آن می‌باشد.\n",
    "+ دو سطر بعدی به ترتیب مختصات نقطه شروع و پایان را نشان می‌دهد (ابتدا شماره سطر از بالا سپس شماره ستون از چپ).\n",
    "+ در سطر بعدی k و l آمده است که k تعداد اورک‌ها و l تعداد یاران حلقه را نشان می‌دهد.\n",
    "+ در k سطر بعدی x و y و c آمده است که x شماره‌ی سطر و y شماره‌ی ستون و c درجه نظامی اورک یا فاصله من‌هتنی تحت نظارت یک اورک است.\n",
    "+ در l سطر بعدی مکان فعلی یاران حلقه به ترتیب آمده است.\n",
    "+ در l سطر بعدی به همان ترتیب قبلی مکانی که یاران حلقه باید در آن‌ها قرار بگیرند آمده است. توجه داریم هر یار حلقه باید در مکان مشخصی قرار بگیرد. یعنی یار حلقه iام باید در مکان iام قرار بگیرد."
   ]
  },
  {
   "cell_type": "markdown",
   "id": "71a514b4",
   "metadata": {
    "direction": "rtl"
   },
   "source": [
    "### شرح پیاده‌سازی\n",
    "کتابخانه‌های استفاده شده در حل مسئله عبارت است از:\n",
    "+  deque.Collection :برای پیاده‌سازی صف در الگوریتم BFS و IDS\n",
    "+  time :برای محاسبه زمان\n",
    "+  heapq :برای پیاده‌سازی صف اولویت در الگوریتم \\*A و \\* weighted A"
   ]
  },
  {
   "cell_type": "code",
   "execution_count": 2,
   "id": "cb7c6f7a",
   "metadata": {},
   "outputs": [],
   "source": [
    "import heapq\n",
    "import math\n",
    "import time\n",
    "from collections import deque"
   ]
  },
  {
   "cell_type": "markdown",
   "id": "711c765c",
   "metadata": {
    "direction": "rtl"
   },
   "source": [
    "### نحوه مدل کردن مسئله\n",
    "ابتدا یک کلاس Node تعریف کرده‌ایم که شامل ویژگی‌های زیر می‌شود:\n",
    "+ state :استیت آن node\n",
    "+ parent :والد آن نود در درخت جست و جو\n",
    "+ action :حرکتی که باعث بوجود آمدن این node شده است\n",
    "+ path_cost :هزینه رسیدن از استیت اولیه به این node\n",
    "+ fn :مقدار تابع (n)f در الگوریتم‌های \\*A برای این node"
   ]
  },
  {
   "cell_type": "code",
   "execution_count": 3,
   "id": "b4d0cd70",
   "metadata": {},
   "outputs": [],
   "source": [
    "class Node:\n",
    "    def __init__(self, state, parent, action, path_cost):\n",
    "        self.state = state\n",
    "        self.parent = parent\n",
    "        self.action = action\n",
    "        self.path_cost = path_cost\n",
    "        self.fn = 0\n",
    "\n",
    "    def __lt__(self, other):\n",
    "        return self.fn < other.fn\n",
    "\n",
    "    def __gt__(self, other):\n",
    "        return self.fn > other.fn"
   ]
  },
  {
   "cell_type": "markdown",
   "id": "8e52b8b0",
   "metadata": {
    "direction": "rtl"
   },
   "source": [
    "دو عملگر lt (کوچکتر از) و gt (بزرگتر از) برای دو تابع heappop و heappush در پیاده‌سازی صف اولویت برای الگوریتم \\*A تعریف شده‌اند.\n",
    "در مدل‌سازی مسئله، 4 حرکت (action) بالا (U)، پائین(D)، چپ(L) و راست(R) در نظر گرفته شده است.\n",
    "هر استیت بصورت یک tuple سه‌تایی تعریف شده است:\n",
    "1. شامل مکان فرد در نقشه شطرنجی که بصورت یک tuple به شکل (y,x) درنظر گرفته شده است.\n",
    "2. مکان اولیه و نهایی یاران حلقه که هنوز در مکان نهایی خود قرار نگرفته‌اند که بصورت tuple of tuple درنظر گرفته شده‌اند.\n",
    "3. مكان نهايي يار حلقه‌اي كه همراه گندالف است به صورت يك tuple دوتايي مي‌باشد.\n",
    "\n",
    "استیت اولیه یا state initial شامل مکان اولیه گندالف در بخش اول، مكان اوليه و نهايي همه ياران حلقه در نقشه شطرنجي در بخش دوم و یک tuple خالی در بخش سوم استیت می‌باشد.\n",
    "استیت هدف یا state goal استیتی است که در آن گندالف به نقطه پایان رسیده است و تمامی ياران حلقه به مكان نهايي خود رسيده اند. بنابراين بخش دوم و سوم tuple استیت هدف شامل tupleهای خالی می‌شود."
   ]
  },
  {
   "cell_type": "markdown",
   "id": "1cf124d4",
   "metadata": {
    "direction": "rtl"
   },
   "source": [
    "### توضیح توابع\n",
    "\n",
    "تابع actions :در این تابع بررسی می‌شود که گندالف در هر استیت چه حرکاتی می‌تواند انجام دهد و لیستی از این حرکات ممکن بازگردانده می‌شود (درصورتی که گندالف امکان همراهي يكي از ياران حلقه را در محل فعلی داشته باشد این کار نيز در این تابع انجام می‌شود)."
   ]
  },
  {
   "cell_type": "code",
   "execution_count": 4,
   "id": "5310c72f",
   "metadata": {},
   "outputs": [],
   "source": [
    "def actions(table, state, n, m):\n",
    "    location = state[0]\n",
    "    fellowships = state[1]\n",
    "    fellowship_with_gandalf_end_location = state[2]\n",
    "    possible_actions = []\n",
    "    if len(fellowship_with_gandalf_end_location) == 0 :\n",
    "        for i in range(len(fellowships)):\n",
    "            if location == fellowships[i][0]:\n",
    "                fellowship_with_gandalf_end_location = fellowships[i][1]\n",
    "                fellowships = fellowships[:i] + fellowships[i + 1:]\n",
    "                break\n",
    "    if len(fellowship_with_gandalf_end_location) != 0 :\n",
    "        if location == fellowship_with_gandalf_end_location :\n",
    "            fellowship_with_gandalf_end_location = ()\n",
    "    # Move to Right\n",
    "    if location[1] + 1 < m:\n",
    "        if table[location[0]][location[1] + 1] != '*':\n",
    "            possible_actions.append('R')\n",
    "    # Move to Left\n",
    "    if location[1] - 1 >= 0:\n",
    "        if table[location[0]][location[1] - 1] != '*':\n",
    "            possible_actions.append('L')\n",
    "    # Move to Up\n",
    "    if location[0] - 1 >= 0:\n",
    "        if table[location[0] - 1][location[1]] != '*':\n",
    "            possible_actions.append('U')\n",
    "    # Move to Down\n",
    "    if location[0] + 1 < n:\n",
    "        if table[location[0] + 1][location[1]] != '*':\n",
    "            possible_actions.append('D')\n",
    "    return possible_actions, fellowships, fellowship_with_gandalf_end_location"
   ]
  },
  {
   "cell_type": "markdown",
   "id": "7edf500c",
   "metadata": {
    "direction": "rtl"
   },
   "source": [
    "تابع create_new_node :در این تابع، باتوجه به حرکتی که انجام می‌شود، node جدید (گره فرزند) در درخت جست‌و‌جو تشکیل\n",
    "داده می‌شود."
   ]
  },
  {
   "cell_type": "code",
   "execution_count": 5,
   "id": "eefed8d2",
   "metadata": {},
   "outputs": [],
   "source": [
    "def create_new_node(node, action, index):\n",
    "    parent = node\n",
    "    path_cost = node.path_cost + 1\n",
    "    location = node.state[0]\n",
    "    fellowships = node.state[1]\n",
    "    fellowship_with_gandalf_end_location = node.state[2]\n",
    "\n",
    "    if action == 'R':\n",
    "        location = list(location)\n",
    "        location[1] = location[1] + 1\n",
    "    if action == 'L':\n",
    "        location = list(location)\n",
    "        location[1] = location[1] - 1\n",
    "    if action == 'U':\n",
    "        location = list(location)\n",
    "        location[0] = location[0] - 1\n",
    "    if action == 'D':\n",
    "        location = list(location)\n",
    "        location[0] = location[0] + 1\n",
    "    state = tuple(location), fellowships, fellowship_with_gandalf_end_location\n",
    "    new_node = Node(state, parent, action, path_cost)\n",
    "    return new_node"
   ]
  },
  {
   "cell_type": "markdown",
   "id": "29da30e0",
   "metadata": {
    "direction": "rtl"
   },
   "source": [
    "تابع goal_test :برای بررسی اینکه الگوریتم سرچ موردنظر به استیت هدف رسیده است یا خیر."
   ]
  },
  {
   "cell_type": "code",
   "execution_count": 6,
   "id": "364b92df",
   "metadata": {},
   "outputs": [],
   "source": [
    "def goal_test(state, end_point):\n",
    "    location = state[0]\n",
    "    fellowships = state[1]\n",
    "    fellowships_of_the_ring_end_location = state[2]\n",
    "    return location[0] == end_point[0] and location[1] == end_point[1] and \\\n",
    "           len(fellowships_of_the_ring_end_location) == 0 and len(fellowships) == 0"
   ]
  },
  {
   "cell_type": "markdown",
   "id": "88477b7f",
   "metadata": {
    "direction": "rtl"
   },
   "source": [
    "تابع to_find_path :براي پیدا کردن مسیر رسیدن به استیت هدف با استفاده از node آخر و دسترسی به اجداد آن node."
   ]
  },
  {
   "cell_type": "code",
   "execution_count": 7,
   "id": "2f612da6",
   "metadata": {},
   "outputs": [],
   "source": [
    "def to_find_path(node):\n",
    "    temp = []\n",
    "    path = ''\n",
    "    while node.parent != -1:\n",
    "        temp.append(node.action)\n",
    "        node = node.parent\n",
    "    temp.reverse()\n",
    "    return path.join(temp)"
   ]
  },
  {
   "cell_type": "markdown",
   "id": "a7181f8f",
   "metadata": {
    "direction": "rtl"
   },
   "source": [
    "تابع get_input :براي گرفتن ورودي از كنسول بكار مي‌رود."
   ]
  },
  {
   "cell_type": "code",
   "execution_count": 8,
   "id": "8c021bfa",
   "metadata": {},
   "outputs": [],
   "source": [
    "def get_input():\n",
    "    n, m = [int(t) for t in input().split()]\n",
    "    start_point = tuple([int(t) for t in input().split()])\n",
    "    end_point = tuple([int(t) for t in input().split()])\n",
    "    k, l = [int(t) for t in input().split()]\n",
    "\n",
    "    orcs = []\n",
    "    for i in range(k):\n",
    "        x, y, grade = [int(t) for t in input().split()]\n",
    "        location = (x, y)\n",
    "        orcs.append((location,grade))\n",
    "\n",
    "    fellowships_of_the_ring_start_location = []\n",
    "    for i in range(l):\n",
    "        fellowships_of_the_ring_start_location.append([int(t) for t in input().split()])\n",
    "\n",
    "    fellowships_of_the_ring_locations = []\n",
    "    for i in range(l):\n",
    "        end_location = tuple([int(t) for t in input().split()])\n",
    "        locations = tuple(fellowships_of_the_ring_start_location[i]),end_location\n",
    "        fellowships_of_the_ring_locations.append(locations)\n",
    "    return n, m, start_point, end_point, orcs, tuple(fellowships_of_the_ring_locations)"
   ]
  },
  {
   "cell_type": "markdown",
   "id": "2339bd2a",
   "metadata": {
    "direction": "rtl"
   },
   "source": [
    "تابع init_table :براي ايجاد صفحه شطرنجي بكار مي‌رود. اين تابع با توجه به درجه‌ي نظامي اورك و اين واقعيت كه گندالف به هيچ عنوان نمي‌تواند حريم n-1 من‌هتني اورك شود صفحه شطرنجي را تشكيل مي‌دهد."
   ]
  },
  {
   "cell_type": "code",
   "execution_count": 9,
   "id": "51bd7ccf",
   "metadata": {},
   "outputs": [],
   "source": [
    "def init_table(n, m, orcs):\n",
    "    table = [['_']*m for i in range(n)]\n",
    "    for i in range(len(orcs)):\n",
    "        x, y = orcs[i][0]\n",
    "        grade = orcs[i][1]\n",
    "        for j in range(-grade, grade):\n",
    "            for k in range(-grade, grade):\n",
    "                if abs(j) + abs(k) < grade:\n",
    "                    if (x + j < n and x + j >= 0 and y + k < m and y + k >= 0):\n",
    "                        table[x + j][y + k] = '*'\n",
    "    #print_table(table, n, m)\n",
    "    return table"
   ]
  },
  {
   "cell_type": "markdown",
   "id": "aca732f1",
   "metadata": {
    "direction": "rtl"
   },
   "source": [
    "تابع print_table :براي رسم صفحه شطرنجي بكار مي‌رود كه اين صفحه شطرنجي موقعيت هايي را كه گندالف به هيچ عنوان نمي‌تواند در آن قرار بگيرد بصورت \\* نمايش مي‌دهد."
   ]
  },
  {
   "cell_type": "code",
   "execution_count": 10,
   "id": "9b005e3e",
   "metadata": {},
   "outputs": [],
   "source": [
    "def print_table(table, n ,m) :\n",
    "    for i in range(n):\n",
    "        for j in range(m):\n",
    "            print(table[i][j], end=' ')\n",
    "        print()"
   ]
  },
  {
   "cell_type": "markdown",
   "id": "454e5e6f",
   "metadata": {
    "direction": "rtl"
   },
   "source": [
    "تابع print_output :براي چاپ كردن خروجي بكار مي‌رود."
   ]
  },
  {
   "cell_type": "code",
   "execution_count": 11,
   "id": "e1066aae",
   "metadata": {},
   "outputs": [],
   "source": [
    "def print_output(tic, toc, node, number_of_unique_states, number_of_states):\n",
    "    print(f'execution time:  {(toc - tic)*1000:.6f} ms')\n",
    "    print(\"number_of_states: \", number_of_states)\n",
    "    print(\"number_of_unique_states: \", number_of_unique_states)\n",
    "    print(\"path cost: \", node.path_cost)\n",
    "    print(\"path: \", to_find_path(node))"
   ]
  },
  {
   "cell_type": "markdown",
   "id": "493f8a40",
   "metadata": {
    "direction": "rtl"
   },
   "source": [
    "### الگوريتم و تابع BFS\n",
    "\n",
    "در این الگوریتم nodeها به ترتیب سطح در درخت جست‌و‌جو و بصورت FIFO بسط داده می‌شوند. برای پیاده‌سازی مجموعه frontier\n",
    "از صف (deque) و برای پیاده‌سازی مجموعه explored از ساختمان داده set استفاده شده است.  \n",
    "در این الگوریتم هزینه انجام هر حرکت برابر 1 است در نتیجه جواب نهایی بهینه خواهد بود."
   ]
  },
  {
   "cell_type": "code",
   "execution_count": 12,
   "id": "70dc9d2a",
   "metadata": {},
   "outputs": [],
   "source": [
    "def BFS(table, state, n, m , end_point):\n",
    "    number_of_states = 1\n",
    "    node = Node(state, -1, '', 0)\n",
    "    if goal_test(state, end_point) :\n",
    "        return node, 1, 1\n",
    "    frontier = deque()\n",
    "    frontier.append(node)\n",
    "    explored = set()\n",
    "    explored.add(node)\n",
    "    while bool(frontier) :\n",
    "        node = frontier.popleft()\n",
    "        possible_actions, fellowships, fellowship_with_gandalf_end_location = actions(table, node.state, n, m)\n",
    "        node.state = (node.state[0], fellowships, fellowship_with_gandalf_end_location)\n",
    "        for action in possible_actions:\n",
    "            child_node = create_new_node(node, action, fellowship_with_gandalf_end_location)\n",
    "            number_of_states += 1\n",
    "            if goal_test(child_node.state, end_point):\n",
    "                return child_node, len(explored), number_of_states\n",
    "            if not (child_node.state in explored) :\n",
    "                frontier.append(child_node)\n",
    "                explored.add(child_node.state)\n",
    "    return 0, len(explored), number_of_states"
   ]
  },
  {
   "cell_type": "markdown",
   "id": "010baeb9",
   "metadata": {
    "direction": "rtl"
   },
   "source": [
    "### الگوریتم IDS و توابع IDS و DLS\n",
    "\n",
    "این الگوریتم همانند الگوریتم DFS، در عمق درخت جست‌و‌جو پیش می‌رود و nodeها را بصورت LIFO بسط می‌دهد با این تفاوت که در\n",
    "این الگوریتم عمق پیشروی در درخت از مقدار صفر شروع می‌شود و الگوریتم DFS تنها تا آن عمق پیش می‌رود(DLS). درصورت نیافتن\n",
    "جواب در این عمق، عمق یکی اضافه می‌شود و الگوریتم DFS دوباره تا عمق مشخصی اجرا می‌شود. این کار تا زمانی ادامه پیدا می‌کند که تابع goal_test مقدار true برگرداند و الگوریتم سرچ به استیت هدف رسیده باشد.   \n",
    "در این الگوریتم نیز چون هزینه تمامی حرکت‌ها با یکدیگر برابر و برابر 1 است، جواب نهایی بهینه خواهد بود."
   ]
  },
  {
   "cell_type": "code",
   "execution_count": 13,
   "id": "d5e1e8e4",
   "metadata": {},
   "outputs": [],
   "source": [
    "def DLS(table, state, n, m, end_point, limit, unique_states):\n",
    "    number_of_states = 1\n",
    "    node = Node(state, -1, '', 0)\n",
    "    unique_states.add(node.state)\n",
    "    if goal_test(state, end_point) :\n",
    "        return node, 1\n",
    "    frontier = deque()\n",
    "    frontier.append(node)\n",
    "    seen_states = set()\n",
    "    seen_states.add((node.state, 0))\n",
    "    while bool(frontier) :\n",
    "        node = frontier.pop()\n",
    "        possible_actions, fellowships, fellowship_with_gandalf_end_location = actions(table, node.state, n, m)\n",
    "        node.state = node.state[0], fellowships, fellowship_with_gandalf_end_location\n",
    "        if goal_test(node.state, end_point):\n",
    "            return node, number_of_states\n",
    "        if node.path_cost < limit:\n",
    "            for action in possible_actions:\n",
    "                child_node = create_new_node(node, action, fellowship_with_gandalf_end_location)\n",
    "                number_of_states += 1\n",
    "                if (node.path_cost < limit):\n",
    "                    if not ((child_node.state, child_node.path_cost) in seen_states) :\n",
    "                        frontier.append(child_node)\n",
    "                        unique_states.add(child_node.state)\n",
    "                        for i in range(node.path_cost, limit):\n",
    "                            seen_states.add((child_node.state, i))\n",
    "    return 0, number_of_states"
   ]
  },
  {
   "cell_type": "code",
   "execution_count": 14,
   "id": "4233dd99",
   "metadata": {},
   "outputs": [],
   "source": [
    "def IDS(table, state, n, m, end_point):\n",
    "    depth = 0\n",
    "    unique_states = set()\n",
    "    number_of_states = 0\n",
    "    result = 0\n",
    "    while result == 0:\n",
    "        result, i = DLS(table, state, n, m, end_point, depth, unique_states)\n",
    "        number_of_states += i\n",
    "        depth += 1\n",
    "    return result, len(unique_states), number_of_states"
   ]
  },
  {
   "cell_type": "markdown",
   "id": "2b26fcd2",
   "metadata": {
    "direction": "rtl"
   },
   "source": [
    "### الگوریتم \\*A  و  \\* weighted A و تابع AStar\n",
    "\n",
    "در ابتدا به معرفی heuristicهای تعریف شده پرداخته ايم:\n",
    "+ h1 :تعداد ياران حلقه باقي‌مانده که هنوز در محل درست خود قرار نگرفته‌اند.\n",
    "+ h2 :فاصله من‌هتن گندالف تا نزدیک‌ترین يار روي صفحه شطرنجي که هنوز به محل درست خود نرفته است.\n",
    "+ h3 :فاصله اقليدسي تا نزديك‌ترين يار صفحه شطرنجي که هنوز به محل درست خود نرفته است.\n",
    "\n",
    "هر سه heuristic تعریف شده admissible هستند زیرا به ازای هر node فاصله رسیدن به استيت هدف مقدار بیشتری (یا مساوی)\n",
    "نسبت به h1 یا h2 يا h3 دارد.\n",
    "h1 تابعي consistent است زیرا در مسیر رسیدن به استیت هدف مقدار g(n) + h(n) = f(n) به ازای تمامی nodeها مقدار غیرنزولی دارد چرا که مقدار (n)g حداکثر یکی اضافه می‌شود و مقدار (n)h نیز حداکثر یکی کم می‌شود.  \n",
    "حال به توضیح الگوریتم‌ها پرداخته مي‌شود. در الگوریتم \\*A ابتدا nodeها در یک صف اولویت وارد می‌شوند و سپس به ترتیب صعودی مقدار (n)f برای تمامی nodeها، مرتب خواهند شد و پس از آن بصورت FIFO بسط داده می‌شوند. مقدار (n)f در هر node برابر g(n) + h(n) خواهد بود که مقدار (n)g برابر هزینه واقعی از initial state تا آن node و (n)h برابر فاصله تخمینی از این node تا goal state است.  \n",
    "حال اگر مقدار (n)h به ازای هر نود در اجرا الگوریتم \\*A در یک عدد ثابت آلفا ضرب شود، این الگوریتم به الگوریتم \\* weighted A تبدیل می‌شود. بدلیل ضرب کردن یک مقدار در heuristic به ازای هر node ، ممکن است admissible بودن heuristic از بین برود و جواب نهایی الگوریتم بهینه نباشد."
   ]
  },
  {
   "cell_type": "code",
   "execution_count": 15,
   "id": "c368cef7",
   "metadata": {},
   "outputs": [],
   "source": [
    "def AStar(table, state, n, m, end_point, alpha, h):\n",
    "    number_of_states = 1\n",
    "    node = Node(state, -1, \"\", 0)\n",
    "    if goal_test(node.state, end_point):\n",
    "        return node, 1, 1\n",
    "    frontier = []\n",
    "    node.fn = node.path_cost + alpha * h(n, m, node)\n",
    "    frontier.append(node)\n",
    "    heapq.heapify(frontier)\n",
    "    explored = set()\n",
    "    explored.add(node.state)\n",
    "\n",
    "    while bool(frontier) :\n",
    "        node = heapq.heappop(frontier)\n",
    "        possible_actions, fellowships, fellowship_with_gandalf_end_location = actions(table, node.state, n, m)\n",
    "        node.state = (node.state[0], fellowships, fellowship_with_gandalf_end_location)\n",
    "        for action in possible_actions:\n",
    "            child_node = create_new_node(node, action, fellowship_with_gandalf_end_location)\n",
    "            child_node.fn = child_node.path_cost + alpha * h(n, m, child_node)\n",
    "            number_of_states += 1\n",
    "            if goal_test(child_node.state, end_point):\n",
    "                return child_node, len(explored), number_of_states\n",
    "            if not (child_node.state in explored) :\n",
    "                heapq.heappush(frontier, child_node)\n",
    "                explored.add(child_node.state)\n",
    "    return 0, len(explored), number_of_states"
   ]
  },
  {
   "cell_type": "code",
   "execution_count": 16,
   "id": "70dc11c3",
   "metadata": {},
   "outputs": [],
   "source": [
    "def h1(n, m, node):\n",
    "    heuristic = len(node.state[1])\n",
    "    if len(node.state[2]) != 0 :\n",
    "        heuristic += 1\n",
    "    return heuristic"
   ]
  },
  {
   "cell_type": "code",
   "execution_count": 17,
   "id": "3be42ef5",
   "metadata": {},
   "outputs": [],
   "source": [
    "def h2(n, m, node):\n",
    "    location = state[0]\n",
    "    fellowships = state[1]\n",
    "    min = n + m\n",
    "    for i in range(len(fellowships)):\n",
    "        temp = abs(location[0] - fellowships[i][0][0]) + abs(location[1] - fellowships[i][0][1])\n",
    "        if temp < min :\n",
    "            min = temp\n",
    "    return min"
   ]
  },
  {
   "cell_type": "code",
   "execution_count": 18,
   "id": "6f59f43a",
   "metadata": {},
   "outputs": [],
   "source": [
    "def h3(n, m, node):\n",
    "    location = state[0]\n",
    "    fellowships = state[1]\n",
    "    min = n + m\n",
    "    for i in range(len(fellowships)):\n",
    "        temp = math.sqrt((location[0] - fellowships[i][0][0])**2 + (location[1] - fellowships[i][0][1])**2)\n",
    "        if temp < min :\n",
    "            min = temp\n",
    "    return min"
   ]
  },
  {
   "cell_type": "markdown",
   "id": "6200b6fc",
   "metadata": {},
   "source": [
    "Test case 00 :"
   ]
  },
  {
   "cell_type": "code",
   "execution_count": 19,
   "id": "52f5e5f3",
   "metadata": {},
   "outputs": [
    {
     "name": "stdout",
     "output_type": "stream",
     "text": [
      "10 10\n",
      "0 0\n",
      "9 9\n",
      "6 4\n",
      "2 4 2\n",
      "2 8 1\n",
      "4 0 2\n",
      "6 3 1\n",
      "7 1 1\n",
      "7 7 3\n",
      "0 7\n",
      "9 1\n",
      "4 5\n",
      "3 2\n",
      "9 1\n",
      "0 9\n",
      "4 9\n",
      "8 0\n"
     ]
    }
   ],
   "source": [
    "if __name__ == '__main__':\n",
    "    n, m, start_point, end_point, orcs, fellowships_of_the_ring_locations = get_input()\n",
    "    table = init_table(n, m, orcs)\n",
    "\n",
    "    state = start_point, fellowships_of_the_ring_locations, ()"
   ]
  },
  {
   "cell_type": "code",
   "execution_count": 20,
   "id": "c366c229",
   "metadata": {},
   "outputs": [
    {
     "name": "stdout",
     "output_type": "stream",
     "text": [
      "******************BFS******************\n",
      "Path not found!!\n"
     ]
    }
   ],
   "source": [
    "print(\"******************BFS******************\")\n",
    "tic = time.time()\n",
    "node, number_of_unique_states, number_of_states = BFS(table, state, n, m, end_point)\n",
    "toc = time.time()\n",
    "if not isinstance(node, Node) :\n",
    "    print('Path not found!!')\n",
    "else:\n",
    "    print_output(tic, toc, node, number_of_unique_states, number_of_states)"
   ]
  },
  {
   "cell_type": "code",
   "execution_count": 21,
   "id": "c8e4a6d3",
   "metadata": {},
   "outputs": [
    {
     "name": "stdout",
     "output_type": "stream",
     "text": [
      "******************IDS******************\n"
     ]
    },
    {
     "ename": "KeyboardInterrupt",
     "evalue": "",
     "output_type": "error",
     "traceback": [
      "\u001b[1;31m---------------------------------------------------------------------------\u001b[0m",
      "\u001b[1;31mKeyboardInterrupt\u001b[0m                         Traceback (most recent call last)",
      "\u001b[1;32m<ipython-input-21-9014546015f0>\u001b[0m in \u001b[0;36m<module>\u001b[1;34m\u001b[0m\n\u001b[0;32m      1\u001b[0m \u001b[0mprint\u001b[0m\u001b[1;33m(\u001b[0m\u001b[1;34m\"******************IDS******************\"\u001b[0m\u001b[1;33m)\u001b[0m\u001b[1;33m\u001b[0m\u001b[1;33m\u001b[0m\u001b[0m\n\u001b[0;32m      2\u001b[0m \u001b[0mtic\u001b[0m \u001b[1;33m=\u001b[0m \u001b[0mtime\u001b[0m\u001b[1;33m.\u001b[0m\u001b[0mtime\u001b[0m\u001b[1;33m(\u001b[0m\u001b[1;33m)\u001b[0m\u001b[1;33m\u001b[0m\u001b[1;33m\u001b[0m\u001b[0m\n\u001b[1;32m----> 3\u001b[1;33m \u001b[0mnode\u001b[0m\u001b[1;33m,\u001b[0m \u001b[0mnumber_of_unique_states\u001b[0m\u001b[1;33m,\u001b[0m \u001b[0mnumber_of_states\u001b[0m \u001b[1;33m=\u001b[0m \u001b[0mIDS\u001b[0m\u001b[1;33m(\u001b[0m\u001b[0mtable\u001b[0m\u001b[1;33m,\u001b[0m \u001b[0mstate\u001b[0m\u001b[1;33m,\u001b[0m \u001b[0mn\u001b[0m\u001b[1;33m,\u001b[0m \u001b[0mm\u001b[0m\u001b[1;33m,\u001b[0m \u001b[0mend_point\u001b[0m\u001b[1;33m)\u001b[0m\u001b[1;33m\u001b[0m\u001b[1;33m\u001b[0m\u001b[0m\n\u001b[0m\u001b[0;32m      4\u001b[0m \u001b[0mtoc\u001b[0m \u001b[1;33m=\u001b[0m \u001b[0mtime\u001b[0m\u001b[1;33m.\u001b[0m\u001b[0mtime\u001b[0m\u001b[1;33m(\u001b[0m\u001b[1;33m)\u001b[0m\u001b[1;33m\u001b[0m\u001b[1;33m\u001b[0m\u001b[0m\n\u001b[0;32m      5\u001b[0m \u001b[1;32mif\u001b[0m \u001b[1;32mnot\u001b[0m \u001b[0misinstance\u001b[0m\u001b[1;33m(\u001b[0m\u001b[0mnode\u001b[0m\u001b[1;33m,\u001b[0m \u001b[0mNode\u001b[0m\u001b[1;33m)\u001b[0m \u001b[1;33m:\u001b[0m\u001b[1;33m\u001b[0m\u001b[1;33m\u001b[0m\u001b[0m\n",
      "\u001b[1;32m<ipython-input-14-89db40fdd0a0>\u001b[0m in \u001b[0;36mIDS\u001b[1;34m(table, state, n, m, end_point)\u001b[0m\n\u001b[0;32m      5\u001b[0m     \u001b[0mresult\u001b[0m \u001b[1;33m=\u001b[0m \u001b[1;36m0\u001b[0m\u001b[1;33m\u001b[0m\u001b[1;33m\u001b[0m\u001b[0m\n\u001b[0;32m      6\u001b[0m     \u001b[1;32mwhile\u001b[0m \u001b[0mresult\u001b[0m \u001b[1;33m==\u001b[0m \u001b[1;36m0\u001b[0m\u001b[1;33m:\u001b[0m\u001b[1;33m\u001b[0m\u001b[1;33m\u001b[0m\u001b[0m\n\u001b[1;32m----> 7\u001b[1;33m         \u001b[0mresult\u001b[0m\u001b[1;33m,\u001b[0m \u001b[0mi\u001b[0m \u001b[1;33m=\u001b[0m \u001b[0mDLS\u001b[0m\u001b[1;33m(\u001b[0m\u001b[0mtable\u001b[0m\u001b[1;33m,\u001b[0m \u001b[0mstate\u001b[0m\u001b[1;33m,\u001b[0m \u001b[0mn\u001b[0m\u001b[1;33m,\u001b[0m \u001b[0mm\u001b[0m\u001b[1;33m,\u001b[0m \u001b[0mend_point\u001b[0m\u001b[1;33m,\u001b[0m \u001b[0mdepth\u001b[0m\u001b[1;33m,\u001b[0m \u001b[0munique_states\u001b[0m\u001b[1;33m)\u001b[0m\u001b[1;33m\u001b[0m\u001b[1;33m\u001b[0m\u001b[0m\n\u001b[0m\u001b[0;32m      8\u001b[0m         \u001b[0mnumber_of_states\u001b[0m \u001b[1;33m+=\u001b[0m \u001b[0mi\u001b[0m\u001b[1;33m\u001b[0m\u001b[1;33m\u001b[0m\u001b[0m\n\u001b[0;32m      9\u001b[0m         \u001b[0mdepth\u001b[0m \u001b[1;33m+=\u001b[0m \u001b[1;36m1\u001b[0m\u001b[1;33m\u001b[0m\u001b[1;33m\u001b[0m\u001b[0m\n",
      "\u001b[1;32m<ipython-input-13-4336eccb5872>\u001b[0m in \u001b[0;36mDLS\u001b[1;34m(table, state, n, m, end_point, limit, unique_states)\u001b[0m\n\u001b[0;32m     24\u001b[0m                         \u001b[0munique_states\u001b[0m\u001b[1;33m.\u001b[0m\u001b[0madd\u001b[0m\u001b[1;33m(\u001b[0m\u001b[0mchild_node\u001b[0m\u001b[1;33m.\u001b[0m\u001b[0mstate\u001b[0m\u001b[1;33m)\u001b[0m\u001b[1;33m\u001b[0m\u001b[1;33m\u001b[0m\u001b[0m\n\u001b[0;32m     25\u001b[0m                         \u001b[1;32mfor\u001b[0m \u001b[0mi\u001b[0m \u001b[1;32min\u001b[0m \u001b[0mrange\u001b[0m\u001b[1;33m(\u001b[0m\u001b[0mnode\u001b[0m\u001b[1;33m.\u001b[0m\u001b[0mpath_cost\u001b[0m\u001b[1;33m,\u001b[0m \u001b[0mlimit\u001b[0m\u001b[1;33m)\u001b[0m\u001b[1;33m:\u001b[0m\u001b[1;33m\u001b[0m\u001b[1;33m\u001b[0m\u001b[0m\n\u001b[1;32m---> 26\u001b[1;33m                             \u001b[0mseen_states\u001b[0m\u001b[1;33m.\u001b[0m\u001b[0madd\u001b[0m\u001b[1;33m(\u001b[0m\u001b[1;33m(\u001b[0m\u001b[0mchild_node\u001b[0m\u001b[1;33m.\u001b[0m\u001b[0mstate\u001b[0m\u001b[1;33m,\u001b[0m \u001b[0mi\u001b[0m\u001b[1;33m)\u001b[0m\u001b[1;33m)\u001b[0m\u001b[1;33m\u001b[0m\u001b[1;33m\u001b[0m\u001b[0m\n\u001b[0m\u001b[0;32m     27\u001b[0m     \u001b[1;32mreturn\u001b[0m \u001b[1;36m0\u001b[0m\u001b[1;33m,\u001b[0m \u001b[0mnumber_of_states\u001b[0m\u001b[1;33m\u001b[0m\u001b[1;33m\u001b[0m\u001b[0m\n",
      "\u001b[1;31mKeyboardInterrupt\u001b[0m: "
     ]
    }
   ],
   "source": [
    "print(\"******************IDS******************\")\n",
    "tic = time.time()\n",
    "node, number_of_unique_states, number_of_states = IDS(table, state, n, m, end_point)\n",
    "toc = time.time()\n",
    "if not isinstance(node, Node) :\n",
    "    print('Path not found!!')\n",
    "else:\n",
    "    print_output(tic, toc, node, number_of_unique_states, number_of_states)"
   ]
  },
  {
   "cell_type": "code",
   "execution_count": null,
   "id": "c3522f9a",
   "metadata": {},
   "outputs": [],
   "source": [
    "print(\"****************AStar-h1***************\")\n",
    "tic = time.time()\n",
    "node, number_of_unique_states, number_of_states = AStar(table, state, n, m, end_point, 1, h1)\n",
    "toc = time.time()\n",
    "if not isinstance(node, Node) :\n",
    "    print('Path not found!!')\n",
    "else:\n",
    "    print_output(tic, toc, node, number_of_unique_states, number_of_states)"
   ]
  },
  {
   "cell_type": "code",
   "execution_count": 51,
   "id": "cf2e2482",
   "metadata": {},
   "outputs": [
    {
     "name": "stdout",
     "output_type": "stream",
     "text": [
      "****************AStar-h2***************\n",
      "execution time:  218.066454 ms\n",
      "number_of_states:  22762\n",
      "number_of_unique_states:  7221\n",
      "path cost:  48\n",
      "path:  RRRRRRRRRRRRRRRRRRRRRRRRRRRRRDURDURDRUDURDRRRRRR\n"
     ]
    }
   ],
   "source": [
    "print(\"****************AStar-h2***************\")\n",
    "tic = time.time()\n",
    "node, number_of_unique_states, number_of_states = AStar(table, state, n, m, end_point, 1, h2)\n",
    "toc = time.time()\n",
    "if not isinstance(node, Node) :\n",
    "    print('Path not found!!')\n",
    "else:\n",
    "    print_output(tic, toc, node, number_of_unique_states, number_of_states)"
   ]
  },
  {
   "cell_type": "code",
   "execution_count": 52,
   "id": "c49600f7",
   "metadata": {},
   "outputs": [
    {
     "name": "stdout",
     "output_type": "stream",
     "text": [
      "*******weighted AStar-h1-alpha=5*******\n",
      "execution time:  4.414558 ms\n",
      "number_of_states:  795\n",
      "number_of_unique_states:  293\n",
      "path cost:  48\n",
      "path:  RRRRRRRRRRRRRRRRRRRRRRRRRRRRRDRUDRUDRUDRUDRRRRRR\n"
     ]
    }
   ],
   "source": [
    "print(\"*******weighted AStar-h1-alpha=5*******\")\n",
    "tic = time.time()\n",
    "node, number_of_unique_states, number_of_states = AStar(table, state, n, m, end_point, 5, h1)\n",
    "toc = time.time()\n",
    "if not isinstance(node, Node) :\n",
    "    print('Path not found!!')\n",
    "else:\n",
    "    print_output(tic, toc, node, number_of_unique_states, number_of_states)"
   ]
  },
  {
   "cell_type": "code",
   "execution_count": 53,
   "id": "e54d4d5a",
   "metadata": {},
   "outputs": [
    {
     "name": "stdout",
     "output_type": "stream",
     "text": [
      "*******weighted AStar-h2-alpha=5*******\n",
      "execution time:  178.462505 ms\n",
      "number_of_states:  22762\n",
      "number_of_unique_states:  7221\n",
      "path cost:  48\n",
      "path:  RRRRRRRRRRRRRRRRRRRRRRRRRRRRRDURDURDRUDURDRRRRRR\n"
     ]
    }
   ],
   "source": [
    "print(\"*******weighted AStar-h2-alpha=5*******\")\n",
    "tic = time.time()\n",
    "node, number_of_unique_states, number_of_states = AStar(table, state, n, m, end_point, 5, h2)\n",
    "toc = time.time()\n",
    "if not isinstance(node, Node) :\n",
    "    print('Path not found!!')\n",
    "else:\n",
    "    print_output(tic, toc, node, number_of_unique_states, number_of_states)"
   ]
  },
  {
   "cell_type": "code",
   "execution_count": 54,
   "id": "ea5a12fb",
   "metadata": {},
   "outputs": [
    {
     "name": "stdout",
     "output_type": "stream",
     "text": [
      "*******weighted AStar-h3-alpha=5*******\n",
      "execution time:  262.708426 ms\n",
      "number_of_states:  22762\n",
      "number_of_unique_states:  7221\n",
      "path cost:  48\n",
      "path:  RRRRRRRRRRRRRRRRRRRRRRRRRRRRRDURDURDRUDURDRRRRRR\n"
     ]
    }
   ],
   "source": [
    "print(\"*******weighted AStar-h3-alpha=5*******\")\n",
    "tic = time.time()\n",
    "node, number_of_unique_states, number_of_states = AStar(table, state, n, m, end_point, 5, h3)\n",
    "toc = time.time()\n",
    "if not isinstance(node, Node) :\n",
    "    print('Path not found!!')\n",
    "else:\n",
    "    print_output(tic, toc, node, number_of_unique_states, number_of_states)"
   ]
  },
  {
   "cell_type": "code",
   "execution_count": 55,
   "id": "bc2661c2",
   "metadata": {},
   "outputs": [
    {
     "name": "stdout",
     "output_type": "stream",
     "text": [
      "*****weighted AStar-h1-alpha=10000*****\n",
      "execution time:  6.298065 ms\n",
      "number_of_states:  760\n",
      "number_of_unique_states:  282\n",
      "path cost:  48\n",
      "path:  RRRRRRRRRRRRRRRRRRRRRRRRRRRRRDRUDRUDRUDRUDRRRRRR\n"
     ]
    }
   ],
   "source": [
    "print(\"*****weighted AStar-h1-alpha=10000*****\")\n",
    "tic = time.time()\n",
    "node, number_of_unique_states, number_of_states = AStar(table, state, n, m, end_point, 10000, h1)\n",
    "toc = time.time()\n",
    "if not isinstance(node, Node) :\n",
    "    print('Path not found!!')\n",
    "else:\n",
    "    print_output(tic, toc, node, number_of_unique_states, number_of_states)"
   ]
  },
  {
   "cell_type": "markdown",
   "id": "3856cf10",
   "metadata": {},
   "source": []
  },
  {
   "cell_type": "markdown",
   "id": "e18420bc",
   "metadata": {},
   "source": [
    "|            |Path cost|Number of states|Number of unique states|Execution time|\n",
    "|:-----------|:-------:|:--------------:|:---------------------:|:------------:|\n",
    "|BFS         |48       |22507           |7125                   |100.15        |\n",
    "|IDS         |48       |370581          |7263                   |2469.25       |\n",
    "|A\\*         |48       |15565           |5240                   |101.18        |\n",
    "|weighted A\\*|52       |760             |282                    |6.69          |"
   ]
  },
  {
   "cell_type": "markdown",
   "id": "daadc148",
   "metadata": {},
   "source": [
    "Test case 01 :"
   ]
  },
  {
   "cell_type": "code",
   "execution_count": 56,
   "id": "8b9e7fd6",
   "metadata": {},
   "outputs": [
    {
     "name": "stdout",
     "output_type": "stream",
     "text": [
      "9 9\n",
      "0 0\n",
      "8 8\n",
      "6 3\n",
      "1 3 1\n",
      "1 7 2\n",
      "2 1 1\n",
      "5 3 1\n",
      "6 1 1\n",
      "6 6 2\n",
      "2 4\n",
      "3 6\n",
      "4 8\n",
      "8 1\n",
      "8 3\n",
      "8 5\n"
     ]
    }
   ],
   "source": [
    "if __name__ == '__main__':\n",
    "    n, m, start_point, end_point, orcs, fellowships_of_the_ring_locations = get_input()\n",
    "    table = init_table(n, m, orcs)\n",
    "\n",
    "    state = start_point, fellowships_of_the_ring_locations, ()\n"
   ]
  },
  {
   "cell_type": "code",
   "execution_count": 57,
   "id": "46322172",
   "metadata": {},
   "outputs": [
    {
     "name": "stdout",
     "output_type": "stream",
     "text": [
      "******************BFS******************\n",
      "execution time:  21.154404 ms\n",
      "number_of_states:  3736\n",
      "number_of_unique_states:  1267\n",
      "path cost:  52\n",
      "path:  RRRRDDLLDDDDDLDRRRUUURURULLDDDLDDRRRRRUUUUDDDLDLLRRR\n"
     ]
    }
   ],
   "source": [
    "print(\"******************BFS******************\")\n",
    "tic = time.time()\n",
    "node, number_of_unique_states, number_of_states = BFS(table, state, n, m, end_point)\n",
    "toc = time.time()\n",
    "if not isinstance(node, Node) :\n",
    "    print('Path not found!!')\n",
    "else:\n",
    "    print_output(tic, toc, node, number_of_unique_states, number_of_states)"
   ]
  },
  {
   "cell_type": "code",
   "execution_count": 58,
   "id": "75798256",
   "metadata": {},
   "outputs": [
    {
     "name": "stdout",
     "output_type": "stream",
     "text": [
      "******************IDS******************\n",
      "execution time:  2943.961143 ms\n",
      "number_of_states:  483105\n",
      "number_of_unique_states:  1261\n",
      "path cost:  52\n",
      "path:  DRRDRRDDDDDDLLLURUUUURRRRDLDLDDDLUURUURRRRDDDDLLLRRR\n"
     ]
    }
   ],
   "source": [
    "print(\"******************IDS******************\")\n",
    "tic = time.time()\n",
    "node, number_of_unique_states, number_of_states = IDS(table, state, n, m, end_point)\n",
    "toc = time.time()\n",
    "if not isinstance(node, Node) :\n",
    "    print('Path not found!!')\n",
    "else:\n",
    "    print_output(tic, toc, node, number_of_unique_states, number_of_states)"
   ]
  },
  {
   "cell_type": "code",
   "execution_count": 59,
   "id": "85ab4ac7",
   "metadata": {},
   "outputs": [
    {
     "name": "stdout",
     "output_type": "stream",
     "text": [
      "****************AStar-h1***************\n",
      "execution time:  37.859440 ms\n",
      "number_of_states:  3684\n",
      "number_of_unique_states:  1257\n",
      "path cost:  52\n",
      "path:  RRRRDDLDLDDDDDLURUUURRURRLLDDDDDLRRRRRUUUUDDDLDLLRRR\n"
     ]
    }
   ],
   "source": [
    "print(\"****************AStar-h1***************\")\n",
    "tic = time.time()\n",
    "node, number_of_unique_states, number_of_states = AStar(table, state, n, m, end_point, 1, h1)\n",
    "toc = time.time()\n",
    "if not isinstance(node, Node) :\n",
    "    print('Path not found!!')\n",
    "else:\n",
    "    print_output(tic, toc, node, number_of_unique_states, number_of_states)"
   ]
  },
  {
   "cell_type": "code",
   "execution_count": 60,
   "id": "2ca51aec",
   "metadata": {},
   "outputs": [
    {
     "name": "stdout",
     "output_type": "stream",
     "text": [
      "*****weighted AStar-h1-alpha=10000*****\n",
      "execution time:  14.994383 ms\n",
      "number_of_states:  1260\n",
      "number_of_unique_states:  467\n",
      "path cost:  52\n",
      "path:  RRRRDDLDLDDDDDLRRUURUURRUDLDLDLDDUURURURRRDDDLDLLRRR\n"
     ]
    }
   ],
   "source": [
    "print(\"*****weighted AStar-h1-alpha=10000*****\")\n",
    "tic = time.time()\n",
    "node, number_of_unique_states, number_of_states = AStar(table, state, n, m, end_point, 10000, h1)\n",
    "toc = time.time()\n",
    "if not isinstance(node, Node) :\n",
    "    print('Path not found!!')\n",
    "else:\n",
    "    print_output(tic, toc, node, number_of_unique_states, number_of_states)"
   ]
  },
  {
   "cell_type": "markdown",
   "id": "78bbcccc",
   "metadata": {},
   "source": [
    "|            |Path cost|Number of states|Number of unique states|Execution time|\n",
    "|:-----------|:-------:|:--------------:|:---------------------:|:------------:|\n",
    "|BFS         |52       |3736            |1267                   |29.80         |\n",
    "|IDS         |52       |483105          |1261                   |3349.18       |\n",
    "|A\\*         |52       |3684            |1257                   |34.08         |\n",
    "|weighted A\\*|52       |1260            |467                    |12.34         |"
   ]
  },
  {
   "cell_type": "markdown",
   "id": "0c8278a3",
   "metadata": {},
   "source": [
    "Test case 02 :"
   ]
  },
  {
   "cell_type": "code",
   "execution_count": 61,
   "id": "fcad5843",
   "metadata": {},
   "outputs": [
    {
     "name": "stdout",
     "output_type": "stream",
     "text": [
      "8 8\n",
      "0 0\n",
      "7 7\n",
      "3 2\n",
      "3 1 2\n",
      "2 6 1\n",
      "6 4 2\n",
      "0 7\n",
      "7 1\n",
      "5 0\n",
      "5 6\n"
     ]
    }
   ],
   "source": [
    "if __name__ == '__main__':\n",
    "    n, m, start_point, end_point, orcs, fellowships_of_the_ring_locations = get_input()\n",
    "    table = init_table(n, m, orcs)\n",
    "\n",
    "    state = start_point, fellowships_of_the_ring_locations, ()"
   ]
  },
  {
   "cell_type": "code",
   "execution_count": 70,
   "id": "36445195",
   "metadata": {},
   "outputs": [
    {
     "name": "stdout",
     "output_type": "stream",
     "text": [
      "******************BFS******************\n",
      "execution time:  8.559942 ms\n",
      "number_of_states:  992\n",
      "number_of_unique_states:  350\n",
      "path cost:  34\n",
      "path:  RRRRRRRLLLLDDDDLDLLRDDRUURURRRDRDD\n"
     ]
    }
   ],
   "source": [
    "print(\"******************BFS******************\")\n",
    "tic = time.time()\n",
    "node, number_of_unique_states, number_of_states = BFS(table, state, n, m, end_point)\n",
    "toc = time.time()\n",
    "if not isinstance(node, Node) :\n",
    "    print('Path not found!!')\n",
    "else:\n",
    "    print_output(tic, toc, node, number_of_unique_states, number_of_states)"
   ]
  },
  {
   "cell_type": "code",
   "execution_count": 75,
   "id": "7205a87e",
   "metadata": {},
   "outputs": [
    {
     "name": "stdout",
     "output_type": "stream",
     "text": [
      "******************IDS******************\n",
      "execution time:  231.466532 ms\n",
      "number_of_states:  36067\n",
      "number_of_unique_states:  359\n",
      "path cost:  34\n",
      "path:  RRRRRRRDDDDLLLLDLLLDDRUURURRRDRDDR\n"
     ]
    }
   ],
   "source": [
    "print(\"******************IDS******************\")\n",
    "tic = time.time()\n",
    "node, number_of_unique_states, number_of_states = IDS(table, state, n, m, end_point)\n",
    "toc = time.time()\n",
    "if not isinstance(node, Node) :\n",
    "    print('Path not found!!')\n",
    "else:\n",
    "    print_output(tic, toc, node, number_of_unique_states, number_of_states)"
   ]
  },
  {
   "cell_type": "code",
   "execution_count": 80,
   "id": "b9b9e479",
   "metadata": {},
   "outputs": [
    {
     "name": "stdout",
     "output_type": "stream",
     "text": [
      "****************AStar-h1***************\n",
      "execution time:  7.537842 ms\n",
      "number_of_states:  986\n",
      "number_of_unique_states:  346\n",
      "path cost:  34\n",
      "path:  RRRRRRRLDLDDDLLDLLLDDRRUURURRRDDRD\n"
     ]
    }
   ],
   "source": [
    "print(\"****************AStar-h1***************\")\n",
    "tic = time.time()\n",
    "node, number_of_unique_states, number_of_states = AStar(table, state, n, m, end_point, 1, h1)\n",
    "toc = time.time()\n",
    "if not isinstance(node, Node) :\n",
    "    print('Path not found!!')\n",
    "else:\n",
    "    print_output(tic, toc, node, number_of_unique_states, number_of_states)"
   ]
  },
  {
   "cell_type": "code",
   "execution_count": 87,
   "id": "2796462f",
   "metadata": {},
   "outputs": [
    {
     "name": "stdout",
     "output_type": "stream",
     "text": [
      "*****weighted AStar-h1-alpha=10000*****\n",
      "execution time:  4.460335 ms\n",
      "number_of_states:  633\n",
      "number_of_unique_states:  231\n",
      "path cost:  34\n",
      "path:  RRRRRRRLDLDDDLLDLLLRDDURURURRDRRDD\n"
     ]
    }
   ],
   "source": [
    "print(\"*****weighted AStar-h1-alpha=10000*****\")\n",
    "tic = time.time()\n",
    "node, number_of_unique_states, number_of_states = AStar(table, state, n, m, end_point, 10000, h1)\n",
    "toc = time.time()\n",
    "if not isinstance(node, Node) :\n",
    "    print('Path not found!!')\n",
    "else:\n",
    "    print_output(tic, toc, node, number_of_unique_states, number_of_states)"
   ]
  },
  {
   "cell_type": "markdown",
   "id": "29978930",
   "metadata": {},
   "source": [
    "|            |Path cost|Number of states|Number of unique states|Execution time|\n",
    "|:-----------|:-------:|:--------------:|:---------------------:|:------------:|\n",
    "|BFS         |34       |992             |350                    |8.36          |\n",
    "|IDS         |34       |36067           |359                    |216.36        |\n",
    "|A\\*         |34       |986             |346                    |8.45          |\n",
    "|weighted A\\*|34       |633             |231                    |7.37          |"
   ]
  },
  {
   "cell_type": "markdown",
   "id": "35a6306d",
   "metadata": {},
   "source": [
    "Test case 03 :"
   ]
  },
  {
   "cell_type": "code",
   "execution_count": 88,
   "id": "3ca3425a",
   "metadata": {},
   "outputs": [
    {
     "name": "stdout",
     "output_type": "stream",
     "text": [
      "10 10\n",
      "0 0\n",
      "9 9\n",
      "6 4\n",
      "2 4 2\n",
      "2 8 1\n",
      "4 0 2\n",
      "6 3 1\n",
      "7 1 1\n",
      "7 7 3\n",
      "0 7\n",
      "9 1\n",
      "4 5\n",
      "3 2\n",
      "9 1\n",
      "0 9\n",
      "4 9\n",
      "8 0\n"
     ]
    }
   ],
   "source": [
    "if __name__ == '__main__':\n",
    "    n, m, start_point, end_point, orcs, fellowships_of_the_ring_locations = get_input()\n",
    "    table = init_table(n, m, orcs)\n",
    "\n",
    "    state = start_point, fellowships_of_the_ring_locations, ()"
   ]
  },
  {
   "cell_type": "code",
   "execution_count": null,
   "id": "38404359",
   "metadata": {},
   "outputs": [],
   "source": [
    "print(\"******************BFS******************\")\n",
    "tic = time.time()\n",
    "node, number_of_unique_states, number_of_states = BFS(table, state, n, m, end_point)\n",
    "toc = time.time()\n",
    "if not isinstance(node, Node) :\n",
    "    print('Path not found!!')\n",
    "else:\n",
    "    print_output(tic, toc, node, number_of_unique_states, number_of_states)"
   ]
  },
  {
   "cell_type": "code",
   "execution_count": null,
   "id": "557cde5a",
   "metadata": {},
   "outputs": [],
   "source": [
    "print(\"******************IDS******************\")\n",
    "tic = time.time()\n",
    "node, number_of_unique_states, number_of_states = IDS(table, state, n, m, end_point)\n",
    "toc = time.time()\n",
    "if not isinstance(node, Node) :\n",
    "    print('Path not found!!')\n",
    "else:\n",
    "    print_output(tic, toc, node, number_of_unique_states, number_of_states)"
   ]
  },
  {
   "cell_type": "code",
   "execution_count": null,
   "id": "7770a06c",
   "metadata": {},
   "outputs": [],
   "source": [
    "print(\"****************AStar-h1***************\")\n",
    "tic = time.time()\n",
    "node, number_of_unique_states, number_of_states = AStar(table, state, n, m, end_point, 1, h1)\n",
    "toc = time.time()\n",
    "if not isinstance(node, Node) :\n",
    "    print('Path not found!!')\n",
    "else:\n",
    "    print_output(tic, toc, node, number_of_unique_states, number_of_states)"
   ]
  },
  {
   "cell_type": "code",
   "execution_count": null,
   "id": "10deeae9",
   "metadata": {},
   "outputs": [],
   "source": [
    "print(\"*****weighted AStar-h1-alpha=10000*****\")\n",
    "tic = time.time()\n",
    "node, number_of_unique_states, number_of_states = AStar(table, state, n, m, end_point, 10000, h1)\n",
    "toc = time.time()\n",
    "if not isinstance(node, Node) :\n",
    "    print('Path not found!!')\n",
    "else:\n",
    "    print_output(tic, toc, node, number_of_unique_states, number_of_states)"
   ]
  },
  {
   "cell_type": "markdown",
   "id": "b5294b93",
   "metadata": {
    "direction": "rtl"
   },
   "source": [
    "با توجه آرايش اورك‌ها تست كيس 03 جوابي ندارد و برنامه پيام Path not found را در خروجي چاپ خواهد كرد. "
   ]
  }
 ],
 "metadata": {
  "kernelspec": {
   "display_name": "Python 3",
   "language": "python",
   "name": "python3"
  },
  "language_info": {
   "codemirror_mode": {
    "name": "ipython",
    "version": 3
   },
   "file_extension": ".py",
   "mimetype": "text/x-python",
   "name": "python",
   "nbconvert_exporter": "python",
   "pygments_lexer": "ipython3",
   "version": "3.8.8"
  }
 },
 "nbformat": 4,
 "nbformat_minor": 5
}
