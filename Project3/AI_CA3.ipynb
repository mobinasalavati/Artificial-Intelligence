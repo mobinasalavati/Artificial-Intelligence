{
 "cells": [
  {
   "cell_type": "markdown",
   "id": "87aa94c2",
   "metadata": {
    "direction": "rtl"
   },
   "source": [
    "# هدف پروژه\n",
    "\n",
    "## توضیح کلی پروژه و تعریف صورت مسئله:\n",
    "\n",
    "در این پروژه قصد داریم با استفاده از Naive Bayes Classifier به تجزیه و تحلیل مقالات سایت دیجی‌کالا مگ و دسته‌بندی آنها بپردازیم و سعی کنیم با استفاده از داده‌هایی که درمورد توضیحات هر مقاله داریم، دسته‌بندی آن را پیش‌بینی کنیم."
   ]
  },
  {
   "cell_type": "code",
   "execution_count": 1,
   "id": "7350ec6e",
   "metadata": {},
   "outputs": [],
   "source": [
    "from prettytable import PrettyTable\n",
    "import matplotlib.pyplot as plt\n",
    "%matplotlib inline \n",
    "from bidi.algorithm import get_display\n",
    "from arabic_reshaper import reshape\n",
    "import pandas as pd\n",
    "import numpy as np\n",
    "import parsivar\n",
    "import codecs\n",
    "import time\n",
    "import re"
   ]
  },
  {
   "cell_type": "code",
   "execution_count": 2,
   "id": "342aec7e",
   "metadata": {},
   "outputs": [],
   "source": [
    "train = pd.read_csv('data/train.csv')\n",
    "test = pd.read_csv('data/test.csv')\n",
    "train.dropna(subset=['content'], inplace=True)\n",
    "test.dropna(subset=['content'], inplace=True)\n",
    "train.dropna(subset=['label'], inplace=True)\n",
    "test.dropna(subset=['label'], inplace=True)"
   ]
  },
  {
   "cell_type": "code",
   "execution_count": 3,
   "id": "c63c3716",
   "metadata": {},
   "outputs": [
    {
     "data": {
      "text/html": [
       "<div>\n",
       "<style scoped>\n",
       "    .dataframe tbody tr th:only-of-type {\n",
       "        vertical-align: middle;\n",
       "    }\n",
       "\n",
       "    .dataframe tbody tr th {\n",
       "        vertical-align: top;\n",
       "    }\n",
       "\n",
       "    .dataframe thead th {\n",
       "        text-align: right;\n",
       "    }\n",
       "</style>\n",
       "<table border=\"1\" class=\"dataframe\">\n",
       "  <thead>\n",
       "    <tr style=\"text-align: right;\">\n",
       "      <th></th>\n",
       "      <th>content</th>\n",
       "      <th>label</th>\n",
       "    </tr>\n",
       "  </thead>\n",
       "  <tbody>\n",
       "    <tr>\n",
       "      <th>0</th>\n",
       "      <td>فیلم‌های در حال اکران؛ موزیکال شاد خاله قورباغ...</td>\n",
       "      <td>هنر و سینما</td>\n",
       "    </tr>\n",
       "    <tr>\n",
       "      <th>1</th>\n",
       "      <td>پنج فیلمسازی که کوئنتین تارانتینو را عاشق سینم...</td>\n",
       "      <td>هنر و سینما</td>\n",
       "    </tr>\n",
       "    <tr>\n",
       "      <th>2</th>\n",
       "      <td>جانی آیو از اپل رفت جانی آیو دیگر نیازی به معر...</td>\n",
       "      <td>علم و تکنولوژی</td>\n",
       "    </tr>\n",
       "    <tr>\n",
       "      <th>3</th>\n",
       "      <td>احتمال عدم پشتیبانی iOS ۱۳ از آیفون ۵ اس، SE و...</td>\n",
       "      <td>علم و تکنولوژی</td>\n",
       "    </tr>\n",
       "    <tr>\n",
       "      <th>4</th>\n",
       "      <td>دزدان مغازه نماینده ژاپن در اسکار ۲۰۱۹ شد فیلم...</td>\n",
       "      <td>هنر و سینما</td>\n",
       "    </tr>\n",
       "  </tbody>\n",
       "</table>\n",
       "</div>"
      ],
      "text/plain": [
       "                                             content           label\n",
       "0  فیلم‌های در حال اکران؛ موزیکال شاد خاله قورباغ...     هنر و سینما\n",
       "1  پنج فیلمسازی که کوئنتین تارانتینو را عاشق سینم...     هنر و سینما\n",
       "2  جانی آیو از اپل رفت جانی آیو دیگر نیازی به معر...  علم و تکنولوژی\n",
       "3  احتمال عدم پشتیبانی iOS ۱۳ از آیفون ۵ اس، SE و...  علم و تکنولوژی\n",
       "4  دزدان مغازه نماینده ژاپن در اسکار ۲۰۱۹ شد فیلم...     هنر و سینما"
      ]
     },
     "execution_count": 3,
     "metadata": {},
     "output_type": "execute_result"
    }
   ],
   "source": [
    "train.head()"
   ]
  },
  {
   "cell_type": "code",
   "execution_count": 4,
   "id": "c05e1e00",
   "metadata": {},
   "outputs": [
    {
     "data": {
      "text/plain": [
       "array(['هنر و سینما', 'علم و تکنولوژی', 'سلامت و زیبایی', 'بازی ویدیویی'],\n",
       "      dtype=object)"
      ]
     },
     "execution_count": 4,
     "metadata": {},
     "output_type": "execute_result"
    }
   ],
   "source": [
    "train['label'].unique()"
   ]
  },
  {
   "cell_type": "markdown",
   "id": "f1f3378b",
   "metadata": {
    "direction": "rtl"
   },
   "source": [
    "همان طور که مشاهده می شود در هر داده، توضیحات مقاله و همینطور دسته بندی آن مشخص شده است. در این مجموعه داده ۴ دسته وجود دارند که به صورت زیر می‌باشند:\n",
    "+  علم و تکنولوژی\n",
    "+  هنر و سینما \n",
    "+  بازی ویدویی\n",
    "+  سلامت و زیبایی"
   ]
  },
  {
   "cell_type": "markdown",
   "id": "46b70420",
   "metadata": {
    "direction": "rtl"
   },
   "source": [
    "## فاز اول: پیش پردازش داده\n",
    "### آشنایی با کتابخانه‌های هضم و پارسی ور\n",
    "#### هضم\n",
    "+ تمیز و مرتب کردن متن  \n",
    "+ تقطیع جمله‌ها و واژه‌ها\n",
    " + Sentence Segmentation\n",
    " + Tokenization\n",
    "+ ریشه‌یابی واژه‌ها\n",
    "+ تحلیل صرفی جمله\n",
    "+ تجزیه نحوی جمله\n",
    "+ واسط استفاده از داده‌های زبان فارسی\n",
    "+ سازگاری با بسته NLTK\n",
    "+ پشتیبانی از پایتون نسخه 2 و 3\n",
    "\n",
    "\n",
    "#### پارسی‌ور\n",
    "+ تمیز و مرتب کردن متن  \n",
    "+ تقطیع جمله‌ها و واژه‌ها\n",
    " + Sentence Segmentation\n",
    " + Tokenization\n",
    "+ ریشه‌یابی واژه‌ها\n",
    "+ تحلیل صرفی جمله\n",
    "+ تجزیه نحوی جمله\n",
    "+ قابلیت استخراج مقادیر تاریخی عددی از متن\n",
    "+ تبدیل کلمات فینگلیش یا پینگلیش به فارسی"
   ]
  },
  {
   "cell_type": "markdown",
   "id": "04bb7f97",
   "metadata": {
    "direction": "rtl"
   },
   "source": [
    "### مهمترین روش‌های پیش‌پردازش متن \n",
    "به ترتیب \n",
    "+  تبدیل متن به حروف کوچک\n",
    "+  پاک کردن اعداد\n",
    "+  پاک کردن علائم نقطه گذاری\n",
    "+  پاک کردن فضا‌های خالی\n",
    "+  توکن بندی کلمات\n",
    "+  حذف کردن کلمات فاقد اهمیت کافی\n",
    "+  ریشه‌یابی کلمات\n",
    "\n",
    "####  نرمال سازی\n",
    "در فرآیند نرمال‌سازی می‌خواهیم همه متون استاندارد و یکپارچه شوند. برای مثال تبدیل اعداد انگلیسی به فارسی حذف اسپیس‌ها و فضا‌های خالی اضافی  حذف تشدید از کلمات (چون تشدید مخصوص زبان عربی است) و موارد مختلفی دیگری که بسته به نیاز هر پروژه باید روی متن اعمال شود تا متون همه یک‌دست شوند.\n",
    "در این پروژه از کتابحانه پارسی ور استفاده شده است برای نرمال‌سازی (استاندارد سازی) متن یک شی از کلاس Normalizer ساخته شده و پس از آن از متد normalizer از شی parsivar_normalizer استفاده شده است."
   ]
  },
  {
   "cell_type": "code",
   "execution_count": null,
   "id": "ca6ef3eb",
   "metadata": {},
   "outputs": [],
   "source": [
    "def normalize(self):\n",
    "    self.text = self.parsivar_normalizer.normalize(self.text)\n",
    "    self.text = ''.join([i for i in self.text if not i.isdigit()])\n",
    "    self.text = re.sub(r'\\s*[A-Za-z]+\\b', '', self.text)\n",
    "    self.text = self.text.replace(u'\\u200c', '#')"
   ]
  },
  {
   "cell_type": "markdown",
   "id": "8bb0a2ed",
   "metadata": {
    "direction": "rtl"
   },
   "source": [
    "در متاد normalize علاوه بر فراخوانی متد کتابخانه پارسی‌ور، به کمک کد بالا ارقام و حروف انگلیسی از متن حذف شده و نیم‌فاصله به # تغییر پیدا کرده است تا در ادامه به کمک فراخوانی متاد remove_stop_words بهتر بتوان کلماتی مانند \"بهره‌مند\"، \"فیلم‌های\" و... را پردازش نمود. "
   ]
  },
  {
   "cell_type": "code",
   "execution_count": null,
   "id": "19279bbc",
   "metadata": {},
   "outputs": [],
   "source": [
    " def remove_stop_words(self):\n",
    "        words = []\n",
    "        for word in self.word_list:\n",
    "            if word in self.stop_words:\n",
    "                continue\n",
    "            if '#' in word:\n",
    "                for w in word.split('#'):\n",
    "                    if w in self.stop_words:\n",
    "                        continue\n",
    "                    words.append(w)\n",
    "            else:\n",
    "                words.append(word)\n",
    "        self.word_list = words"
   ]
  },
  {
   "cell_type": "markdown",
   "id": "a0887ebf",
   "metadata": {
    "direction": "rtl"
   },
   "source": [
    "#### توکن یابی (Tokenization)\n",
    "به فرآیندی که طی آن جمله به یکسری واژه (توکن) تبدیل می‌شود. در parsivar برای استفاده از این قابلیت متاد Tokenize_Words از شی tokenizer فراخوانی شده است. خروجی شامل یکسری واژه است."
   ]
  },
  {
   "cell_type": "code",
   "execution_count": null,
   "id": "137ba8a7",
   "metadata": {},
   "outputs": [],
   "source": [
    "def word_tokenize(self):\n",
    "    self.word_list = self.tokenizer.tokenize_words(self.text)"
   ]
  },
  {
   "cell_type": "markdown",
   "id": "3469c1b6",
   "metadata": {
    "direction": "rtl"
   },
   "source": [
    "### سوال 1\n",
    "#### ریشه یابی (Stemming)\n",
    "فرآیندی که طی آن ریشه یک واژه به دست می‌آید. مثل “کتاب‌ها” که دارای ریشه “کتاب” است یا “می‌خوردن” که دارای ریشه “خورد#خور” است. در فرآیند Stemming، برای بدست آوردن ریشه، یکسری گام‌ها به ترتیب انجام می‌شوند و در اصطلاح برای آن الگوریتم تعریف می‌شود برای مثال ابتدا پیشوند حذف شود. در گام بعدی به سراغ پسوندها می‌روند و گام‌های بعدی به همین صورت. ضعف جدی این روش گاهی تولید ریشه بی معنی است مثلا ریشه “بشارت دادم” که ممکن است “ب” به‌عنوان پیشوند در نظر گرفته و نتیجه غلط شود. برای زبان انگلیسی معمولا از الگوریتم porter استفاده می‌کنند ولی متاسفانه برای زبان فارسی الگوریتم قابل اعتمادی توسط زبان شناسان ارائه نشده است.\n",
    "\n",
    "#### ریشه یابی (Lemmatization)\n",
    "هر دوی Stemming و Lemmatization یک کار یکسان ولی به روش مختلف انجام می‌دهند. Lemmatization شبیه به این است که با دیدن یک کلمه، به سراغ دایره المعارف رفته و بررسی‌های لازم را انجام داده و یک کلمه را به عنوان ریشه برمی‌گرداند. مزیت این روش تولید نشدن کلمات نامربوط به عنوان ریشه است. البته سرعت این روش نسبت به Stemming پایین‌تر است چون باید جستجو انجام شود.\n",
    "پارسی ور فقط از قابلیت Stemming پشتیبانی می‌کند. برای استفاده از این قابلیت ابتدا باید کلاس FindStems  قبل از استفاده import شود."
   ]
  },
  {
   "cell_type": "code",
   "execution_count": null,
   "id": "8bdf2d0c",
   "metadata": {},
   "outputs": [],
   "source": [
    "def stem(self):\n",
    "        self.word_list = [self.stemmer.convert_to_stem(word) for word in self.word_list]"
   ]
  },
  {
   "cell_type": "markdown",
   "id": "35a4ad39",
   "metadata": {
    "direction": "rtl"
   },
   "source": [
    "#### stop-word\n",
    "کلمات بدون استفاده (غیر مفید در حین پردازش) را «کلمات توقف» (Stop words) می‌گویند. از دیگر معادل‌هایی که در زبان فارسی برای کلمات توقف استفاده می‌شود، می‌توان به کلمات بازدارنده، کلمات ممنوعه و یا Stop Word اشاره کرد. برای استفاده از stop-word های زبان فارسی از فایل persian در کنار برنامه استفاده شده است و اطلاعات این فایل به کمک کد زیر در برنامه استفاده شده است."
   ]
  },
  {
   "cell_type": "code",
   "execution_count": null,
   "id": "c87ccd7d",
   "metadata": {},
   "outputs": [],
   "source": [
    "def create_stop_words(self, file_name):\n",
    "        self.stop_words = sorted(list(set(\n",
    "            [\n",
    "                self.parsivar_normalizer.normalize(w) for w in codecs.open(file_name, encoding='utf-8').read().split('\\n') if w\n",
    "            ])))\n"
   ]
  },
  {
   "cell_type": "code",
   "execution_count": 5,
   "id": "b49edb82",
   "metadata": {},
   "outputs": [],
   "source": [
    "LAST = -1\n",
    "SMOOTH = 5\n",
    "SELECTED_WORD = 75\n",
    "STARS = ' ****** '\n",
    "DASH = '-'\n",
    "WRONGLY_COUNT = 5\n",
    "\n",
    "PREPROCESS_AND_SMOOTH = 'Preprocessing & Smoothing'\n",
    "JUST_PREPROCESS = 'Preprocessing'\n",
    "JUST_SMOOTH = 'Smoothing'\n",
    "NOTHING = 'Nothing'"
   ]
  },
  {
   "cell_type": "code",
   "execution_count": 6,
   "id": "a413c374",
   "metadata": {},
   "outputs": [],
   "source": [
    "def draw_histogram(dataset, title, column, color):\n",
    "    plt.figure()\n",
    "    plt.suptitle('Histogram of ' + column + ' in ' + title, fontsize = 15)\n",
    "    plt.xlabel(column, fontsize = 12)\n",
    "    plt.ylabel('Frequency', fontsize = 12)\n",
    "    dataset['label'].apply(lambda x: get_display(reshape(x))).hist(color = color)"
   ]
  },
  {
   "cell_type": "code",
   "execution_count": 7,
   "id": "1657725a",
   "metadata": {},
   "outputs": [
    {
     "data": {
      "image/png": "[encoded data removed]",
      "text/plain": [
       "<Figure size 432x288 with 1 Axes>"
      ]
     },
     "metadata": {
      "needs_background": "light"
     },
     "output_type": "display_data"
    }
   ],
   "source": [
    "draw_histogram(train, 'train', 'label', 'blue')"
   ]
  },
  {
   "cell_type": "markdown",
   "id": "7f458e20",
   "metadata": {
    "direction": "rtl"
   },
   "source": [
    "با توجه به نمودار‌ بالا تعداد سطرها به ازای هر موضوع دسته‌بندی در دیتاست train به صورت متوازن قرار داده شده است و نیازی به یکسان کردن تعداد آگهی‌ها از دسته‌بندی‌های متفاوت که به نام resampling شناخته می‌شود نیست."
   ]
  },
  {
   "cell_type": "code",
   "execution_count": 8,
   "id": "01979fd7",
   "metadata": {},
   "outputs": [
    {
     "data": {
      "image/png": "[encoded data removed]",
      "text/plain": [
       "<Figure size 432x288 with 1 Axes>"
      ]
     },
     "metadata": {
      "needs_background": "light"
     },
     "output_type": "display_data"
    }
   ],
   "source": [
    "draw_histogram(test, 'test', 'label', 'green')"
   ]
  },
  {
   "cell_type": "markdown",
   "id": "17349aeb",
   "metadata": {
    "direction": "rtl"
   },
   "source": [
    "##  فاز دوم: فرآیند مسئله\n",
    "در این مسئله از مدل words of bag استفاده شده است. به این صورت که هر کلمه را مستقل از جایگاه و ترتیب آن در جمله در نظر گرفته می شود. feature ها تعداد هر کلمه در کلاس می باشد. یعنی هر چه تعداد یک کلمه در یک کلاس بیشتر باشد، احتمال اینکه آن کلمه متعلق به آن کلاس باشد بیشتر است. برای حل این مسئله از bayes naive استفاده شده است."
   ]
  },
  {
   "cell_type": "markdown",
   "id": "3be845c0",
   "metadata": {},
   "source": [
    "![alt text](naive.png \"Title\")"
   ]
  },
  {
   "cell_type": "markdown",
   "id": "c9d3dfdc",
   "metadata": {
    "direction": "rtl"
   },
   "source": [
    "### سوال 2\n",
    "Posterior: پسین، احتمالی که پس از مشاهده‌ی شواهد (به عبارت ریاضی، به شرط شواهد) قرار است محاسبه شود.\n",
    "\n",
    "Prior: پیشین، احتمالی که برای کلاس مربوطه بدون مشاهده ی شواهد محاسبه شده است.\n",
    "در این مدل p(c) یا p(label) برابر است با نسبت تعداد مقاله‌های موجود از این دسته‌بندی به تعداد کل مقاله‌ها و p(x) یا p(word) برابر است با تعداد تکرار کلمه مورد نظر به روی تعداد کل کلمات.\n",
    "\n",
    "Likelihood: در این مدل همان احتمال p(word|label) است که در محاسبه ی احتمال پسین کاربرد دارد. این احتمال به راحتی قابل محاسبه است. کافی است نسبت تعداد تکرار هر کلمه در هر کلاس را به مجموع تمامی کلمات آن کلاس به دست آورد.\n",
    "\n",
    "Evidence: شواهد، شواهدی که مشاهده می‌شوند و بر احتمالی که قصد محاسبه‌ی آن است اثر می‌گذارند. در این مدل هر کلمه‌ای که در content مقاله دیده می‌شود، شواهد ما خواهد بود."
   ]
  },
  {
   "cell_type": "markdown",
   "id": "662f294b",
   "metadata": {
    "direction": "rtl"
   },
   "source": [
    "## Biagram\n",
    "### سوال 3\n",
    "\n",
    "1) پیچ فلزی را محکم کردم.\n",
    "2) از پیچ جاده گذشتم.\n",
    "در اینجا قرار گرفتن کلمه \"پیچ\" در کنار \"فلزی\" یا \"جاده\" می‌تواند به فهم درست معنای این کلمه کمک کند. در این مثال استفاده از bigrams به تنهایی کافی می‌باشد."
   ]
  },
  {
   "cell_type": "markdown",
   "id": "d434535d",
   "metadata": {
    "direction": "rtl"
   },
   "source": [
    "## Additive Smoothing\n",
    "### سوال 4\n",
    "\n",
    "در بخشی از محاسبه‌ی احتمال p(label|content)، مقادیر p(word|label) در هم ضرب می‌شوند. بنابراین اگر کلمه‌ای در کلاسی نباشد، مقدار p(word|label) صفر است که این امر موجب صفر شدن p(label|content) می‌شود که این امر خطای بالایی را به مدل ما تحمیل می‌کند.\n",
    "\n",
    "\n",
    "### سوال 5 \n",
    "\n",
    "برای حل این مشکل می‌توان از روش Additive Smoothing استفاده کرد. در این روش هنگام محاسبه‌ی p(word|label)، صورت کسر را با مقدار smooth و همچنین مخرج کسر را با مقدار smooth * k جمع کرده که k برابر با تعداد کل کلمات در content مورد نظر است. این کار موجب می‌شود هنگام ضرب مقادیر p(word|label) هیچ مقداری صفر نباشد.  \n",
    "اگر مقدار smooth صفر باشد نتیجه همان حالت without additive smoothing خواهد شد. در این مدل مقدار smooth برابر 5 در نظر گرفته شده است."
   ]
  },
  {
   "cell_type": "code",
   "execution_count": 9,
   "id": "020323ce",
   "metadata": {},
   "outputs": [],
   "source": [
    "class Preprocessor:\n",
    "    def __init__(self):\n",
    "        self.text = ''\n",
    "        self.word_list = []\n",
    "        self.stop_words = []\n",
    "        self.parsivar_normalizer = parsivar.Normalizer()\n",
    "        self.tokenizer = parsivar.Tokenizer()\n",
    "        self.stemmer = parsivar.FindStems()\n",
    "        self.create_stop_words('persian')\n",
    "\n",
    "    def create_stop_words(self, file_name):\n",
    "        self.stop_words = sorted(list(set(\n",
    "            [\n",
    "                self.parsivar_normalizer.normalize(w) for w in codecs.open(file_name, encoding='utf-8').read().split('\\n') if w\n",
    "            ])))\n",
    "\n",
    "    def just_tokenize(self, text):\n",
    "        return text.split()\n",
    "\n",
    "    def normalize(self):\n",
    "        self.text = self.parsivar_normalizer.normalize(self.text)\n",
    "        self.text = ''.join([i for i in self.text if not i.isdigit()])\n",
    "        self.text = re.sub(r'\\s*[A-Za-z]+\\b', '', self.text)\n",
    "        self.text = self.text.replace(u'\\u200c', '#')\n",
    "\n",
    "    def stem(self):\n",
    "        self.word_list = [self.stemmer.convert_to_stem(word) for word in self.word_list]\n",
    "\n",
    "    def word_tokenize(self):\n",
    "        self.word_list = self.tokenizer.tokenize_words(self.text)\n",
    "\n",
    "    def remove_stop_words(self):\n",
    "        words = []\n",
    "        for word in self.word_list:\n",
    "            if word in self.stop_words:\n",
    "                continue\n",
    "            if '#' in word:\n",
    "                for w in word.split('#'):\n",
    "                    if w in self.stop_words:\n",
    "                        continue\n",
    "                    words.append(w)\n",
    "            else:\n",
    "                words.append(word)\n",
    "        self.word_list = words\n",
    "\n",
    "    def run(self, text):\n",
    "\n",
    "        self.text = text\n",
    "        self.normalize()\n",
    "        self.word_tokenize()\n",
    "        self.remove_stop_words()\n",
    "        self.stem()\n",
    "\n",
    "        return self.word_list"
   ]
  },
  {
   "cell_type": "code",
   "execution_count": 10,
   "id": "b40aaa75",
   "metadata": {},
   "outputs": [],
   "source": [
    "class Classifier:\n",
    "    def __init__(self):\n",
    "        self.preprocessor = Preprocessor()\n",
    "        self.smooth = SMOOTH\n",
    "        self.confusion_matrix = np.array([])\n",
    "        self.accuracies_none = []\n",
    "        self.accuracies = []\n",
    "        self.precisions = []\n",
    "        self.recalls = []\n",
    "        self.f1_scores = []\n",
    "        self.modes = []\n",
    "        self.wrongly_samples = []\n",
    "        self.index = LAST\n",
    "        self.five_words = {}\n",
    "        self.labels = {'بازی ویدیویی' : 'video_games',\n",
    "                       'سلامت و زیبایی' : 'health_and_beauty',\n",
    "                       'علم و تکنولوژی' : 'science_and_technology',\n",
    "                       'هنر و سینما' : 'art_and_cinema'\n",
    "                       }\n",
    "\n",
    "    def initialize(self, train, test, mode):\n",
    "        self.modes.append(mode)\n",
    "        self.mode = mode\n",
    "        self.index = self.index + 1\n",
    "        self.train = train.copy()\n",
    "        self.test = test.copy()\n",
    "        self.p_health_and_beauty = len(self.train[(self.train['label'] == 'سلامت و زیبایی')]. \\\n",
    "                                       index) / len(self.train.index)\n",
    "\n",
    "        self.p_science_and_technology = len(self.train[(self.train['label'] == 'علم و تکنولوژی')]. \\\n",
    "                                            index) / len(self.train.index)\n",
    "\n",
    "        self.p_art_and_cinema = len(self.train[(self.train['label'] == 'هنر و سینما')]. \\\n",
    "                                    index) / len(self.train.index)\n",
    "\n",
    "        self.p_video_games = 1 - (self.p_health_and_beauty + self.p_science_and_technology + self.p_art_and_cinema)\n",
    "\n",
    "        if mode == JUST_PREPROCESS:\n",
    "            self.apply_preprocessing = True\n",
    "            self.apply_smoothing = False\n",
    "\n",
    "        elif mode == JUST_SMOOTH:\n",
    "            self.apply_preprocessing = False\n",
    "            self.apply_smoothing = True\n",
    "\n",
    "        elif mode == PREPROCESS_AND_SMOOTH:\n",
    "            self.apply_smoothing = True\n",
    "            self.apply_preprocessing = True\n",
    "\n",
    "        else:\n",
    "            self.apply_smoothing = False\n",
    "            self.apply_preprocessing = False\n",
    "\n",
    "    def preprocess(self):\n",
    "        self.train['content'] = self.train['content'].apply(self.preprocessor.run)\n",
    "        self.test['content'] = self.test['content'].apply(self.preprocessor.run)\n",
    "\n",
    "    def extract_words(self):\n",
    "        data = self.train.copy()\n",
    "        data = pd.DataFrame({'label': np.repeat(data['label'].values, data['content'].str.len())}).assign \\\n",
    "            (**{'content': np.concatenate(data['content'].values)})[data.columns.tolist()]\n",
    "\n",
    "        data.columns = ['word', 'label']\n",
    "        self.data_health_and_beauty = data[(data.label == 'سلامت و زیبایی')][['word']]\n",
    "        self.data_science_and_technology = data[(data.label == 'علم و تکنولوژی')][['word']]\n",
    "        self.data_art_and_cinema = data[(data.label == 'هنر و سینما')][['word']]\n",
    "        self.data_video_games = data[(data.label == 'بازی ویدیویی')][['word']]\n",
    "\n",
    "    def compute_frequencies(self):\n",
    "        self.data_video_games['frequency'] = self.data_video_games['word'] \\\n",
    "            .map(self.data_video_games['word'].value_counts())\n",
    "\n",
    "        self.data_art_and_cinema['frequency'] = self.data_art_and_cinema['word'] \\\n",
    "            .map(self.data_art_and_cinema['word'].value_counts())\n",
    "\n",
    "        self.data_science_and_technology['frequency'] = self.data_science_and_technology['word'] \\\n",
    "            .map(self.data_science_and_technology['word'].value_counts())\n",
    "\n",
    "        self.data_health_and_beauty['frequency'] = self.data_health_and_beauty['word'] \\\n",
    "            .map(self.data_health_and_beauty['word'].value_counts())\n",
    "\n",
    "        self.data_video_games.drop_duplicates(inplace=True)\n",
    "        self.data_art_and_cinema.drop_duplicates(inplace=True)\n",
    "        self.data_science_and_technology.drop_duplicates(inplace=True)\n",
    "        self.data_health_and_beauty.drop_duplicates(inplace=True)\n",
    "\n",
    "        self.data_video_games.reset_index(drop=True, inplace=True)\n",
    "        self.data_art_and_cinema.reset_index(drop=True, inplace=True)\n",
    "        self.data_science_and_technology.reset_index(drop=True, inplace=True)\n",
    "        self.data_health_and_beauty.reset_index(drop=True, inplace=True)\n",
    "\n",
    "    def repeat_the_word_5_times(self):\n",
    "        tmp = self.data_video_games.copy()\n",
    "        self.five_words['بازی ویدیویی'] = tmp.sort_values(by='frequency', ascending=False).head(5)\n",
    "\n",
    "        tmp = self.data_art_and_cinema.copy()\n",
    "        self.five_words['هنر و سینما'] = tmp.sort_values(by='frequency', ascending=False).head(5)\n",
    "\n",
    "        tmp = self.data_science_and_technology.copy()\n",
    "        self.five_words['علم و تکنولوژی'] = tmp.sort_values(by='frequency', ascending=False).head(5)\n",
    "\n",
    "        tmp = self.data_health_and_beauty.copy()\n",
    "        self.five_words['سلامت و زیبایی'] = tmp.sort_values(by='frequency', ascending=False).head(5)\n",
    "\n",
    "    def draw_histogram_5_word(self):\n",
    "        fig, axs = plt.subplots(1, 4, figsize=(15,15))#, sharex=True, sharey=True)\n",
    "        index = 0\n",
    "        plt.suptitle('Histogram of Frequency', fontsize=15)\n",
    "        for key, value in  self.five_words.items():\n",
    "            x = list(value['word'])\n",
    "            y = list(value['frequency'])\n",
    "            axs[index].bar([get_display(reshape(_x)) for _x in x], y)\n",
    "            axs[index].set(xlabel='word', ylabel='frequency', title =get_display(reshape(key)))\n",
    "            index += 1\n",
    "\n",
    "\n",
    "    def compute_probabilities(self):\n",
    "        self.k = len(pd.concat([self.data_video_games, self.data_art_and_cinema,\n",
    "                                self.data_science_and_technology, self.data_health_and_beauty]).drop_duplicates().reset_index(drop=True).index)\n",
    "        if self.apply_smoothing:\n",
    "            self.data_video_games['probability'] = (self.data_video_games['frequency'] + self.smooth) / \\\n",
    "                                              (self.data_video_games['frequency'].sum() + self.k * self.smooth)\n",
    "            self.data_art_and_cinema['probability'] = (self.data_art_and_cinema['frequency'] + self.smooth) / \\\n",
    "                                                  (self.data_art_and_cinema['frequency'].sum() + self.k * self.smooth)\n",
    "            self.data_science_and_technology['probability'] = (self.data_science_and_technology['frequency'] + self.smooth) / \\\n",
    "                                                   (self.data_science_and_technology['frequency'].sum() + self.k * self.smooth)\n",
    "            self.data_health_and_beauty['probability'] = (self.data_health_and_beauty['frequency'] + self.smooth) / \\\n",
    "                                                      (self.data_health_and_beauty['frequency'].sum() + self.k * self.smooth)\n",
    "        else:\n",
    "            self.data_video_games['probability'] = (self.data_video_games['frequency']) / \\\n",
    "                                              (self.data_video_games['frequency'].sum())\n",
    "            self.data_art_and_cinema['probability'] = (self.data_art_and_cinema['frequency']) / \\\n",
    "                                                  (self.data_art_and_cinema['frequency'].sum())\n",
    "            self.data_science_and_technology['probability'] = (self.data_science_and_technology['frequency']) / \\\n",
    "                                                   (self.data_science_and_technology['frequency'].sum())\n",
    "            self.data_health_and_beauty['probability'] = (self.data_health_and_beauty['frequency']) / \\\n",
    "                                                      (self.data_health_and_beauty['frequency'].sum())\n",
    "\n",
    "        self.data_video_games = self.data_video_games.set_index('word')['probability'].to_dict()\n",
    "        self.data_art_and_cinema = self.data_art_and_cinema.set_index('word')['probability'].to_dict()\n",
    "        self.data_science_and_technology = self.data_science_and_technology.set_index('word')['probability'].to_dict()\n",
    "        self.data_health_and_beauty = self.data_health_and_beauty.set_index('word')['probability'].to_dict()\n",
    "\n",
    "    def compute_video_games_prob(self, word_list):\n",
    "        length = len(word_list)\n",
    "        if length == 0:\n",
    "            return 1\n",
    "        if length > SELECTED_WORD :\n",
    "            tmp = np.random.choice(word_list, SELECTED_WORD, replace=False).tolist()\n",
    "        else:\n",
    "            tmp = word_list.copy()\n",
    "\n",
    "        ans = 1\n",
    "        for word in tmp:\n",
    "            if word in self.data_video_games:\n",
    "                ans *= self.data_video_games[word]\n",
    "            elif self.apply_smoothing:\n",
    "                ans *= self.smooth / (self.k * self.smooth)\n",
    "            else:\n",
    "                return 0\n",
    "\n",
    "        return ans\n",
    "\n",
    "    def compute_science_and_technology_prob(self, word_list):\n",
    "        length = len(word_list)\n",
    "        if length == 0:\n",
    "            return 1\n",
    "        if length > SELECTED_WORD:\n",
    "            tmp = np.random.choice(word_list, SELECTED_WORD, replace=False).tolist()\n",
    "        else:\n",
    "            tmp = word_list.copy()\n",
    "\n",
    "        ans = 1\n",
    "        for word in tmp:\n",
    "            if word in self.data_science_and_technology:\n",
    "                ans *= self.data_science_and_technology[word]\n",
    "            elif self.apply_smoothing:\n",
    "                ans *= self.smooth / (self.k * self.smooth)\n",
    "            else:\n",
    "                return 0\n",
    "\n",
    "        return ans\n",
    "\n",
    "    def compute_health_and_beauty_prob(self, word_list):\n",
    "        length = len(word_list)\n",
    "        if length == 0:\n",
    "            return 1\n",
    "        if length > SELECTED_WORD:\n",
    "            tmp = np.random.choice(word_list, SELECTED_WORD, replace=False).tolist()\n",
    "        else:\n",
    "            tmp = word_list.copy()\n",
    "\n",
    "        ans = 1\n",
    "        for word in tmp:\n",
    "            if word in self.data_health_and_beauty:\n",
    "                ans *= self.data_health_and_beauty[word]\n",
    "            elif self.apply_smoothing:\n",
    "                ans *= self.smooth / (self.k * self.smooth)\n",
    "            else:\n",
    "                return 0\n",
    "\n",
    "        return ans\n",
    "\n",
    "    def compute_art_and_cinema_prob(self, word_list):\n",
    "        length = len(word_list)\n",
    "        if length == 0:\n",
    "            return 1\n",
    "        if length > SELECTED_WORD:\n",
    "            tmp = np.random.choice(word_list, SELECTED_WORD, replace=False).tolist()\n",
    "        else:\n",
    "            tmp = word_list.copy()\n",
    "\n",
    "        ans = 1\n",
    "        for word in tmp:\n",
    "            if word in self.data_art_and_cinema:\n",
    "                ans *= self.data_art_and_cinema[word]\n",
    "            elif self.apply_smoothing:\n",
    "                ans *= self.smooth / (self.k * self.smooth)\n",
    "            else:\n",
    "                return 0\n",
    "\n",
    "        return ans\n",
    "\n",
    "    def change_label(self, label):\n",
    "        if label == 'video_games_prob':\n",
    "            return 'بازی ویدیویی'\n",
    "        elif label == 'science_and_technology_prob':\n",
    "            return 'علم و تکنولوژی'\n",
    "        elif label == 'health_and_beauty_prob':\n",
    "            return 'سلامت و زیبایی'\n",
    "        elif label == 'art_and_cinema_prob':\n",
    "            return 'هنر و سینما'\n",
    "\n",
    "    def classify(self):\n",
    "        self.test['video_games_prob'] = self.p_video_games * self.test['content']. \\\n",
    "            apply(self.compute_video_games_prob)\n",
    "\n",
    "        self.test['science_and_technology_prob'] = self.p_science_and_technology * self.test['content']. \\\n",
    "            apply(self.compute_science_and_technology_prob)\n",
    "\n",
    "        self.test['health_and_beauty_prob'] = self.p_health_and_beauty * self.test['content']. \\\n",
    "            apply(self.compute_health_and_beauty_prob)\n",
    "\n",
    "        self.test['art_and_cinema_prob'] = self.p_art_and_cinema * self.test['content']. \\\n",
    "            apply(self.compute_art_and_cinema_prob)\n",
    "\n",
    "        self.test['guess'] = self.test[['video_games_prob', 'science_and_technology_prob',\n",
    "                                        'health_and_beauty_prob', 'art_and_cinema_prob']].idxmax(axis=1)\n",
    "\n",
    "        self.test['guess'] = self.test['guess'].apply(self.change_label)\n",
    "\n",
    "    def compute_confusion_matrix(self):\n",
    "        self.confusion_matrix = pd.crosstab(self.test['guess'], self.test['label'])\n",
    "\n",
    "    def evaluate_model(self):\n",
    "        accuracys_none = []\n",
    "        accuracys = []\n",
    "        precisions = []\n",
    "        recalls = []\n",
    "        f1_scores = []\n",
    "\n",
    "        for label in self.labels.keys():\n",
    "            accuracy_none, accuracy, precision, recall, f1_score = self.compute_metrics(label)\n",
    "            accuracys_none.append(accuracy_none)\n",
    "            accuracys.append(accuracy)\n",
    "            precisions.append(precision)\n",
    "            recalls.append(recall)\n",
    "            f1_scores.append(f1_score)\n",
    "\n",
    "        self.accuracies_none.append(accuracys_none)\n",
    "        self.accuracies.append(accuracys)\n",
    "        self.precisions.append(precisions)\n",
    "        self.recalls.append(recalls)\n",
    "        self.f1_scores.append(f1_scores)\n",
    "\n",
    "    def compute_metrics(self, label):\n",
    "        self.compute_confusion_matrix()\n",
    "\n",
    "        sum_all = self.confusion_matrix.sum().sum()\n",
    "        TP = self.confusion_matrix.loc[label][label]\n",
    "        FP = self.confusion_matrix.loc[label].sum() - TP\n",
    "        FN = self.confusion_matrix[label].sum() - TP\n",
    "        TN =  sum_all - TP - FP - FN\n",
    "\n",
    "        accuracy_none = 100 * np.diag(self.confusion_matrix).sum() / sum_all\n",
    "        accuracy = 100 * (TN + TP)/(TP + TN + FN + FP)\n",
    "        precision = 100 * TP / (TP + FP)\n",
    "        recall = 100 * TP / (TP + FN)\n",
    "        f1_score = (2 * precision * recall) / (precision + recall)\n",
    "\n",
    "        return accuracy_none, accuracy, precision, recall, f1_score\n",
    "\n",
    "    def draw_parameters(self):\n",
    "        num = len(self.labels.keys())\n",
    "        plt.figure(figsize=(20, 10))\n",
    "        plt.title(\"Classification Methods\")\n",
    "        plt.plot(self.modes, [sum(x) / num for x in self.accuracies_none], '-o', label=\"Accuracy\", linewidth=2, color='red')\n",
    "        plt.plot(self.modes, [sum(x) / num for x in self.precisions], '-o', label=\"Precision\", linewidth=2, color='blue')\n",
    "        plt.plot(self.modes, [sum(x) / num for x in self.recalls], '-o', label=\"Recall\", linewidth=2, color='black')\n",
    "        plt.plot(self.modes, [sum(x) / num for x in self.f1_scores], '-o', label=\"F1_score\", linewidth=2, color='magenta')\n",
    "        plt.legend()\n",
    "        plt.show()\n",
    "\n",
    "    def draw_parameter_table(self):\n",
    "        table = PrettyTable([self.mode, 'Video games', 'Health & Beauty', 'Science & Technology', 'Art & Cinema', 'All classes'])\n",
    "        table.add_row(['Precision', f'{self.precisions[self.index][0]:5.2f}',f'{self.precisions[self.index][1]:5.2f}',\n",
    "                       f'{self.precisions[self.index][2]:5.2f}', f'{self.precisions[self.index][3]:5.2f}','-'])\n",
    "\n",
    "        table.add_row(['Recall', f'{self.recalls[self.index][0]:5.2f}', f'{self.recalls[self.index][1]:5.2f}',\n",
    "                       f'{self.recalls[self.index][2]:5.2f}', f'{self.recalls[self.index][3]:5.2f}', '-'])\n",
    "\n",
    "        table.add_row(['F1-score', f'{self.f1_scores[self.index][0]:5.2f}', f'{self.f1_scores[self.index][1]:5.2f}',\n",
    "                       f'{self.f1_scores[self.index][2]:5.2f}', f'{self.f1_scores[self.index][3]:5.2f}', '-'])\n",
    "\n",
    "        table.add_row(['Accuracy','-','-','-','-',f'{self.accuracies_none[self.index][0]:5.2f}'])\n",
    "        table.add_row(['Macro Avg', '-', '-', '-', '-', f'{self.compute_accuracy_macro():5.2f}'])\n",
    "        table.add_row(['Micro Avg', '-', '-', '-', '-', f'{self.accuracies_none[self.index][0]:5.2f}'])\n",
    "        table.add_row(['Weighted Avg', '-', '-', '-', '-', f'{self.compute_weighted_macro():5.2f}'])\n",
    "\n",
    "        print(table)\n",
    "\n",
    "    def compute_accuracy_macro(self):\n",
    "        num = len(self.labels.keys())\n",
    "        return sum(self.accuracies[self.index]) / num\n",
    "\n",
    "    def compute_weighted_macro(self):\n",
    "        num = self.confusion_matrix.sum().sum()\n",
    "        return (self.confusion_matrix.sum(axis=0).to_numpy() * np.array(self.accuracies[self.index])).sum() / num\n",
    "\n",
    "    def draw_compare_classification_table(self):\n",
    "        table = PrettyTable([\"Classification Method\", \"Accuracy\", \"Precision\", \"Recall\", \"F1_score\"])\n",
    "        num = len(self.labels.keys())\n",
    "        for i in range(num):\n",
    "            table.add_row([self.modes[i], f'{(sum(self.accuracies_none[i]) / num):5.2f}', f'{(sum(self.precisions[i]) / num):5.2f}',\n",
    "                           f'{(sum(self.recalls[i]) / num):5.2f}', f'{(sum(self.f1_scores[i]) / num):5.2f}'])\n",
    "        print(table)\n",
    "\n",
    "    def store_wrongly_detected(self):\n",
    "        counter = 0\n",
    "        for index, row in self.test.iterrows():\n",
    "            if row['label'] != row['guess']:\n",
    "                counter += 1\n",
    "                self.wrongly_samples.append([row['content'], row['label'], row['guess']])\n",
    "                if counter == WRONGLY_COUNT:\n",
    "                    break\n",
    "\n",
    "    def print_wrongly_samples(self):\n",
    "        for i in range(WRONGLY_COUNT):\n",
    "            print(i + 1, DASH)\n",
    "            print('Content:', self.wrongly_samples[i][0])\n",
    "            print('Actual:', self.wrongly_samples[i][1], STARS, 'Detected:', self.wrongly_samples[i][2])\n",
    "\n",
    "    def print_evaluation_result(self):\n",
    "        num = len(self.labels.keys())\n",
    "        print()\n",
    "        print(STARS, self.mode, STARS)\n",
    "        print(f'Accuracy: {(sum(self.accuracies_none[self.index]) / num):5.2f}')\n",
    "        print(f'Precision: {(sum(self.precisions[self.index]) / num):5.2f}')\n",
    "        print(f'Recall: {(sum(self.recalls[self.index]) / num):5.2f}')\n",
    "        print(f'F1_score:  {(sum(self.f1_scores[self.index]) / num):5.2f}')\n",
    "\n",
    "    def start(self):\n",
    "        if self.apply_preprocessing:\n",
    "            self.preprocess()\n",
    "        else:\n",
    "            self.train['content'] = self.train['content'].apply(self.preprocessor.just_tokenize)\n",
    "            self.test['content'] = self.test['content'].apply(self.preprocessor.just_tokenize)\n",
    "\n",
    "        self.extract_words()\n",
    "        self.compute_frequencies()\n",
    "        if self.apply_preprocessing and self.apply_smoothing:\n",
    "            self.repeat_the_word_5_times()\n",
    "            self.draw_histogram_5_word()\n",
    "        self.compute_probabilities()\n",
    "        self.classify()\n",
    "        self.evaluate_model()\n",
    "\n",
    "        self.print_evaluation_result()\n",
    "        if self.apply_preprocessing and self.apply_smoothing:\n",
    "            self.store_wrongly_detected()\n",
    "\n",
    "        if self.apply_preprocessing :\n",
    "            self.draw_parameter_table()\n",
    "\n",
    "        if len(self.modes) == 4 :\n",
    "            self.draw_compare_classification_table()"
   ]
  },
  {
   "cell_type": "markdown",
   "id": "5f8dde52",
   "metadata": {
    "direction": "rtl"
   },
   "source": [
    "## بررسی صحت\n",
    "### سوال 6\n",
    "در ادامه 5 کلمه پرتکرار در هر گروه نمایش داده شده است همچنین متریک های ارزیابی نیز برای حالنی که preprocess و smoothing فعال می باشد نمایش داده شده است. "
   ]
  },
  {
   "cell_type": "code",
   "execution_count": 11,
   "id": "957cc084",
   "metadata": {},
   "outputs": [
    {
     "name": "stdout",
     "output_type": "stream",
     "text": [
      "\n",
      " ******  Preprocessing & Smoothing  ****** \n",
      "Accuracy: 92.52\n",
      "Precision: 92.28\n",
      "Recall: 92.53\n",
      "F1_score:  92.31\n",
      "+---------------------------+-------------+-----------------+----------------------+--------------+-------------+\n",
      "| Preprocessing & Smoothing | Video games | Health & Beauty | Science & Technology | Art & Cinema | All classes |\n",
      "+---------------------------+-------------+-----------------+----------------------+--------------+-------------+\n",
      "|         Precision         |    95.51    |      87.79      |        93.88         |    91.95     |      -      |\n",
      "|           Recall          |    86.29    |      93.79      |        94.22         |    95.81     |      -      |\n",
      "|          F1-score         |    90.67    |      90.69      |        94.05         |    93.84     |      -      |\n",
      "|          Accuracy         |      -      |        -        |          -           |      -       |    92.52    |\n",
      "|         Macro Avg         |      -      |        -        |          -           |      -       |    96.26    |\n",
      "|         Micro Avg         |      -      |        -        |          -           |      -       |    92.52    |\n",
      "|        Weighted Avg       |      -      |        -        |          -           |      -       |    96.19    |\n",
      "+---------------------------+-------------+-----------------+----------------------+--------------+-------------+\n",
      "\n",
      "Time: 127.13470840454102 seconds\n"
     ]
    },
    {
     "data": {
      "image/png": "[encoded data removed]",
      "text/plain": [
       "<Figure size 1080x1080 with 4 Axes>"
      ]
     },
     "metadata": {
      "needs_background": "light"
     },
     "output_type": "display_data"
    }
   ],
   "source": [
    "classifier = Classifier()\n",
    "\n",
    "start = time.time()\n",
    "classifier.initialize(train, test, PREPROCESS_AND_SMOOTH)\n",
    "classifier.start()\n",
    "end = time.time()\n",
    "print(f'\\nTime: {(end - start)} seconds')"
   ]
  },
  {
   "cell_type": "markdown",
   "id": "cfe764ce",
   "metadata": {
    "direction": "rtl"
   },
   "source": [
    "## فاز سوم: ارزیابی\n",
    "### سوال 7\n",
    "Precision : وقتی‌که مدل، نتیجه را مثبت پیش‌بینی می‌کند، این نتیجه تا چه اندازه درست است؟ زمانیکه FP بالا باشد، معیار صحت معیار مناسبی است. فرض می‌شود مدلی برای تشخیص سرطان وجود دارد و این مدل Precision پایینی داشته باشد. نتیجه امر این است که این مدل بیماری بسیاری از افراد را به اشتباه سرطان تشخیص می‌دهد که نتیجه این امر استرس زیاد، آزمایش‌های فراوان و هزینه‌های گزاف برای بیمار خواهد بود. در این مدل، اگر معیار Recall بالا باشد بهتر است. در نقطه مقابل پارامتر Precision، معیار Recall می‌باشد و مواقعی که دقت کلاس منفی حائز اهمیت است یعنی FN مهم است معیار Recall استفاده خواهد شد. فرض شود مدلی برای تشخیص بیماری کشنده کرونا وجود دارد اگر این مدل Recall پایینی داشته باشد افراد زیادی که آلوده به این بیماری کشنده هستند را سالم در نظر می‌گیرد و این فاجعه است. در این حالت Recall از Precision بهتر عمل می‌کند. \n",
    "\n",
    "### سوال 8\n",
    "F1-score از میانگین هارمونی Precision و Recall استفاده می‌نماید. این میانگین‌گیری موجب می‌شود که بتوان به ترکیب مقادیر Precision و Recall برای ارزیابی مناسب اعتماد کرد.مشابه میانگین حسابی، F1-score همیشه جایی بین دقت و یادآوری خواهد بود. اما رفتار متفاوتی دارد F1-score به اعداد کمتر وزن بیشتری می دهد به عنوان مثال، زمانی که دقت 100٪ و Recall برابر 0% باشد،  F1-score برابر 0٪ خواهد بود و نه 50٪.\n",
    "\n",
    "### سوال 9\n",
    "در حالت macro مقادیر متمایز بدست آمده برای هر کلاس برای یک داده (که می‌تواند Precision و Recall یا F1 باشد) با یکدیگر جمع و بر تعداد کل کلاس‌ها تقسیم می‌شود.  \n",
    "در حالت micro از رابطه TP/(TP+FP) استفاده می‌شود که TP برابر کل پیش‌بینی‌های درست و FP برابر کل پیش‌بینی‌های نادرست است و در نهایت TP+FP برابر همان تعداد کل داده‌ها است. این میانگین برابر با همان accuracy خواهد شد.  \n",
    "در حالت weighted مقادیر متمایز بدست آمده برای هر کلاس برای یک داده (که می‌تواند Precision و Recall یا F1 باشد) در تعداد کل داده‌های آن کلاس ضرب و سپس با یکدیگر جمع می‌شود و در نهایت بر تعداد کل کلاس‌ها تقسیم خواهد شد."
   ]
  },
  {
   "cell_type": "markdown",
   "id": "7847dc37",
   "metadata": {
    "direction": "rtl"
   },
   "source": [
    "### سوال 10\n",
    "در ادامه دو حالتی که smooth فعال باشد و نباشد با هم مقایسه شده است همان طور که مشاهده می‌شود تاثیر فعال بودن smooth  خیلی به بهتر شدن نتیجه کمک می‌کند و دقت نسبتا خوبی در مقایسه با حالتی که فقط preprocess  فعال بوده به دست آمده است. "
   ]
  },
  {
   "cell_type": "code",
   "execution_count": 12,
   "id": "87ec517f",
   "metadata": {},
   "outputs": [
    {
     "name": "stdout",
     "output_type": "stream",
     "text": [
      "\n",
      " ******  Preprocessing  ****** \n",
      "Accuracy: 51.25\n",
      "Precision: 71.20\n",
      "Recall: 50.63\n",
      "F1_score:  50.56\n",
      "+---------------+-------------+-----------------+----------------------+--------------+-------------+\n",
      "| Preprocessing | Video games | Health & Beauty | Science & Technology | Art & Cinema | All classes |\n",
      "+---------------+-------------+-----------------+----------------------+--------------+-------------+\n",
      "|   Precision   |    34.01    |      65.08      |        93.60         |    92.11     |      -      |\n",
      "|     Recall    |    92.89    |      25.47      |        42.24         |    41.92     |      -      |\n",
      "|    F1-score   |    49.80    |      36.61      |        58.21         |    57.61     |      -      |\n",
      "|    Accuracy   |      -      |        -        |          -           |      -       |    51.25    |\n",
      "|   Macro Avg   |      -      |        -        |          -           |      -       |    75.62    |\n",
      "|   Micro Avg   |      -      |        -        |          -           |      -       |    51.25    |\n",
      "|  Weighted Avg |      -      |        -        |          -           |      -       |    75.23    |\n",
      "+---------------+-------------+-----------------+----------------------+--------------+-------------+\n",
      "\n",
      "Time: 130.79160237312317 seconds\n"
     ]
    }
   ],
   "source": [
    "start = time.time()\n",
    "classifier.initialize(train, test, JUST_PREPROCESS)\n",
    "classifier.start()\n",
    "end = time.time()\n",
    "print(f'\\nTime: {(end - start)} seconds')"
   ]
  },
  {
   "cell_type": "code",
   "execution_count": 17,
   "id": "cb446dcf",
   "metadata": {},
   "outputs": [
    {
     "name": "stdout",
     "output_type": "stream",
     "text": [
      "+---------------------------+-------------+-----------------+----------------------+--------------+-------------+\n",
      "| Preprocessing & Smoothing | Video games | Health & Beauty | Science & Technology | Art & Cinema | All classes |\n",
      "+---------------------------+-------------+-----------------+----------------------+--------------+-------------+\n",
      "|         Precision         |    95.51    |      87.79      |        93.88         |    91.95     |      -      |\n",
      "|           Recall          |    86.29    |      93.79      |        94.22         |    95.81     |      -      |\n",
      "|          F1-score         |    90.67    |      90.69      |        94.05         |    93.84     |      -      |\n",
      "|          Accuracy         |      -      |        -        |          -           |      -       |    92.52    |\n",
      "|         Macro Avg         |      -      |        -        |          -           |      -       |    96.26    |\n",
      "|         Micro Avg         |      -      |        -        |          -           |      -       |    92.52    |\n",
      "|        Weighted Avg       |      -      |        -        |          -           |      -       |    96.19    |\n",
      "+---------------------------+-------------+-----------------+----------------------+--------------+-------------+\n"
     ]
    }
   ],
   "source": [
    "index = classifier.index\n",
    "mode = classifier.mode\n",
    "classifier.index = 0\n",
    "classifier.mode = 'Preprocessing & Smoothing'\n",
    "classifier.draw_parameter_table()\n",
    "classifier.index = index\n",
    "classifier.mode = mode"
   ]
  },
  {
   "cell_type": "markdown",
   "id": "27d5499d",
   "metadata": {
    "direction": "rtl"
   },
   "source": [
    "### سوال 11\n",
    "وقتی فقط preprocessing انجام می شود چون تعداد کلمات مقاله زیاد است احتمال اینکه در قاعده ضرب نتیجه صفر شود بیشتر است و خطا در این حالت نسبت به زمانی که smooth فعال می شود خیلی بیشتر است نتایجی که در حالت just smooth  بدست امده است هم از نتیجه just preprocess خیلی بهتر است."
   ]
  },
  {
   "cell_type": "code",
   "execution_count": 13,
   "id": "1bee5458",
   "metadata": {},
   "outputs": [
    {
     "name": "stdout",
     "output_type": "stream",
     "text": [
      "\n",
      " ******  Smoothing  ****** \n",
      "Accuracy: 77.31\n",
      "Precision: 76.74\n",
      "Recall: 77.58\n",
      "F1_score:  76.73\n",
      "\n",
      "Time: 5.4563376903533936 seconds\n"
     ]
    }
   ],
   "source": [
    "start = time.time()\n",
    "classifier.initialize(train, test, JUST_SMOOTH)\n",
    "classifier.start()\n",
    "end = time.time()\n",
    "print(f'\\nTime: {(end - start)} seconds')"
   ]
  },
  {
   "cell_type": "markdown",
   "id": "895dbe32",
   "metadata": {
    "direction": "rtl"
   },
   "source": [
    "حالتی که نه preprocess و نه smooth فعال باشد نیز برای مقایسه تست شد و نتیجه در جدول زیر آمده‌است همان‌طور که انتظار می‌رفت این حالت دارای کمترین متریک می‌باشد."
   ]
  },
  {
   "cell_type": "code",
   "execution_count": 18,
   "id": "da023aae",
   "metadata": {},
   "outputs": [
    {
     "name": "stdout",
     "output_type": "stream",
     "text": [
      "\n",
      " ******  Nothing  ****** \n",
      "Accuracy: 38.53\n",
      "Precision: 72.66\n",
      "Recall: 37.74\n",
      "F1_score:  32.34\n",
      "+---------------------------+----------+-----------+--------+----------+\n",
      "|   Classification Method   | Accuracy | Precision | Recall | F1_score |\n",
      "+---------------------------+----------+-----------+--------+----------+\n",
      "| Preprocessing & Smoothing |  92.52   |   92.28   | 92.53  |  92.31   |\n",
      "|       Preprocessing       |  51.25   |   71.20   | 50.63  |  50.56   |\n",
      "|         Smoothing         |  77.31   |   76.74   | 77.58  |  76.73   |\n",
      "|          Nothing          |  38.53   |   72.66   | 37.74  |  32.34   |\n",
      "+---------------------------+----------+-----------+--------+----------+\n",
      "\n",
      "Time: 5.467846632003784 seconds\n"
     ]
    }
   ],
   "source": [
    "start = time.time()\n",
    "classifier.initialize(train, test, NOTHING)\n",
    "classifier.start()\n",
    "end = time.time()\n",
    "print(f'\\nTime: {(end - start)} seconds')"
   ]
  },
  {
   "cell_type": "markdown",
   "id": "feb4939a",
   "metadata": {
    "direction": "rtl"
   },
   "source": [
    "### سوال 12\n",
    "تعداد کلمات مقاله زیاد می باشد بنابراین ماکزیمم از 75 کلمه در دیتا ست test برای prediction استفاده شده است که این امر می‌تواند موجب خطا شود از طرفی در مدل نیز ساده سازی صورت گرفته و در آن کلمات یک جمله مستقل از هم در نظر گرفته شده است که در واقعیت نمی توان کلمات یک جمله را نسبت به هم مستقل در نظر گرفت.\n",
    "با این حال با کمک smooth و preprocess نتایج خوبی به دست آمده است."
   ]
  },
  {
   "cell_type": "code",
   "execution_count": 21,
   "id": "629f0747",
   "metadata": {},
   "outputs": [
    {
     "name": "stdout",
     "output_type": "stream",
     "text": [
      "1 -\n",
      "Content: ['گوگل', 'استیدیا', 'آینده', 'صنعت', 'بازی', 'محکوم', 'شکست', 'ماه', 'خرده', 'گوگل', 'بلاخره', 'مدت', 'معرفی', 'تبلیغ', 'تیزر', 'سرویس', 'استیدیا', 'عرضه', 'عرضه', 'پلتفرم', 'ابری', 'شگفتی', 'فاجعه', 'بار', 'عرضه', 'تاریخ', 'صنعت', 'بازی', 'بدل', 'تعداد', 'اندک', 'کاربرانی', 'سرویس', 'استقبال', 'اپلیکیشن', 'استیدیا', 'دانلود', 'دانست&دان', 'تعداد', 'دانلود', 'کنجکاوی', 'برنامگی', 'گوگل', 'ارسال', 'کد', 'لازم', 'بزرگی', 'کسانیکه', 'سرویس', 'خرید', 'یکدست', 'نبودن', 'تجربه', 'کاربری', 'شهادت', 'توجه', 'کاربر', 'تاخیر', 'بازی', 'پلتفرم', 'ممکن', 'قیمت', 'گران', 'بازی', 'نسبت', 'پلتفرمها', 'کیفیت', 'پایین', 'تصویر', 'قیاس', 'کنسول', 'نسل', 'اجرا', 'بازی', 'رزولوشن', 'علی', 'رغم', 'وعده', 'گوگل', 'ادامه', 'انتشار', 'نسخه', 'قدیمی', 'رده', 'بوردرلندز', 'گوشه', 'افتضاح', 'تفاسیر', 'پلتفرم', 'امید', 'فراوان', 'بسته', 'آینده', 'صنعت', 'بازی', 'ادامه', 'نگاه', 'مفهوم', 'بازی', 'ابری', 'بررسی', 'پروژه', 'استیدیای', 'گوگل', 'صحت', 'سقم', 'ادعا', 'بررسی', 'بازی', 'ابری', 'پردازش', 'اطلاعات', 'دهه', 'پنجاه', 'شصت', 'حدودی', 'هفتاد', 'میلادی', 'منطق', 'خاصی', 'پیروی', 'دلیل', 'گران', 'محدودیت', 'منبع', 'پردازش', 'شکل', 'مرکزی', 'ده', 'سرور', 'مرکزی', 'مجموعه', 'گیرنده', 'کلا', 'ترمینال', 'نامیده', 'سرویس', 'منطق', 'ترمینالها', 'عبارت', 'واحد', 'ورودی', 'خروجی', 'اطلاعات', 'خام', 'کیبرد', 'سرور', 'مرکزی', 'ارسال', 'نتیجه', 'پردازش', 'خروجی', 'مانیتور', 'دریافت', 'ارزان', 'منبع', 'لازم', 'پردازش', 'اطلاعات', 'پردازنده', 'مرکزی', 'رم', 'غیره', 'پردازش', 'محلی', 'سوق', 'دستگاه', 'آرکید', 'درز', 'کنسول', 'خانگی', 'اودیسه', 'سیستمی', 'خانه', 'وارد', 'منبع', 'لازم', 'اعم', 'پردازنده', 'رم', 'غیره', 'محلی', 'مهیا', 'کنسول', 'اودیسه', 'تجارت', 'پرسودی', 'آغاز', 'نمود', 'کنسول', 'مهم', 'آتاری', 'فامیکام', '=', 'دهه', 'نود', 'انفجار', 'کامپیوتر', 'شخصی', 'مفهوم', 'پردازش', 'محلی', 'شیوه', 'غالب', 'پردازش', 'اطلاعات', 'بازی', 'ویدیویی', 'بدل', 'ساخت', 'پردازش', 'ابری', 'اعم', 'سرویس', 'بازی', 'ابری', 'اخص', 'بازگشت', 'منطق', 'طلوع', 'کامپیوتر', 'منطق', 'جایگاه', 'کلا', 'ترمینال', 'قرار', 'ارسال', 'اطلاعات', 'درگاه', 'ورودی', 'ترمینال', 'کلیک', 'آهنگ', 'فیلم', 'دکمه', 'گیم', 'پد', 'نتیجه', 'پردازش', 'شکل', 'پخش', 'آهنگ', 'فیلم', 'واکنش', 'بازی', 'خروجی', 'ترمینال', 'دریافت', 'نیاز', 'هرگونه', 'پردازش', 'محلی', 'منبع', 'لازم', 'پردازش', 'رود', 'پیشینه', 'سرویس', 'بازی', 'ابریدر', 'مراسم', 'سال', 'سرویس', 'جدیدی', 'معرفی', 'سرویس', 'قرار', 'کمک', 'شبکه', 'اینترنت', 'لطف', 'سرور', 'قدرتمند', 'گیمرها', 'کامپیوتر', 'کنسول', 'نیاز', 'شرکت', 'معظم', '&', 'سرمایه', 'گذار', 'اصلی', 'سرویس', 'سرویس', 'سال', 'استقبال', 'فعال', 'صنعت', 'کار', 'آغاز', 'هزینه', 'اشتراک', 'ماهانه', 'سرویس', 'دلار', 'گستره', 'عظیم', 'دستگاه', 'رساند&رسان', 'جمله', 'کامپیوتر', 'شخصی', 'اپل', 'مکینتاش', 'گوشی', 'هوشمند', 'تبلت', 'تلویزیون', 'اندرویدی', 'تلویزیون', 'آداپتوری', 'مخصوص', 'شرکت', 'سال', 'آمریکا', 'انگلستان', 'گسترش', 'تحلیلگر', 'بازار', 'ارزش', 'شرکت', 'دلار', 'تخمین', 'زد&زن', 'اینحال', 'فعال', 'صنعت', 'بازی', 'روزنامه', 'نگار', 'حوزه', 'بازی', 'نسبت', 'کیفیت', 'مشکوک', 'نشریه', 'بلا', 'اشاره', 'مشتری', 'سرویس', 'اتصال', 'اینترنتی', 'تضمین', 'اشتراکی', 'سرعت', 'وقفه', 'اتصال', 'باکیفیت', 'نیاز', 'هیچیک', 'شرکت', 'ده', 'اینترنتی', 'تضمین', 'بررسی', 'نتیجه', 'سرویس', 'تجربه', 'ناخوشایند', 'ارائه', 'جایگزینی', 'تجارب', 'محلی', 'گذر', 'درستی', 'تشکیکات', 'ثابت', 'نمود', 'شرکت', 'دلاری', 'سال', 'سال', 'آغاز', 'کار', 'قیمت', 'دلار', 'فروش', 'نهایت', 'سال', 'شرکت', 'سونی', 'شرکت', 'همراه', 'های', 'خریداری', 'موجی', 'انداخت&انداز', 'رشدی', 'شرکت', 'ظرف', 'دید', 'ادامه', 'ترغیب', 'نمود', 'کوتاهی', 'دوجین', 'شرکت', 'خدماتی', 'مشابه', 'منصه', 'ظهور', 'سرویس', 'ورشکست', 'شکل', 'محدود', 'ارائه', 'سرویس', 'توجه', 'ارائه', 'اولی', 'سال', 'مرحله', 'بتاست', 'دومی', 'گزینه', 'تکمیلی', 'تجارت', 'پر', 'سود', 'سونی', 'شکل', 'محدود', 'سرویس', 'دلیل', 'اقبال', 'توسعه', 'ده', 'ناشر', 'بازی', 'ابریمسئله', 'دزدییکی', 'مهم', 'مشکلاتی', 'توسعه', 'ده', 'ناشر', 'بازی', 'ویدیویی', 'روبرو', 'مشکل', 'سرقت', 'بازی', 'بازار', 'کامپیوتر', 'شخصی', 'آنجا', 'اجرا', 'بازی', 'محلی', 'شرایط', 'رسانه', 'فیزیکی', 'دیسک', 'دانلود', 'بازی', 'فروشگاه', 'دیجیتال', 'برنامه', 'بازی', 'دسترس', 'قرار', 'امکان', 'سرقت', 'فراهم', 'دهه', 'ناشر', 'بازی', 'انواع', 'راهکار', 'ضدسرقت', 'قفل', 'نرم', 'افزاری', 'پیچیده', 'الگوریتم', 'ضدسرقت', 'گروه', 'هک', 'چالاکتر', 'جاییکه', 'ناشر', 'بازی', 'حالت', 'امید', 'بازی', 'روزی', 'هک', 'امان', 'اتفاقی', 'ظرف', 'ساعت', 'رخ', 'بواسطه', 'سرقت', 'بازی', 'استودیو', 'بازیسازی', 'ناشر', 'توجه', 'درآمد', 'دست', 'دهنداین', 'مشکل', 'کنسول', 'بازی', 'شکل', 'هک', 'افزار', 'کنسول', 'اتفاق', 'کنسول', 'سخت', 'نسل', 'هفتم', 'کنسول', 'ایکس', 'باکس', 'نظر', 'کوتاهی', 'هک', 'توجه', 'درآمد', 'مایکروسافت', 'واسطه', 'کپی', 'خور', 'کنسول', 'دست', 'مسئله', 'بازار', 'دست', 'دوممسئله', 'تولید', 'کننده', 'ناشر', 'بازی', 'بازار', 'دست', 'بازاری', 'پر', 'رونق', 'چندی', 'اصلی', 'درآمد', 'فروشگاه', 'زنجیره', 'گیم', 'استاپ', 'هزاران', 'شعبه', 'جهان', 'تامین', 'سود', 'سرشار', 'گیم', 'استاپ', 'تنهایی', 'فروش', 'دیسک', 'واحد', 'جیب', 'زد&زن', 'قرانی', 'نصیب', 'توسعه', 'ده', 'ناشر', 'دقبقا', 'دلیل', 'فعال', 'صنعت', 'تلاش', 'خریدار', 'فروشگاه', 'دیجیتال', 'سوق', 'تغییر', 'ذائقه', 'بزرگی', 'خریدار', 'رسانه', 'فیزیکی', 'دجیتال', 'نسل', 'هشتم', 'سقوط', 'فروشگاه', 'گیم', 'اسپات', 'رقم', 'زد', 'سرویس', 'بازی', 'ابری', 'یکبار', 'مسائل', 'حل', 'آنجا', 'پردازش', 'بازی', 'سرور', 'پذیرفت&پذیر', 'کد', 'منبع', 'بازی', 'ابزار', 'پردازش', 'دسترس', 'نتیجتا', 'امکان', 'سرقت', 'رسانه', 'فیزیکی', 'بازار', 'دست', 'دومی', 'بازی', 'ابتیاع', 'مراجع', 'مربوطه', 'گوگل', 'استیدیااما', 'شیوه', 'سرویس', 'بازی', 'ابری', 'دسترسی', 'کتابخانه', 'بازی', 'هاست', 'بواسطه', 'پرداخت', 'مبلغ', 'ماهانه', ')،', 'دسترس', 'قرار', 'منبع', 'افزاری', 'کاربر', 'بازی', 'نصب', 'گوگل', 'پروژه', 'استیدیا', 'برگزیده', 'عضویت', 'سرویس', 'کتابخانه', 'بازی', 'بازی', 'دسترسی', 'مستقلا', 'خریداری', 'نمایید', 'کسانیکه', 'اشتراک', 'ماهیانه', 'پرداخت', 'تخفیفا', 'بازی', 'رایگان', 'نظر', 'سرویس', 'شرایط', 'خاص', 'طلب', 'ماهه', 'انداخت&انداز', 'گذشت&گذر', 'کفایت', 'باب', 'صحبت', 'نیازمندی', 'لازم', 'اینفوگراف', 'مشاهده', 'منافع', 'مضار', 'سرویس', 'ابری', 'استیدیا', 'مصرف', 'کننده', 'جامعه', 'گیمینگبازی', 'ابری', 'اعم', 'گوگل', 'استیدیا', 'اخص', 'منافع', 'مضاری', 'مصرف', 'نهایی', 'جامعه', 'گیمینگ', 'سبک', 'سنگین', 'پرداخت', 'منافع', 'نیاز', 'افزار', 'محلیمهمترین', 'مشخصه', 'سود', 'بازی', 'ابری', 'مصرف', 'کننده', 'گوگل', 'تاکید', 'نیاز', 'افزار', 'محلی', 'سرویس', 'صرف', 'دسترسی', 'صفحه', 'نمایش', 'بازی', 'کفایت', 'شر', 'هزینه', 'دلاری', 'کنسول', 'کامپیوتر', 'مخصوص', 'بازی', 'خلاص', 'عین', 'حالیکه', 'بازی', 'بالاترین', 'کیفیت', 'نظرا', 'اختیار', 'بدیهی', 'سرویس', 'نوبه', 'خرج', 'مصرف', 'کننده', 'تراشید&تراش', 'ادامه', 'پرداخت', 'دسترسی', 'پردامنه', 'بازی', 'هااگر', 'شرایط', 'ایده', 'آل', 'نظر', 'مهم', 'مهم', 'برتری', 'سرویس', 'ابری', 'بازی', 'نسبت', 'پلتفرمها', 'قابلیت', 'انعطاف', 'پلتفرم', 'قیاس', 'سایر', 'معنا', 'شرایط', 'بازی', 'دسترسی', 'کافیست', 'گوشی', 'هوشمند', 'همراه', 'مترو', 'اتوبوس', 'قطار', 'پارک', 'منزل', 'دوست', 'آشنا', 'بواسطه', 'اینترنت', 'پرسرعت', 'بازی', 'دسترسی', 'بدیهی', 'قضیه', 'روایت', 'ساده', 'پیچیده', 'اینترنت', 'عمومی', 'کیفیت', 'اینترنت', 'پرسرعت', 'موبایل', 'گران', 'کیفیت', 'اینترنت', 'موبایل', 'حرکت', 'مداوم', 'دچار', 'تغییر', 'افت', 'نتیجه', 'تجربه', 'کاربری', 'قیاس', 'کنسول', 'دستی', 'خوشایند', 'حذف', 'دردسرهاسرویسهای', 'بازی', 'ابری', 'توجه', 'دردسر', 'پردازش', 'محلی', 'حذف', 'سرویس', 'زمانیکه', 'بازی', 'اراده', 'قرار', 'محیط', 'بازی', 'دقیقه', 'وقت', 'نیاز', 'دردسر', 'روشن', 'بوت', 'کامپیوتر', 'کنسول', 'دانلود', 'بازی', 'نصب', 'آپدیتهای', 'مهم', 'لودهای', 'طولانی', 'شایعه', 'نظر', 'رسید&رس', 'نسل', 'آتی', 'کنسول', 'دلیل', 'حافظه', 'حالت', 'جامد', 'توجه', 'دردسر', 'حذف', 'اینحال', 'بازی', 'ابری', 'چالاکتر', 'قابلیت', 'Shareعلاوه', 'یاد', 'سرویس', 'استیدیا', 'قابلیت', 'خاص', 'ارائه', 'قابلیت', 'امکان', 'اشتراک', 'فایل', 'ذخیره', 'بازی', 'جامعه', 'مشخص', 'فراهم', ')،', 'قابلیت', 'اختیار', 'استریمرهای', 'یوتیوب', 'قرار', 'تماشاگر', 'اس', 'بازی', 'صفی', 'قرار', 'امکان', 'وارد', 'بازی', 'فراهم', 'اشاره', 'پیاده', 'قابلیت', 'کنسول', 'غریبی', 'نیازی', 'تکنولوژی', 'ابری', 'حساب', 'آینده', 'ویژگی', 'دست', 'کنسول', 'کامپیوتر', 'شخصی', 'دید&بین', 'مضار', 'تاخیر', 'تاخیر', 'جدایی', 'ناپذیر', 'پردازش', 'بازی', 'ویدیویی', 'مستقل', 'چگونگی', 'پردازش', 'اطلاعات', 'بصورت', 'محلی', 'بصورت', 'ابری', 'چرخه', 'منجر', 'ایجاد', 'وقفه', 'ساده', 'حالت', 'عبارتست', 'ارسال', 'اطلاعات', 'کنترلر', 'پردازنده', 'پردازش', 'ارسال', 'اطلاعات', 'پردازش', 'خروجی', 'تلویزیون', 'مانیتور', ')،', 'نهایت', 'نمایش', 'اطلاعات', 'خروجی', 'پردازش', 'ابری', 'فرض', 'ورودی', 'کنترلر', 'خروجی', 'تلویزیون', 'مانیتور', 'مستقلا', 'اینترنت', 'متصل', 'چرخه', 'پردازش', 'ارسال', 'اطلاعات', 'کنترلر', 'مودم', 'گره', 'آغاز', 'اطلاعات', 'عبور', 'گره', 'بستر', 'اینترنت', 'اعم', 'هاب', 'رو', 'سوییچ', 'دیتاسنتر', 'رسید&رس', 'مکان', 'اطلاعات', 'پردازش', 'بستر', 'اینترنت', 'دستگاه', 'خروجی', 'ارسال', 'محاسبات', 'برگشت', 'اطلاعات', 'بستر', 'اینترنت', 'شرایط', 'ایده', 'آل', 'واقعگرایانه', 'میلی', 'ثانیه', 'تاخیر', 'ایجاد', 'فراموش', 'مفهوم', 'تاخیر', 'مشهور', 'حدودی', 'تفاوت', 'تاخیر', 'نتیجه', 'فاصله', 'موقعیت', 'مکانی', 'ارسال', 'دیتا', 'سن', 'کابل', 'فیبر', 'نوری', 'کیلومتر', 'میلی', 'ثانیه', 'تاخیر', 'تاخیر', 'نتیجه', 'فرآیند', 'رمزگشایی', ')،', 'پردازش', 'رمزگذاری', 'گره', 'بدیهی', 'محاسبه', 'تاخیر', 'مراتب', 'پیچیده', 'عامل', 'نرخ', 'فریم', 'ثانیه', 'ایجاد', 'دخیل', 'اینحال', 'تقریبی', 'اس', 'بستر', 'اینترنت', 'شرایط', 'تاخیر', 'میلی', 'ثانیه', 'اضافه', 'آزمون', 'دیجیتال', 'فاندری', 'تاخیر', 'میلی', 'ثانیه', 'سرویس', 'اینترنتی', 'مگابیتی', 'گیگابیتی', 'مسئله', 'بعدی', 'طبیعت', 'الگوریتم', 'مسیریابی', 'نحوه', 'گذر', 'بستر', 'اینترنت', 'بازمی', 'شبکه', 'پرترافیک', 'بسته', 'مسیر', 'مسیر', 'گم', 'خراب', 'امری', 'محتمل', 'محتوم', 'نتیجه', 'باثبات', 'سرویس', 'اینترنتی', 'مشمول', 'سکته', 'لحظه', 'گذر', 'اطلاعات', 'اس', 'موسیقی', 'فیلم', 'راهکار', 'خلاص', 'شر', 'قطع', 'وصل', 'شدن', 'لحظه', 'بینی', 'بافر', 'بافر', 'حافظه', 'محلی', 'حجم', 'توجه', 'اطلاعات', 'محلی', 'ذخیره', 'موقع', 'قطع', 'لحظه', 'اس', 'فرآیند', 'پردازش', 'نمایش', 'فیلم', 'دچار', 'خدشه', 'گشت&گرد', 'بازی', 'ویدیویی', 'بنا', 'طبیعت', 'تعامل', 'امکان', 'بافر', 'دسته', 'ارتباطات', 'درنگ', 'ارتباطات', 'ویدیویی', 'قرار', 'آنجا', 'دسته', 'ارتباطات', 'ارتباط', 'مداوم', 'وقفه', 'نسبت', 'صحت', 'دریافتی', 'اولویت', 'قرار', 'بوجود', 'نویز', 'قطعی', 'لحظه', 'امریست', 'رخ', 'اسکایپ', 'کار', 'قضیه', 'برخورد', 'مسئله', 'مشکل', 'گوگل', 'استیدیا', 'واقع', 'سرویس', 'بازی', 'ابری', 'اضافه', 'حل', 'مشخص', 'حل', 'کیفیت', 'تصویریکی', 'مهم', 'مسائلی', 'گوگل', 'معرفی', 'سرویس', 'استیدیا', 'تاکید', 'قدرت', 'سرور', 'گوگل', 'اجرا', 'بازی', 'بالاترین', 'استاندارد', 'رزولوشن', 'نرخ', 'فریم', 'فریم', 'ثانیه', 'تبلیغات', 'انتظار', 'ایجاد', 'مبنی', 'کیفیت', 'اجرا', 'بازی', 'جمیع', 'جهات', 'کیفیت', 'گرافیکی', 'معادل', 'کنسول', 'بود&باش', 'بدتر', 'اصطلاح', 'باور', 'دامن', 'زده', 'مسئله', 'اینست', 'تصویر', 'معنی', 'کیفیت', 'دانست&دان', 'گوگل', 'صرفه', 'جوی', 'باند', 'گریزی', 'فشرده', 'اطلاعات', 'ارسالی', 'کاربر', 'استیدیا', 'مسئله', 'همراه', 'مجموعه', 'عامل', 'جمله', 'قرار', 'معلوم', 'بازی', 'استیدیا', 'برخلاف', 'تعهد', 'گوگل', 'رزولوشنهای', 'پایین', 'رندر', 'الگوریتم', 'رزولوشن', 'ارتقا', 'نهایت', 'منجر', 'افت', 'کیفی', 'توجه', 'گرافیک', 'بازی', 'قیاس', 'معادل', 'کنسول', 'نمونه', 'تصویر', 'مقایسه', 'کیفیت', 'تصویر', 'گوگل', 'استیدیا', 'ایکس', 'باکس', 'وان', 'ایکس', 'چپ', 'استیدیا', 'وان', 'ایکس', 'دقت', 'تفاوت', 'کیفی', 'قیاس', 'کنسول', 'ایکس', 'باکس', 'وان', 'ایکس', 'عرضه', 'کنسول', 'نسل', 'قدرتمند', 'وان', 'ایکس', 'اختلاف', 'فاحش', 'سقف', 'مصرف', 'منصفانهبدیهی', 'سرویس', 'استریمینگ', 'حجم', 'اینترنت', 'بلعند', 'سرویس', 'اس', 'بازی', 'گرسنه', 'گوگل', 'سرویس', 'استیدیا', 'بسته', 'رزولوشن', 'گیگابایت', 'ساعت', 'مصرف', 'نشریه', 'دسترسی', 'سرویس', 'اقدام', 'آزمودن', 'مصرفی', 'ساعت', 'نمود', 'نشریه', 'بازی', 'رزولوشن', 'نرخ', 'فریم', 'فریم', 'ثانیه', 'نمود', 'نتایج', 'بدست', 'سرویس', 'دقیقه', 'مگابایت', 'ساعت', 'گیگابایت', 'مصرف', 'نظر', 'رزولوشن', 'نرخ', 'فریم', 'خروجی', 'ارسال', 'نتیجه', 'حجم', 'مصرفی', 'استیدیا', 'بازی', 'رزولوشن', 'نرخ', 'فریم', 'فریم', 'ثانیه', 'گیگابایت', 'ساعت', 'متوسط', 'سقف', 'مصرف', 'منصفانه', 'ده', 'اینترنت', 'کشور', 'توسعه', 'آمریکا', 'شمالی', 'ایالات', 'متحده', 'کانادا', 'ماهیانه', 'ترابایت', 'کار', 'روزمره', 'اعم', 'جستجو', 'وب', 'تماشا', 'ویدیو', 'یوتیوب', 'گوش', 'سپردن', 'موسیقی', 'اسپاتیفای', 'تماشا', 'فیلم', 'نتفلیکس', 'خانوار', 'نفره', 'کافیست', 'سرویس', 'ده', 'اس', 'بازی', 'استیدیا', 'رزولوشن', 'نرخ', 'فریم', 'تبلیغی', 'گوگل', 'فریم', 'ثانیه', 'رزولوشن', 'ظرف', 'ساعت', 'سقف', 'مصرف', 'منصفانه', 'گزارش', 'موسسه', 'سال', 'میانگین', 'بازی', 'گیمر', 'جدی', 'آمریکایی', 'ساعت', 'هفته', 'معادل', 'ساعت', 'ماه', 'حساب', 'گیمر', 'متوسط', 'آمریکایی', 'فعالیت', 'اینترنتی', 'معلق', 'سقف', 'مصرف', 'استاندارد', 'امروزی', 'نیاز', 'زمانیکه', 'مسئله', 'فیل', 'هریسون', 'گذاشت&گذار', 'اتفاقا', 'جذاب', 'بازار', 'اینترنت', 'وقوع', 'پیشرفت', 'اینترنت', 'اینترنت', 'سیم', 'ثابت', 'معروف', 'الزاما', 'اینترنت', 'گوشی', 'شیوه', 'ایست', 'خانه', 'اینترنت', 'بیس', 'ثابتی', 'خبر', 'سقف', 'مصرف', 'علاوه', 'کیفیت', 'بالایی', 'هزینه', 'دلار', 'ماه', 'هزینه', 'ایست', 'شرکت', 'ورایزن', 'طلب', 'بیس', 'ثابت', 'مگابیت', 'ثانیه', 'شروع', 'گیگابایت', 'رسید&رس', 'نظر', 'ارزش', 'شک', 'جناب', 'فیل', 'هریسون', 'پرداخت', 'ماهیانه', 'دلار', 'خدماتی', 'ارزش', 'باور', 'فرمود&فرما', 'کاربر', 'گیمرهای', 'هزینه', 'کمرشکن', 'بود&باش', 'توجیه', 'اقتصادی', 'چندان', 'قضیه', 'مشکل', 'بزرگتر', 'هزینه', 'سرویس', 'هدایت', 'هزینهبخش', 'مهم', 'تبلیغات', 'گوگل', 'پلتفرم', 'استیدیا', 'نیاز', 'کاربر', 'کنسول', 'بازی', 'پرداخت&پرداز', 'لحن', 'گوگل', 'تبلیغات', 'تلویحی', 'زیرک', 'اقتصادی', 'صرفه', 'استیدیا', 'تقابل', 'شیوه', 'سنتی', 'بازی', 'اشاره', 'جالب', 'خورد', 'ایران', 'معرفی', 'پلتفرم', 'محاسبات', 'گوگل', 'تبلیغات', 'توجه', 'گیمرهای', 'ایرانی', 'نهایت', 'پیاز', 'ته', 'پیاز', 'ذوق', 'زد', 'کودکانه', 'پلتفرم', 'استقبال', 'حساب', 'لازم', 'خرج', 'کنسول', 'بازی', 'غافل', 'فرض', 'محال', 'امکان', 'پلتفرم', 'ایران', 'حاصل', 'بلند', 'هزینه', 'کنسول', 'جیب', 'مبارک', 'پرداخت&پرداز', 'اجازه', 'چتکه', 'بیاندازیم', 'مقایسه', 'نما', 'هزینه', 'پلتفرم', 'ابری', 'استیدیا', 'تقابل', 'شیوه', 'سنتی', 'کنسول', 'محور', 'شایعه', 'رمید&رم', 'قیمت', 'کنسول', 'نسل', 'نهم', 'دلار', 'طول', 'عمر', 'نسل', 'سال', 'نظر', 'دور', 'واقعیت', 'هزینه', 'ایست', 'کاربر', 'دسترسی', 'بازی', 'نیاز', 'آنلاین', 'سونی', 'مایکروسافت', 'پلتفرم', 'داران', 'بازی', 'آنلاین', 'طلب', 'نظر', 'سال', 'دلار', 'هزینه', 'اضافه', 'احتساب', 'سال', 'رقم', 'دلار', 'رسید&رس', 'حساب', 'هزینه', 'دسترسی', 'بازی', 'پرداخت', 'دلار', 'طول', 'سال', 'گذاشت&گذار', 'سراغ', 'گوگل', 'استیدیا', 'رفت&رو', 'دید&بین', 'بهره', 'بردن', 'گوگل', 'قول', 'بازی', 'رزولوشن', 'نرخ', 'فریم', 'فریم', 'ثانیه', 'کروم', 'کس', 'اولترای', 'گوگل', 'نیاز', 'دلار', 'قیمت', 'علاوه', 'تاخیر', 'رساند&رسان', 'کنترلر', 'استیدیا', 'نما', 'فای', 'مودم', 'وصل', 'شد&شو', 'دلار', 'رساندن', 'له', 'مودم', 'ارزان', 'قیمتی', 'ده', 'اینترنتی', 'رایگان', 'اختیار', 'مشتری', 'قرار', 'بزرگتر', 'اشتباه', 'مودم', 'باکیفیت', 'نمود', 'گره', 'تاخیر', 'توجه', 'ارسال', 'ایجاد', 'نمود&نما', 'مودم', 'دلار', 'شروع', 'اینترنت', 'باثبات', 'محدودیت', 'شرط', 'بهینه', 'گوگل', 'استیدیاست', 'اجازه', 'توصیه', 'جناب', 'فیل', 'هریسون', 'اینترنت', 'هزینه', 'ماهیانه', 'دلار', 'خانه', 'هزینه', 'ماهیانه', 'دلاری', 'استیدیا', 'اضافه', 'قرار', 'دلار', 'هزینه', 'گوگل', 'کروم', 'اولترا', 'دلار', 'کنترلر', 'مخصوص', 'استیدیا', 'دلار', 'مودم', '+', '+', '=', 'اینجا', 'کار', 'ایجاد', 'تجربه', 'مطلوب', 'قیاس', 'تجربه', 'کنسول', 'نیاز', 'دلار', 'افزار', 'رقم', 'اضافه', 'هزینه', 'ماهانه', 'استیدیا', 'اینترنت', 'باکیفیت', 'تایید', 'توصیه', 'فیل', 'هریسون', 'قرار', 'ماه', 'سال', '=', 'ماه', 'سال', '=', 'نهایت', 'افزار', '+', 'اشتراک', 'استیدیا', '+', 'هزینه', 'اینترنت', '=', 'اجازه', 'نفع', 'گوگل', 'استیدیا', 'نظر', 'هزینه', 'افزار', 'لازم', 'صرفنظر', 'قید', 'فریم', 'ثانیه', 'زد&زن', 'سرویس', 'رایگان', 'استدیا', 'آنجاییکه', 'سرویس', 'استیدیا', 'اشتراک', 'مستقل', 'اینترنت', 'کاربری', 'اعم', 'نتفلیکس', 'وبگردی', 'نیاز', 'اجازه', 'ارزان', 'قیمت', 'کیفیت', 'سرویس', 'موجود', 'اینکار', 'انتخاب', 'نما', 'مطابق', 'تحقیقات', 'شرکت', 'سرتاسر', 'ایالت', 'آمریکا', ']،', 'فیبر', 'نوری', 'کمتر', 'میانگین', 'قیمت', 'ازا', 'مگابیت', 'ثانیه', 'دارا', 'سنت', 'آمریکاست', 'سرویس', 'مگابیتی', 'نما', 'هزینه', 'ماهانه', 'دلار', 'نتیجه', 'ماه', 'سال', '=', 'بینید', 'حداقل', 'بسنده', 'اشتراک', 'ماهانه', 'استیدیا', 'درز', 'بلند', 'هزینه', 'سرویس', 'هزینه', 'بازی', 'کنسول', 'تجربه', 'قیاس', 'کیفیت', 'کنسول', 'فراهم', 'آورد&آور', 'هزینه', 'نهایی', 'گوگل', 'استیدیا', 'اقتصادی', 'مسئله', 'مالکیتمدتهاست', 'مسئله', 'مالکیت', 'صنعت', 'بازی', 'جنگ', 'قدرت', 'جامعه', 'گیمرها', 'توسعه', 'ده', 'پلتفرمداران', 'بدل', 'کارتریجها', 'دیسک', 'بازی', 'فیزیکی', 'خریدار', 'بازی', 'محصول', 'مصرفی', 'نسبت', 'محصول', 'خریداری', 'اختیار', 'تام', 'توانست&توان', 'بازی', 'فروخت&فروش', 'امانت', 'کنج', 'گنجه', 'گذاشت&گذار', 'کار', 'صلاح', 'دانست&دان', 'دلایل', 'عدیده', 'جمله', 'بوجود', 'بازی', 'آنلاین', 'مفهوم', 'بازی', 'مثابه', 'سرویس', ')،', 'فرهنگ', 'توسعه', 'بازی', 'وصله', 'رسانیهای', 'گیگابایتی', 'انتشار', 'بازی', 'امری', 'عادی', 'بدل', 'گسترش', 'اینترنت', 'نفوذ', 'جنبه', 'زندگی', 'روزمره', 'مالکیت', 'حد', 'زیادی', 'دچار', 'خدشه', 'دیسک', 'بازی', 'فیزیکی', 'تهیه', 'انواع', 'اقسام', 'وصله', 'رسانیهایی', 'توسعه', 'ده', 'پلتفرمداران', 'منتشر', 'نیاز', 'رشد', 'محبوبیت', 'خرید', 'دیجیتال', 'مزید', 'علت', 'اینحال', 'نیاز', 'بازی', 'محلی', 'رسانه', 'فیزیکی', 'ذخیره', 'دسترسی', 'بازی', 'تکنفره', 'شکل', 'بازی', 'خاص', 'فروشگاه', 'دیجیتالی', 'استیم', 'ایکس', 'باکس', 'پل', 'استیشن', 'نینتندو', 'حذف', 'دسترسی', 'بازار', 'رسمی', 'ایرانی', 'آشناست', 'تایید', 'منطق', 'بازی', 'ابری', 'تیر', 'خلاصی', 'مفهوم', 'مالکیت', 'معنا', 'سنتی', 'سرویس', 'ابری', 'بنا', 'طبیعت', 'جایگاه', 'اجاره', 'گر', 'قرار', 'دلار', 'پول', 'زبان', 'صرف', 'خرید', 'نسخه', 'بازی', 'چراکه', 'سرویس', 'ده', 'اجرا', 'بازی', 'نیازمندید', 'مسئله', 'نتیجه', 'خطرناک', 'ختم', 'خطر', 'افتادن', 'میراث', 'صنعت', 'بازیتوسعه', 'ده', 'بازی', 'صاحب', 'پلتفرمها', 'محصول', 'پشتیبانی', 'سود', 'خرج', 'درآورد', 'بدیهی', 'بازی', 'ویدیویی', 'محصول', 'دوران', 'رونق', 'سپری', 'فراموش', 'امر', 'مشکل', 'بازی', 'تکنفره', 'آفلاین', 'ایجاد', 'چراکه', 'نسخه', 'فیزیکی', 'بازی', 'توانست&توان', 'رجوع', 'گوشه', 'پرت', 'اینترنت', 'نسخه', 'بازی', 'راهنمایی', 'فرو', 'انجمن', 'بدست', 'آورد&آور', 'وضعیت', 'بازی', 'آنلاین', 'متفاوت', 'دست', 'رفتن', 'اقبال', 'مخاطب', 'سرور', 'بازی', 'خاموش', 'بنا', 'طبیعت', 'آنلاین', 'تاریخ', 'سپرده', 'نفوذ', 'تکنولوژی', 'ابری', 'صنعت', 'بازی', 'فراموشی', 'سرنوشت', 'محتوم', 'بازی', 'بدل', 'رونق', 'افتادن', 'بازی', 'اتفاقی', 'بازی', 'محبوب', 'رخ', 'دیتا', 'سن', 'فضا', 'ارزشمند', 'نردی', 'بازی', 'فراموش', 'هدر', 'بازی', 'دست', 'واقعیت', 'مشکل', 'رساند&رسان', 'سرویس', 'دهیشرایطی', 'تصور', 'سونی', 'مایکروسافت', 'نینتندو', 'دلیل', 'ورشکست', 'اسباب', 'اثاث', 'جمع', 'کارشان', 'رفت&رو', 'بازی', 'زمانیکه', 'بازی', 'شکل', 'فیزیکی', 'هارد', 'کنسول', 'اختیار', 'لذت', 'برد&بر', 'رخ', 'حساب', 'پلتفرم', 'ابری', 'بدتر', 'حساب', 'گوگل', 'باور', 'گوگل', 'جزو', 'بدنام', 'شرکت', 'جهان', 'لحاظ', 'سانسور', 'محتوا', 'تصور', 'بازی', 'علاقه', 'پلتفرم', 'استیدیای', 'گوگل', 'دلیل', 'آخرین', 'نسخه', 'آیین', 'نامه', 'انضباطی', 'شرکت', 'دچار', 'زاویه', 'دلیل', 'پوشش', 'نامناسب', 'کاراکتر', 'مونث', 'فحش', 'رکیک', 'به', 'شخصیت', 'سفید', 'پوست', 'بازی', 'اسرع', 'وقت', 'فضا', 'ابری', 'حذف', 'ماند&مان', 'حوض', 'عادت', 'گوگل', 'معرفی', 'پر', 'صدا', 'محصولات', 'آنهم', 'بودجه', 'دلاری', 'بازی', 'مدت', 'رها', 'کردن', 'واقع', 'سایت', 'رجوع', 'محصول', 'شرکت', 'روبرو', 'سلام', 'صلوات', 'انداخت&انداز', 'مدت', 'زباله', 'دان', 'گوگل', 'درآوردند', 'محصولاتی', '+،', 'معروف', 'دلیل', 'آینده', 'استیدیا', 'مهم', 'پرتکرارترین', 'پرسش', 'باب', 'پروژه', 'مسئول', 'گوگل', 'پرسیده', 'پاسخ', 'آندره', 'دورنیچف', 'مدیر', 'محصولات', 'استیدیا', 'جلسه', 'پرسش', 'پاسخ', 'باب', 'مسئله', 'شنید&شنو', 'جلسه', 'پرسید&پرس', 'استیدیا', 'دلیل', 'ادامه', 'بازی', 'مشترک', 'خریداری', 'تضمینی', 'پاسخ', 'قضیه', 'پرسیده', 'انتقال', 'فضا', 'ابری', 'ترسناک', 'احساس', 'موسیقی', 'انتقال', 'فایل', 'استریمینگ', 'عین', 'قضیه', 'فیلم', 'عکس', 'مدارک', 'فایل', 'رخ', 'عالی', 'بازی', 'تفاوت', 'مرور', 'بازی', 'شکل', 'امن', 'فضا', 'ابری', 'احساس', 'خوبی', 'باب', 'تحقیقات', 'گسترده', 'تکنولوژی', 'زیرساخت', 'نحوه', 'همکاری', 'سال', 'زندگی', 'قطعی', 'متعهد', 'استیدیا', 'موفقیت', 'رساند&رسان', 'بینید', 'دورنیچف', 'جمله', 'زندگی', 'قطعی', 'آب', 'پاکی', 'دست', 'گیمرها', 'ریخته', 'ادامه', 'تعهد', 'گوگل', 'باب', 'استیدیا', 'سخن', 'تعهد', 'گوگل', 'باب', 'پروژه', 'رنگارنگ', 'بزنگاه', 'زده', 'مسئله', 'مادینگ', 'مادینگ', ')،', 'خرده', 'فرهنگ', 'جذاب', 'صنعت', 'بازی', 'سرگرمی', 'محبوب', 'گیمرها', 'دارنده', 'پلتفرم', 'کامپیوتر', 'شخصی', 'مادینگ', 'جامعه', 'بازی', 'مهم', 'بازی', 'بواسطه', 'ماد', 'شمار', 'رونق', 'نمونه', 'اسکایریم', 'تعداد', 'زیادی', 'بازی', 'ابتدا', 'نظر', 'جامعه', 'مادینگ', 'همراه', 'ابزار', 'لازم', 'ماد', 'فال', 'آوت', 'قرار', 'بازی', 'سرور', 'خروج', 'کد', 'منبع', 'دسترس', 'افراد', 'فرهنگ', 'نابودی', 'کشیده', 'گوگل', 'صاحب', 'پلتفرمهای', 'ابری', 'ابزار', 'لازم', 'اختیار', 'مادسازان', 'قرار', 'استدلال', 'ایراد', 'اساسی', 'مادینگ', 'حرفه', 'ابزار', 'پا', 'افتاده', 'توسعه', 'ده', 'عرضه', 'نیاز', 'دسترسی', 'کد', 'منبع', 'ساخت', 'ماد', 'باکیفیت', 'حیاتی', 'مسئله', 'بعدی', 'کنترل', 'بسط', 'ید', 'جامعه', 'گیمینگ', 'سیطره', 'پلتفرمداران', 'قرار', 'نمونه', 'نسخه', 'کنسول', 'بازی', 'فال', 'آوت', 'نسخ', 'ماد', 'تایید', 'بتسدا', 'امکان', 'ارائه', 'شرکت', 'اسرع', 'وقت', 'سیستمی', 'انداخت&انداز', 'ماد', 'پولی', 'جیب', 'بزند', 'تصور', 'گوگل', 'ید', 'طولایی', 'سانسور', 'معادله', 'اضافه', 'مطمئن', 'زمانه', 'قدیس', 'توییتری', 'اقلا', 'ماد', 'نسخه', 'استیدیای', 'اسکایریم', 'فرض', 'جرم', 'جنسیت', 'زد', 'سانسور', 'مدل', 'تجاری', 'گوگل', 'استیدیاو', 'مدل', 'گوگل', 'کسب', 'درآمد', 'پروژه', 'استیدیا', 'نظر', 'سران', 'گوگل', 'راهبران', 'پروژه', 'اندازه', 'جامعه', 'گیمینگ', 'فاصله', 'واقعیات', 'حوزه', 'بازی', 'اطلاعند', 'مدت', 'پرده', 'رسمی', 'پروژه', 'استیدیا', 'مراسم', 'زمانیکه', 'خبر', 'پروژه', 'شایعه', 'شنیده', 'گذشت', 'بزرگی', 'گیمرها', 'فعال', 'صنعت', 'گم', 'زد&زن', 'گوگل', 'استیدیا', 'نتفلیکس', 'صنعت', 'بازی', 'دانست&دان', 'سرویس', 'شبیه', 'نتفلیکس', 'ازا', 'دریافت', 'مبلغ', 'ناچیز', 'ماهیانه', 'اجازه', 'دسترسی', 'کتابخانه', 'بزرگی', 'بازی', 'کاربر', 'شبیه', 'سرویس', 'گیم', 'مایکروسافت', 'شکل', 'استریمینگ', 'علنی', 'مدل', 'تجاری', 'سرویس', 'آب', 'سردی', 'افراد', 'ریخته', 'آندره', 'دورنیچف', 'مدیر', 'محصولات', 'استیدیا', 'جلسه', 'پرسش', 'پاسخ', 'مشخصا', 'آب', 'پاکی', 'دست', 'منتظر', 'ریخت', 'استیدیا', 'پرو', 'خلاف', 'نتفلیکس', 'بازی', 'ایکس', 'باکس', 'لایو', 'گلد', 'پل', 'استیشن', 'پلاس', 'مقایسه', 'مصاحبه', 'نشریه', 'یوروگیمر', 'فیل', 'هریسون', 'ترتیب', 'شایعه', 'بازی', 'استیدیا', 'ارزان', 'فروشگاه', 'دیجیتال', 'واکنش', 'فهمید&فهم', 'ارزان', 'ارزشی', 'بازی', 'استیدیا', 'دریافت', 'اینست', 'صفحه', 'نمایشی', 'زندگی', 'تلویزیون', 'کامپیوتر', 'شخصی', 'لپتاپ', 'تبلت', 'گوشی', 'بازی', 'گمان', 'گیمرها', 'باارزش', 'باب', 'مسئله', 'مالکیت', 'سرویس', 'ابری', 'صحبت', 'دید&بین', 'کاربر', 'سرویس', 'کنترل', 'بازی', 'های', 'دست', 'چراکه', 'سرویس', 'ذات', 'ماهیت', 'اجاره', 'ازا', 'پرداخت', 'مبلغ', 'ماهانه', 'خاصی', 'اجاره', 'بدیهی', 'علاقه', 'دست', 'کنترل', 'مایملک', 'توجیه', 'افراد', 'چشم', 'پوشید&پوش', 'کنترل', 'مشوق', 'نیاز', 'معامله', 'عقلا', 'توجیه', 'پذیرفت&پذیر', 'ساخت&ساز', 'شرکت', 'ده', 'ترغیب', 'کاربر', 'سنتا', 'راهکار', 'تخفیفا', 'توجه', 'انداخت&انداز', 'سرویس', 'اشتراکی', 'ازا', 'دسترسی', 'رایگان', 'حجم', 'توجه', 'محصولات', 'نمونه', 'بارز', 'راهکار', 'نتفلیکس', 'حوزه', 'فیلم', 'سریال', 'ایکس', 'باکس', 'گیم', 'حوزه', 'بازی', 'کاربر', 'ازا', 'صرفنظر', 'تملک', 'محصولات', 'فرهنگی', 'صرفه', 'جوی', 'توجه', 'هزینه', 'های', 'قرار', 'نتفلیکس', 'علاوه', 'اخذ', 'اشتراک', 'ماهانه', 'فیلم', 'قیمت', 'تک', 'فروخت&فروش', 'فروخت&فروش', 'باور', 'فرمود&فرما', 'مشتری', 'جذب', 'نظر', 'رسید&رس', 'مدیر', 'گوگل', 'محاسبات', 'دچار', 'خطا', 'فاحش', 'سرویس', 'نتفلیکس', 'مصرف', 'کننده', 'جذاب', 'صرفه', 'اقتصادی', 'سادگی', 'مصرف', 'پرسش', 'مخاطب', 'گوگل', 'استیدیا', 'چندی', 'ماس', 'رئیس', 'تکنولوژی', 'الکترونیک', 'آرتز', 'مصاحبه', 'نشریه', 'صحبت', 'پروژه', 'اطلس', 'پروژه', 'بازی', 'ابری', 'اختصاصی', 'الکترونیک', 'آرتز', 'هدف', 'اضافه', 'گیمر', 'جامعه', 'بازی', 'صحبت', 'مشابه', 'سران', 'استیدیا', 'شنیده', 'بدیهی', 'رقم', 'میلیاردی', 'گیمرهای', 'گاهگاهی', ')،', 'مشخصا', 'گیمرهای', 'موبایلی', 'اشاره', 'نظر', 'رسید&رس', 'فعال', 'صنعت', 'رده', 'بالاترین', 'های', 'دچار', 'توهم', 'مانع', 'گیمرهای', 'گاهگاهی', 'موبایلی', 'پیوستن', 'جامعه', 'بازی', 'عناوین', 'جدی', 'فقدان', 'سرویس', 'ابری', 'واقعیت', 'اینست', 'گیمرهای', 'موبایلی', 'خرید', 'کنسول', 'بازی', 'کنسول', 'دور', 'نگه', 'ناتوانی', 'پرداخت', 'سیصد', 'چهارصد', 'دلار', 'پول', 'گذشت&گذر', 'کشور', 'توسعه', 'مانده', 'رجوع', 'نزدیک', 'فروشگاه', 'گیم', 'استاپ', 'کنسول', 'تعمیر', 'دلار', 'تهیه', 'علاقه', 'بازی', 'گیمرهای', 'جدی', 'هدف', 'گیمرهای', 'موبایلی', 'وسیله', 'وسیله', 'سرگرم', 'زمان', 'مرده', 'اجازه', 'آمار', 'زد&زن', 'آمار', 'مختلف', 'باب', 'بازار', 'بازی', 'موبایلی', 'موجود', 'گیمرهای', 'موبایلی', 'بازی', 'رایگان', 'پرداخت&پرداز', 'پولی', 'خرج', 'بازی', 'واقع', 'درصد', 'درآمد', 'بازی', 'موبایلی', 'درصد', 'گیمرهای', 'حوزه', 'تامین', 'صنعت', 'گیمرهای', 'ولخرج', 'مشهورند', 'آمار', 'درصد', 'گیمرهای', 'ولخرج', 'موبایلی', 'رقم', 'مشابه', 'حوزه', 'بازی', 'کنسول', 'خرج', 'درصد', 'حوزه', 'کامپیوتر', 'شخصی', 'قرار', 'معلوم', 'گیمرهای', 'دست', 'دلباز', 'موبایلی', 'گیمرهای', 'جدی', 'درصد', 'گیمرها', 'کمتر', 'علاقه', 'سرویس', 'اس', 'بازی', 'بینی', 'مطلق', 'گیمرهای', 'موبایلی', 'قرانی', 'خرج', 'بازی', 'علاقه', 'سران', 'گوگل', 'انتظار', 'طرفدار', 'کندی', 'کراش', 'باقلوا', 'آمیرزا', 'ماهی', 'دلار', 'اشتراک', 'استیدیا', 'هزینه', 'دلار', 'دلار', 'بازی', 'خرید&خر', 'گیمرهای', 'غیرجدی', 'گاهگاهی', 'موبایلی', 'مخاطب', 'استیدیا', 'گوگل', 'گیمرهای', 'جدی', 'حساب', 'مسئله', 'اینست', 'عامل', 'کیفیت', 'تصویر', 'تاخیر', 'مهم', 'مالکیت', 'بازی', 'گیمرهای', 'جدی', 'واجد', 'نهایت', 'اهمیت', 'رابطه', 'گیمرها', 'بازی', 'رابطه', 'خوره', 'سینما', 'فیلم', 'تفاوت', 'ماهوی', 'فیلمباز', 'عنوان', 'تماشا', 'مجذوب', 'اثر', 'سه', 'تماشا', 'گیمرها', 'صدها', 'هزاران', 'ساعت', 'وقف', 'انرژی', 'پول', 'صرف', 'بازی', 'علاقه', 'گوگل', 'بنا', 'عادت', 'مالوف', 'استیدیا', 'تخته', 'الکترونیک', 'آرتز', 'دکان', 'انداخت&انداز', 'بازی', 'استیدیا', 'کشید&کش', 'بلا', 'دیزنی', 'نتفلیکس', 'گیمر', 'جدی', 'شناخت&شناس', 'ریسک', 'آنهم', 'گوگل', 'قبول', 'واقع', 'بنا', 'گزارش', 'نشریه', 'رای', 'ماه', 'تعداد', 'توجه', 'گیمرهای', 'اروپایی', 'درصد', 'علاقه', 'سرویس', 'بازی', 'ابری', 'اعم', 'استیدیا', 'اکس', 'کلاد', 'درصد', 'گیمرهای', 'بریتانیا', 'فرانسه', 'اسپ', 'آلمان', 'کمتر', 'علاقه', 'سرویس', 'درصد', 'نظری', 'باب', 'درصد', 'تاحدی', 'سرویس', 'مشابه', 'مشخصا', 'درصد', 'چشم', 'انتظار', 'سرویس', 'نهایت', 'درصد', 'اظهار', 'شرایط', 'حاضرند', 'سرویس', 'ابری', 'قبول', 'توانست&توان', 'بازی', 'دانلود', 'نمایند', 'حساب', 'نظر', 'رسید&رس', 'گیمرهای', 'جدی', 'خوشی', 'سرویس', 'اجازه', 'فرض', 'قرار', 'هرآنچه', 'بحال', 'اساس', 'خیل', 'عظیم', 'مشتری', 'بالقوه', 'صبر', 'انتظار', 'سرویس', 'بازی', 'ابری', 'مسئله', 'اینست', 'گوگل', 'استیدیا', 'گزینه', 'صحنه', 'حضور', 'پروژه', 'اکس', 'کلاد', 'مایکروسافت', 'رقیب', 'استیدیا', 'نظر', 'طرف', 'تجربه', 'مایکروسافت', 'ابری', 'گوگل', 'بود&باش', 'شرکت', 'سه', 'ستون', 'اصلی', 'صنعت', 'گیم', 'محسوب', 'گنجینه', 'هزاران', 'بازی', 'انحصاری', 'پلتفرمی', 'دسترسی', 'واقع', 'پروژه', 'مرحله', 'آزمایشی', 'تعداد', 'بازی', 'رایگان', 'دسترس', 'کاربر', 'قرار', 'بازی', 'عرضه', 'استیدیا', 'صحبت', 'فیل', 'اسپنسر', 'امکان', 'دسترسی', 'سرویس', 'گیم', 'اکس', 'کلاد', 'نظر', 'ازا', 'دلار', 'ماهانه', 'صدها', 'بازی', 'درجه', 'اختیار', 'مشترک', 'قرار', 'علاوه', 'بازی', 'خریداری', 'اکس', 'کلاد', 'کتابخانه', 'شخصی', 'خریدار', 'وارد', 'امکان', 'دانلود', 'مستقیم', 'بازی', 'خدای', 'ناکرده', 'دلیل', 'حمله', 'رذیلانه', 'لنگر', 'کوسه', 'کابل', 'فیبر', 'نوری', 'دسترسی', 'اینترنت', 'مقدور', 'آفلاین', 'کلاه', 'قاضی', 'آدم', 'عاقل', 'پروژه', 'اکس', 'کلاد', 'مایکروسافت', 'استیدیای', 'گوگل', 'دومی', 'انتخاب', 'ابداعات', 'تکنولوژیک', 'بینظیرند', 'مشکل', 'حل', 'گوگل', 'استیدیا', 'مشکل', 'حل', 'بهبود', 'بخشد', 'درگیر', 'ابزارآلات', 'تکنولوژیک', 'خط', 'اینترنت', 'درجه', 'نیاز', 'هزینه', 'پرداخت', 'تاخیر', 'تجربه', 'کیفیت', 'گرافیکی', 'پایینتری', 'دریافت', 'نظر', 'رسید&رس', 'استیدیا', 'ترند', 'علاقه', 'صرف', 'تکنولوژی', 'بخاطر', 'تکنولوژی', 'شباهت', 'واقعیت', 'اینست', 'استدلال', 'مستحکم', 'سرویس', 'بازی', 'ابری', 'آینده', 'محتوم', 'صنعت', 'بازی', 'زاییده', 'استقرا', 'ساده', 'موسیقی', 'رسانه', 'فیزیکی', 'فضا', 'ابری', 'اسپاتیفای', 'فروشگاه', 'بلاک', 'باستر', 'نتفلیکس', 'اتفاق', 'بازی', 'افتاد&افت', 'استقرا', 'توجه', 'تفاوت', 'ماهوی', 'بازی', 'موسیقی', 'فیلم', 'نتیجه', 'ساده', 'لوح', 'نمونه', 'رسیدن', 'قاعده', 'عمومی', 'کافی', 'داند', 'پایان', 'نگاه', 'بیاندازیم', 'آماری', 'تازگی', 'تام', 'وارن', 'دبیر', 'هیئت', 'تحریریه', 'نشریه', 'ورج', 'منتشر', 'مقایسه', 'ایست', 'تعداد', 'بازیکن', 'بازی', 'دستینی', 'بازی', 'رایگان', 'استیدیا', 'مهم', 'پر', 'صدا', 'پلتفرم', 'محسوب', 'پلتفرمهای', 'تعداد', 'بازیکن', 'بازی', 'دستینی', 'کامپیوتر', 'شخصی', 'نفرپلی', 'استیشن', 'نفرایکس', 'باکس', 'وان', 'نفرگوگل', 'استیدیا', 'نفرتنها', 'ساده', 'رقم', 'کفایت', 'فهمید&فهم', 'مسئله', 'استیدیا', 'قبرستان', 'گوگل', 'مسئله', 'اینست', 'اتفاق', 'افتاد&افت']\n",
      "Actual: بازی ویدیویی  ******  Detected: سلامت و زیبایی\n",
      "2 -\n",
      "Content: ['جدید', 'عضو', 'ناوگان', 'پلیس', 'دبی', 'آشنا', 'مرسدس', 'سال', 'پلیس', 'دبی', 'اضافه', 'گران', 'قیمت', 'خودرو', 'تولیدی', 'جهان', 'ناوگان', 'صدا', 'زیادی', 'برپا', 'توجه', 'رسانه', 'جلب', 'ناوگان', 'پلیس', 'شهر', 'متمول', 'خودرو', 'کمیاب', 'هیجان', 'انگیخت&انگیز', 'بوگاتی', 'ویرون', 'آئودی', 'استون', 'مارتین', 'بنتلی', 'بنتایگا', 'فراری', 'لافراری', 'لامبورگینی', 'اونتادور', 'لایکان', 'هایپراسپرت', 'مکلارن', 'نیسان', 'پورشه', 'پاگانی', 'هوایرا', 'اتومبیل', 'دلاری', 'جاذبه', 'گردشگری', 'دبی', 'تبدیل', 'شهر', 'نمایشگاه', 'خودرو', 'نکته', 'جالب', 'توجه', 'معرفی', 'تسلا', 'سایبرتراک', 'پلیس', 'دبی', 'نسبت', 'ثبت', 'سفارش', 'اقدام', 'آینده', 'پیکاپ', 'عجیب', 'غریب', 'گاراژ', 'دلاری', 'اضافه', 'خرید', 'مقامات', 'ارگان', 'دولتی', 'سراغ', 'جذاب', 'محصولات', 'مرسدس', 'خودرو', 'مدل', '+', 'جزو', 'قدرتمند', 'سد', 'فعلی', 'دنیا', 'شمار', 'رود', 'دانست&دان', '+', 'پرچمدار', 'خانواده', 'مرسدس', 'محسوب', 'کاپوت', 'سد', 'استیل', 'موتور', 'لیتر', 'توئین', 'توربوی', 'معروف', 'مرسدس', 'قرار', 'موتور', 'توانایی', 'تولید', 'اسب', 'بخار', 'قدرت', 'نیوتن', 'متر', 'گشتاور', 'دارا', 'نیرو', 'تولیدی', 'گیربکس', 'سرعته', 'کلاچه', 'چرخ', 'هدایت', 'تکیه', 'پیشرانه', 'قدرتمندی', 'مرسدس', '+', 'عرض', 'ثانیه', 'سرعت', 'صفر', 'کیلومتر', 'ساعت', 'رساند&رسان', 'مسیر', 'مستقیم', 'خودرو', 'توانایی', 'دستیابی', 'نهایت', 'سرعت', 'کیلومتر', 'ساعت', 'توصیف', '+', 'کوپه', 'درب', 'اشتوتگارتی', 'رکورد', 'تحسین', 'برانگیز', 'پیست', 'نوربرگ', 'رینگ', 'ثبت', 'دانست&دان', 'رکورد', 'اتومبیل', 'درب', 'تولید', 'انبوه', 'شمار', 'رود', 'شایان', 'ذکر', '+،', 'مدل', 'مرسدس', 'ناوگان', 'پلیس', 'دبی', 'حضور', 'مهم', 'اشاره', 'اضافه', 'گرن', 'کوپه', 'پورشه', 'توربو', 'سد', 'آتشین', 'آلمانی', 'افسر', 'پلیس', 'دبی', 'گشت', 'زد&زن', 'تعقیب', 'گریز', 'مجرم', 'منبع']\n",
      "Actual: علم و تکنولوژی  ******  Detected: سلامت و زیبایی\n",
      "3 -\n",
      "Content: ['مسترچیف', 'شخصیت', 'اصلی', 'سریال', 'ماه', 'استودیو', 'سازنده', 'مجموعه', 'بازی', 'هیلو', 'استودیو', 'همکاری', 'شبکه', 'شوتایم', 'تهیه', 'کنندگی', 'استیون', 'اسپیلبرگ', 'مشغول', 'ساخت', 'سریال', 'تلویزیونی', 'اساس', 'بازی', 'هیلو', 'بیانیه', 'دست', 'اندرکاران', 'پروژه', 'تاریخ', 'شروع', 'مرحله', 'تولید', 'سریال', 'سال', ')،', 'اطلاعاتی', 'ماهیت', 'ارایه', 'شبکه', 'شوتایم', 'کنفرانس', 'مطبوعاتی', 'اطلاعات', 'مجموعه', 'منتشر', 'تولید', 'سریال', 'هیلو', 'قرار', 'سال', 'آینده', 'میلادی', 'آغاز', 'پنل', 'مطبوعاتی', 'دیوید', 'نوینز', 'مدیر', 'شبکه', 'شوتایم', 'گریست&گری', 'لو', 'رئیس', 'برنامه', 'شبکه', 'شوتایم', 'حضور', 'احتمال', 'حضور', 'مسترچیف', 'شخصیت', 'اصلی', 'بازی', 'هیلو', 'سوال', 'تایید', 'کاراکتر', 'سریال', 'حضور', 'واقع', 'نقش', 'اصلی', 'مهم', 'ایفا', 'لو', 'اطلاعاتی', 'ماهیت', 'پروژه', 'اختیار', 'علاقه', 'مندان', 'قرار', 'اظهار', 'سریال', 'داستان', 'مخصوص', 'ماجرا', 'ارتباطی', 'بازی', 'ادامه', 'صحبت', 'درام', 'شخصیتی', 'تحسین', 'همراه', 'برد&بر', 'علمی', 'تخیلی', 'طرفدار', 'ارائه', 'آنجا', 'داستان', 'سریال', 'ماجرا', 'روایت', 'طرفدار', 'نگران', 'سریال', 'ریشه', 'دنیا', 'هیلو', 'فاصله', 'لو', 'موضوع', 'سریال', 'داستان', 'هسته', 'اصلی', 'اثر', 'مجموعه', 'وافادار', 'مانده', 'منظور', 'استودیو', 'مایکروسافت', 'همکاری', 'ماجرا', 'ساخت', 'سریال', 'سال', 'طول', 'انجامیده', 'قرار', 'سریال', 'تماشا', 'افراد', 'زیادی', 'استودیو', 'پروژه', 'دخیل', 'منتظر', 'دیدن', 'سریال', 'درخور', 'هیلو', 'منبع']\n",
      "Actual: بازی ویدیویی  ******  Detected: هنر و سینما\n",
      "4 -\n",
      "Content: ['نمودار', 'تغییر', 'قیمت', 'کالا', 'دیجی', 'کالا', 'اطلاعاتی', 'فرمول', 'قسمت', 'نمودار', 'قیمت', 'کالا', 'ویژگی', 'منحصر', 'فرد', 'محصولات', 'فروشگاه', 'اینترنتی', 'دیجی', 'کالا', 'تصمیم', 'هوشمندانه', 'مشتری', 'کمک', 'اعداد', 'مشخص', 'نمودار', 'ده', 'کمتر', 'قیمتی', 'طول', 'کالا', 'قیمت', 'فروش', 'نمودار', 'مطابق', 'پایین', 'قیمت', 'فروش', 'رساند&رسان', 'خطوط', 'آبی', 'رنگ', 'نمودار', 'قیمت', 'ده', 'قیمت', 'عرضه', 'کالا', 'تخفیف', 'خط', 'چین', 'خاکستری', 'رنگ', 'قیمت', 'تخفیف', 'کالا', 'روز', 'فروش', 'تاریخ', 'موجود', 'قیمتی', 'نمایش', 'نمودار', 'قیمت', 'خالی', 'باقی', 'ماند', 'ویژگی', 'کالا', 'موجود', 'فروشگاه', 'اینترنتی', 'دیج', 'کالا', 'کاربر', 'انتخاب', 'بازه', 'نظر', 'بازه', 'سه', 'ماهه', 'اطلاعات', 'تغییرات', 'قیمت', 'کالا', 'نظر', 'دست', 'آورد&آور', 'نمودار', 'قیمت', 'کالا', 'نشانه', 'شفافیت', 'دیجی', 'کالا', 'اشتراک', 'فرایند', 'تغییر', 'قیمت', 'ویژگی', 'فروشگاه', 'اینترنتی', 'سطح', 'جهانی', 'نهایت', 'مشتری', 'امکانات', 'بهره', 'مند', 'بررسی', 'نمودار', 'قیمت', 'امتیاز', 'فروشنده', 'شرایط', 'ارسال', 'کالا', 'تصمیم', 'کالا', 'نظر', 'انتخاب']\n",
      "Actual: علم و تکنولوژی  ******  Detected: سلامت و زیبایی\n",
      "5 -\n",
      "Content: ['دیزنی', 'کمک', 'دوربین', 'نوکیا', 'محتوا', 'واقعیت', 'مجازی', 'ساخت&ساز', 'نوکیا', 'سال', 'دوربین', 'واقعیت', 'مجازی', 'اسم', 'رونمایی', 'دوربین', 'قیمت', 'دلاری', 'درد', 'فیلم', 'بردار', 'آماتور', 'خورد', 'استودیو', 'فیلم', 'فیلم', 'بردار', 'حرفه', 'طراحی', 'استودیو', 'فیلم', 'دیزنی', 'نوکیا', 'وارد', 'همکاری', 'جدیدی', 'دیزنی', 'دوربین', 'واقعیت', 'مجازی', 'نوکیا', 'فیلم', 'مختص', 'هدست', 'واقعیت', 'مجازی', 'ساخت&ساز', 'دیزنی', 'دوربین', 'نوکیا', 'ساخت', 'تجربه', 'واقعیت', 'مجازی', 'دوربین', 'شرکت', 'نوکیا', 'قابلیت', 'قدرتمندی', 'توانایی', 'نمایش', 'ویدیوهای', 'ضبط', 'سیم', 'کار', 'دوربین', 'صدا', 'تصویر', 'درجه', 'دستگاه', 'فرستاد&فرست', 'دوربین', 'هشت', 'سنسور', 'تصویربرداری', 'میکروفون', 'داخلی', 'قابلیت', 'ضبط', 'ویدیوهای', 'سه', 'بعدی', 'دیزنی', 'دوربین', 'نوکیا', 'ساخت', 'تجربه', 'واقعیت', 'مجازی', 'تجربه', 'قرار', 'فیلم', 'بلند', 'دیزنی', 'تجربه', 'کوتاه', 'تری', 'ساخت&ساز', 'مثال', 'استودیو', 'فیلم', 'مرحله', 'انتخاب', 'بازیگر', 'فیلم', 'کتاب', 'جنگل', 'دوربین', 'ضبط', 'نوکیا', 'دوربین', 'متعلقات', 'استودیو', 'فیلم', 'مرحله', 'تولید', 'فیلم', 'کمک', 'هزینه', 'ساخت', 'ویدیوهای', 'واقعیت', 'مجازی', 'صرف', 'کاست&کاه', 'منبع']\n",
      "Actual: هنر و سینما  ******  Detected: علم و تکنولوژی\n"
     ]
    }
   ],
   "source": [
    "classifier.store_wrongly_detected()\n",
    "classifier.print_wrongly_samples()"
   ]
  },
  {
   "cell_type": "code",
   "execution_count": null,
   "id": "8897559c",
   "metadata": {},
   "outputs": [],
   "source": []
  }
 ],
 "metadata": {
  "kernelspec": {
   "display_name": "Python 3",
   "language": "python",
   "name": "python3"
  },
  "language_info": {
   "codemirror_mode": {
    "name": "ipython",
    "version": 3
   },
   "file_extension": ".py",
   "mimetype": "text/x-python",
   "name": "python",
   "nbconvert_exporter": "python",
   "pygments_lexer": "ipython3",
   "version": "3.8.8"
  }
 },
 "nbformat": 4,
 "nbformat_minor": 5
}
