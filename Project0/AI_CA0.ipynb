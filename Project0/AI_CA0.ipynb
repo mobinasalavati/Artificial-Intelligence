{
 "cells": [
  {
   "cell_type": "markdown",
   "id": "c56ec222",
   "metadata": {
    "direction": "rtl"
   },
   "source": [
    "#  پروژه صفر هوش مصنوعی\n",
    "## معرفی مجموعه داده\n",
    "فایل **deposit_term_bank.csv** در کنار صورت پروژه قرار گرفته است؛ که برای پیش‌بینی اینکه آیا مشتری برای\n",
    "کمپین سپرده مدتدار در یک موسسه بانکی مشترک می‌شود یا خیر، استفاده می‌شود. در هر سطر از این فایل یک\n",
    "رکورد مربوط به یک کاربر آمده است که اطلاعات زیر را نشان می‌دهد.\n",
    "\n",
    "+ سن مشتری  \n",
    "+ وضعیت کاری مشتری  \n",
    "+ وضعیت تاهل مشتری  \n",
    "+ تحصیلات مشتری  \n",
    "+ میانگین موجودی حساب سالانه مشتری  \n",
    "+ آیا مشتری وام مسکن دارد یا خیر؟  \n",
    "+ آیا مشتری وام شخصی دارد یا خیر؟  \n",
    "+ مدت زمان آخرین تماس مشتری با بانک برحسب ثانیه  \n",
    "+ تعداد تماس‌های برقرارشده با مشتری در طول این کمپین  \n",
    "+ تعداد روزهایی که پس از آخرین تماس با مشتری از کمپین قبلی گذشته است  \n",
    "+ نتیجه کمپین بازاریابی قبلی برای مشتری  \n",
    "+ آیا مشتری سپرده مدت‌دار را ثبت کرده‌است یا خیر؟ (ستون هدف)  \n",
    "\n",
    "برای تعداد کمی از کاربرها مقدار ستون هدف موجود نیست. در این پروژه میخواهیم این مقادیر را با استفاده از یک\n",
    "مدل آماری ساده پیش‌بینی کنیم. برای ساخت این مدل از سایر نمونه‌ها (که مقدار ستون هدف آنها موجود است)\n",
    "استفاده می‌کنیم."
   ]
  },
  {
   "cell_type": "markdown",
   "id": "69100cd1",
   "metadata": {
    "direction": "rtl"
   },
   "source": [
    "1.  در این قسمت ابتدا کتابخانه pandas را import می‌کنیم و سپس بوسیله تابع read_csv از این کتابخانه، محتوای فایل csv را در یک dataframe ذخیره می‌کنیم."
   ]
  },
  {
   "cell_type": "code",
   "execution_count": 2,
   "id": "3028a1a5",
   "metadata": {},
   "outputs": [],
   "source": [
    "import pandas as pd\n",
    "dataFrame = pd.read_csv('bank_term_deposit.csv')"
   ]
  },
  {
   "cell_type": "markdown",
   "id": "b96edf40",
   "metadata": {
    "direction": "rtl"
   },
   "source": [
    "  حال به کمک متد‌های head ، tail و describe اطلاعات مربوط به این داده ها را نشان می‌دهیم. "
   ]
  },
  {
   "cell_type": "markdown",
   "id": "3036eea7",
   "metadata": {
    "direction": "rtl"
   },
   "source": [
    "خروجی متد **describe** در ادامه آمده است:"
   ]
  },
  {
   "cell_type": "code",
   "execution_count": 3,
   "id": "328aa5ce",
   "metadata": {},
   "outputs": [
    {
     "data": {
      "text/html": [
       "<div>\n",
       "<style scoped>\n",
       "    .dataframe tbody tr th:only-of-type {\n",
       "        vertical-align: middle;\n",
       "    }\n",
       "\n",
       "    .dataframe tbody tr th {\n",
       "        vertical-align: top;\n",
       "    }\n",
       "\n",
       "    .dataframe thead th {\n",
       "        text-align: right;\n",
       "    }\n",
       "</style>\n",
       "<table border=\"1\" class=\"dataframe\">\n",
       "  <thead>\n",
       "    <tr style=\"text-align: right;\">\n",
       "      <th></th>\n",
       "      <th>age</th>\n",
       "      <th>balance</th>\n",
       "      <th>duration</th>\n",
       "      <th>campaign</th>\n",
       "      <th>pdays</th>\n",
       "    </tr>\n",
       "  </thead>\n",
       "  <tbody>\n",
       "    <tr>\n",
       "      <th>count</th>\n",
       "      <td>3984.000000</td>\n",
       "      <td>4164.000000</td>\n",
       "      <td>4388.000000</td>\n",
       "      <td>4521.000000</td>\n",
       "      <td>4521.000000</td>\n",
       "    </tr>\n",
       "    <tr>\n",
       "      <th>mean</th>\n",
       "      <td>41.617470</td>\n",
       "      <td>1136.750240</td>\n",
       "      <td>264.724020</td>\n",
       "      <td>2.793630</td>\n",
       "      <td>39.766645</td>\n",
       "    </tr>\n",
       "    <tr>\n",
       "      <th>std</th>\n",
       "      <td>10.696378</td>\n",
       "      <td>2726.204918</td>\n",
       "      <td>261.057119</td>\n",
       "      <td>3.109807</td>\n",
       "      <td>100.121124</td>\n",
       "    </tr>\n",
       "    <tr>\n",
       "      <th>min</th>\n",
       "      <td>19.000000</td>\n",
       "      <td>-3313.000000</td>\n",
       "      <td>4.000000</td>\n",
       "      <td>1.000000</td>\n",
       "      <td>-1.000000</td>\n",
       "    </tr>\n",
       "    <tr>\n",
       "      <th>25%</th>\n",
       "      <td>32.000000</td>\n",
       "      <td>58.000000</td>\n",
       "      <td>104.000000</td>\n",
       "      <td>1.000000</td>\n",
       "      <td>-1.000000</td>\n",
       "    </tr>\n",
       "    <tr>\n",
       "      <th>50%</th>\n",
       "      <td>40.000000</td>\n",
       "      <td>316.000000</td>\n",
       "      <td>185.500000</td>\n",
       "      <td>2.000000</td>\n",
       "      <td>-1.000000</td>\n",
       "    </tr>\n",
       "    <tr>\n",
       "      <th>75%</th>\n",
       "      <td>49.000000</td>\n",
       "      <td>997.000000</td>\n",
       "      <td>331.000000</td>\n",
       "      <td>3.000000</td>\n",
       "      <td>-1.000000</td>\n",
       "    </tr>\n",
       "    <tr>\n",
       "      <th>max</th>\n",
       "      <td>87.000000</td>\n",
       "      <td>71188.000000</td>\n",
       "      <td>3025.000000</td>\n",
       "      <td>50.000000</td>\n",
       "      <td>871.000000</td>\n",
       "    </tr>\n",
       "  </tbody>\n",
       "</table>\n",
       "</div>"
      ],
      "text/plain": [
       "               age       balance     duration     campaign        pdays\n",
       "count  3984.000000   4164.000000  4388.000000  4521.000000  4521.000000\n",
       "mean     41.617470   1136.750240   264.724020     2.793630    39.766645\n",
       "std      10.696378   2726.204918   261.057119     3.109807   100.121124\n",
       "min      19.000000  -3313.000000     4.000000     1.000000    -1.000000\n",
       "25%      32.000000     58.000000   104.000000     1.000000    -1.000000\n",
       "50%      40.000000    316.000000   185.500000     2.000000    -1.000000\n",
       "75%      49.000000    997.000000   331.000000     3.000000    -1.000000\n",
       "max      87.000000  71188.000000  3025.000000    50.000000   871.000000"
      ]
     },
     "execution_count": 3,
     "metadata": {},
     "output_type": "execute_result"
    }
   ],
   "source": [
    "dataFrame.describe()"
   ]
  },
  {
   "cell_type": "markdown",
   "id": "49edb116",
   "metadata": {
    "direction": "rtl"
   },
   "source": [
    "تابع ()describe جزئیات آماری متداولی مانند میانگین، انحراف معیار، عنصر حداقل، عنصر حداکثر و دیگر جزئیات را ارائه می‌کند. این تابع راهکار خوبی برای کسب اطلاعات سریع و کلی پیرامون داده‌هایی محسوب می‌شود که کاربر در حال کار با آن‌ها است؛ به ویژه اگر پیرامون این داده‌ها اطلاعات زیادی نداشته باشد. همچنین، راهکار خوبی برای مقایسه سریع دو مجموعه داده مجزا که حاوی داده‌های مشابهی هستند، محسوب می‌شود."
   ]
  },
  {
   "cell_type": "markdown",
   "id": "0b81b23a",
   "metadata": {
    "direction": "rtl"
   },
   "source": [
    "خروجی متد **tail** در ادامه آمده است: "
   ]
  },
  {
   "cell_type": "code",
   "execution_count": 4,
   "id": "e24853df",
   "metadata": {
    "scrolled": true
   },
   "outputs": [
    {
     "data": {
      "text/html": [
       "<div>\n",
       "<style scoped>\n",
       "    .dataframe tbody tr th:only-of-type {\n",
       "        vertical-align: middle;\n",
       "    }\n",
       "\n",
       "    .dataframe tbody tr th {\n",
       "        vertical-align: top;\n",
       "    }\n",
       "\n",
       "    .dataframe thead th {\n",
       "        text-align: right;\n",
       "    }\n",
       "</style>\n",
       "<table border=\"1\" class=\"dataframe\">\n",
       "  <thead>\n",
       "    <tr style=\"text-align: right;\">\n",
       "      <th></th>\n",
       "      <th>age</th>\n",
       "      <th>job</th>\n",
       "      <th>marital</th>\n",
       "      <th>education</th>\n",
       "      <th>balance</th>\n",
       "      <th>housing</th>\n",
       "      <th>loan</th>\n",
       "      <th>duration</th>\n",
       "      <th>campaign</th>\n",
       "      <th>pdays</th>\n",
       "      <th>poutcome</th>\n",
       "      <th>y</th>\n",
       "    </tr>\n",
       "  </thead>\n",
       "  <tbody>\n",
       "    <tr>\n",
       "      <th>4516</th>\n",
       "      <td>33.0</td>\n",
       "      <td>services</td>\n",
       "      <td>married</td>\n",
       "      <td>secondary</td>\n",
       "      <td>-333.0</td>\n",
       "      <td>yes</td>\n",
       "      <td>no</td>\n",
       "      <td>329.0</td>\n",
       "      <td>5</td>\n",
       "      <td>-1</td>\n",
       "      <td>unknown</td>\n",
       "      <td>no</td>\n",
       "    </tr>\n",
       "    <tr>\n",
       "      <th>4517</th>\n",
       "      <td>57.0</td>\n",
       "      <td>self-employed</td>\n",
       "      <td>married</td>\n",
       "      <td>tertiary</td>\n",
       "      <td>-3313.0</td>\n",
       "      <td>yes</td>\n",
       "      <td>yes</td>\n",
       "      <td>153.0</td>\n",
       "      <td>1</td>\n",
       "      <td>-1</td>\n",
       "      <td>unknown</td>\n",
       "      <td>no</td>\n",
       "    </tr>\n",
       "    <tr>\n",
       "      <th>4518</th>\n",
       "      <td>57.0</td>\n",
       "      <td>technician</td>\n",
       "      <td>married</td>\n",
       "      <td>secondary</td>\n",
       "      <td>295.0</td>\n",
       "      <td>no</td>\n",
       "      <td>no</td>\n",
       "      <td>151.0</td>\n",
       "      <td>11</td>\n",
       "      <td>-1</td>\n",
       "      <td>unknown</td>\n",
       "      <td>no</td>\n",
       "    </tr>\n",
       "    <tr>\n",
       "      <th>4519</th>\n",
       "      <td>28.0</td>\n",
       "      <td>blue-collar</td>\n",
       "      <td>married</td>\n",
       "      <td>secondary</td>\n",
       "      <td>1137.0</td>\n",
       "      <td>no</td>\n",
       "      <td>no</td>\n",
       "      <td>129.0</td>\n",
       "      <td>4</td>\n",
       "      <td>211</td>\n",
       "      <td>other</td>\n",
       "      <td>no</td>\n",
       "    </tr>\n",
       "    <tr>\n",
       "      <th>4520</th>\n",
       "      <td>44.0</td>\n",
       "      <td>entrepreneur</td>\n",
       "      <td>single</td>\n",
       "      <td>tertiary</td>\n",
       "      <td>1136.0</td>\n",
       "      <td>yes</td>\n",
       "      <td>yes</td>\n",
       "      <td>345.0</td>\n",
       "      <td>2</td>\n",
       "      <td>249</td>\n",
       "      <td>other</td>\n",
       "      <td>no</td>\n",
       "    </tr>\n",
       "  </tbody>\n",
       "</table>\n",
       "</div>"
      ],
      "text/plain": [
       "       age            job  marital  education  balance housing loan  duration  \\\n",
       "4516  33.0       services  married  secondary   -333.0     yes   no     329.0   \n",
       "4517  57.0  self-employed  married   tertiary  -3313.0     yes  yes     153.0   \n",
       "4518  57.0     technician  married  secondary    295.0      no   no     151.0   \n",
       "4519  28.0    blue-collar  married  secondary   1137.0      no   no     129.0   \n",
       "4520  44.0   entrepreneur   single   tertiary   1136.0     yes  yes     345.0   \n",
       "\n",
       "      campaign  pdays poutcome   y  \n",
       "4516         5     -1  unknown  no  \n",
       "4517         1     -1  unknown  no  \n",
       "4518        11     -1  unknown  no  \n",
       "4519         4    211    other  no  \n",
       "4520         2    249    other  no  "
      ]
     },
     "execution_count": 4,
     "metadata": {},
     "output_type": "execute_result"
    }
   ],
   "source": [
    "dataFrame.tail()"
   ]
  },
  {
   "cell_type": "markdown",
   "id": "86bc7291",
   "metadata": {
    "direction": "rtl"
   },
   "source": [
    "خروجی متد tail(n=5) درواقع n سطر انتهای DataFrame را نمایش می‌دهد برای کم یا زیاد کردن تعداد این سطرها کافیست مقدار n را مقدار دلخواه قرار‌دهیم اگر n  را به متد ارسال نکنیم به طور پیش فرض هم مقدار آن 5 می باشد."
   ]
  },
  {
   "cell_type": "markdown",
   "id": "ecd1821b",
   "metadata": {
    "direction": "rtl"
   },
   "source": [
    "خروجی متد **head** در ادامه آمده است:"
   ]
  },
  {
   "cell_type": "code",
   "execution_count": 5,
   "id": "f41552f0",
   "metadata": {},
   "outputs": [
    {
     "data": {
      "text/html": [
       "<div>\n",
       "<style scoped>\n",
       "    .dataframe tbody tr th:only-of-type {\n",
       "        vertical-align: middle;\n",
       "    }\n",
       "\n",
       "    .dataframe tbody tr th {\n",
       "        vertical-align: top;\n",
       "    }\n",
       "\n",
       "    .dataframe thead th {\n",
       "        text-align: right;\n",
       "    }\n",
       "</style>\n",
       "<table border=\"1\" class=\"dataframe\">\n",
       "  <thead>\n",
       "    <tr style=\"text-align: right;\">\n",
       "      <th></th>\n",
       "      <th>age</th>\n",
       "      <th>job</th>\n",
       "      <th>marital</th>\n",
       "      <th>education</th>\n",
       "      <th>balance</th>\n",
       "      <th>housing</th>\n",
       "      <th>loan</th>\n",
       "      <th>duration</th>\n",
       "      <th>campaign</th>\n",
       "      <th>pdays</th>\n",
       "      <th>poutcome</th>\n",
       "      <th>y</th>\n",
       "    </tr>\n",
       "  </thead>\n",
       "  <tbody>\n",
       "    <tr>\n",
       "      <th>0</th>\n",
       "      <td>30.0</td>\n",
       "      <td>unemployed</td>\n",
       "      <td>married</td>\n",
       "      <td>primary</td>\n",
       "      <td>1787.0</td>\n",
       "      <td>no</td>\n",
       "      <td>no</td>\n",
       "      <td>79.0</td>\n",
       "      <td>1</td>\n",
       "      <td>-1</td>\n",
       "      <td>unknown</td>\n",
       "      <td>no</td>\n",
       "    </tr>\n",
       "    <tr>\n",
       "      <th>1</th>\n",
       "      <td>33.0</td>\n",
       "      <td>services</td>\n",
       "      <td>married</td>\n",
       "      <td>secondary</td>\n",
       "      <td>4789.0</td>\n",
       "      <td>yes</td>\n",
       "      <td>yes</td>\n",
       "      <td>NaN</td>\n",
       "      <td>1</td>\n",
       "      <td>339</td>\n",
       "      <td>failure</td>\n",
       "      <td>no</td>\n",
       "    </tr>\n",
       "    <tr>\n",
       "      <th>2</th>\n",
       "      <td>NaN</td>\n",
       "      <td>management</td>\n",
       "      <td>single</td>\n",
       "      <td>tertiary</td>\n",
       "      <td>135.0</td>\n",
       "      <td>yes</td>\n",
       "      <td>no</td>\n",
       "      <td>185.0</td>\n",
       "      <td>1</td>\n",
       "      <td>330</td>\n",
       "      <td>failure</td>\n",
       "      <td>no</td>\n",
       "    </tr>\n",
       "    <tr>\n",
       "      <th>3</th>\n",
       "      <td>30.0</td>\n",
       "      <td>management</td>\n",
       "      <td>married</td>\n",
       "      <td>tertiary</td>\n",
       "      <td>1476.0</td>\n",
       "      <td>yes</td>\n",
       "      <td>yes</td>\n",
       "      <td>199.0</td>\n",
       "      <td>4</td>\n",
       "      <td>-1</td>\n",
       "      <td>unknown</td>\n",
       "      <td>no</td>\n",
       "    </tr>\n",
       "    <tr>\n",
       "      <th>4</th>\n",
       "      <td>59.0</td>\n",
       "      <td>blue-collar</td>\n",
       "      <td>married</td>\n",
       "      <td>secondary</td>\n",
       "      <td>NaN</td>\n",
       "      <td>yes</td>\n",
       "      <td>no</td>\n",
       "      <td>226.0</td>\n",
       "      <td>1</td>\n",
       "      <td>-1</td>\n",
       "      <td>unknown</td>\n",
       "      <td>no</td>\n",
       "    </tr>\n",
       "  </tbody>\n",
       "</table>\n",
       "</div>"
      ],
      "text/plain": [
       "    age          job  marital  education  balance housing loan  duration  \\\n",
       "0  30.0   unemployed  married    primary   1787.0      no   no      79.0   \n",
       "1  33.0     services  married  secondary   4789.0     yes  yes       NaN   \n",
       "2   NaN   management   single   tertiary    135.0     yes   no     185.0   \n",
       "3  30.0   management  married   tertiary   1476.0     yes  yes     199.0   \n",
       "4  59.0  blue-collar  married  secondary      NaN     yes   no     226.0   \n",
       "\n",
       "   campaign  pdays poutcome   y  \n",
       "0         1     -1  unknown  no  \n",
       "1         1    339  failure  no  \n",
       "2         1    330  failure  no  \n",
       "3         4     -1  unknown  no  \n",
       "4         1     -1  unknown  no  "
      ]
     },
     "execution_count": 5,
     "metadata": {},
     "output_type": "execute_result"
    }
   ],
   "source": [
    "dataFrame.head(n=5)"
   ]
  },
  {
   "cell_type": "markdown",
   "id": "38aef908",
   "metadata": {
    "direction": "rtl"
   },
   "source": [
    "خروجی متد head(n=5) درواقع n سطر ابتدای DataFrame را نمایش می‌دهد برای کم یا زیاد کردن تعداد این سطرها کافیست مقدار n را مقدار دلخواه قرار‌دهیم اگر n  را به متد ارسال نکنیم به طور پیش فرض هم مقدار آن 5 می باشد. "
   ]
  },
  {
   "cell_type": "markdown",
   "id": "f229f1ed",
   "metadata": {
    "direction": "rtl"
   },
   "source": [
    "2.  متد کاربردی دیگر دریافت اطلاعاتی کلی راجع به داده هایتان است. این کار با متد ()info انجام می شود:"
   ]
  },
  {
   "cell_type": "code",
   "execution_count": 6,
   "id": "e90e1f94",
   "metadata": {
    "scrolled": true
   },
   "outputs": [
    {
     "name": "stdout",
     "output_type": "stream",
     "text": [
      "<class 'pandas.core.frame.DataFrame'>\n",
      "RangeIndex: 4521 entries, 0 to 4520\n",
      "Data columns (total 12 columns):\n",
      " #   Column     Non-Null Count  Dtype  \n",
      "---  ------     --------------  -----  \n",
      " 0   age        3984 non-null   float64\n",
      " 1   job        4521 non-null   object \n",
      " 2   marital    4401 non-null   object \n",
      " 3   education  4521 non-null   object \n",
      " 4   balance    4164 non-null   float64\n",
      " 5   housing    4302 non-null   object \n",
      " 6   loan       4521 non-null   object \n",
      " 7   duration   4388 non-null   float64\n",
      " 8   campaign   4521 non-null   int64  \n",
      " 9   pdays      4521 non-null   int64  \n",
      " 10  poutcome   4521 non-null   object \n",
      " 11  y          4087 non-null   object \n",
      "dtypes: float64(3), int64(2), object(7)\n",
      "memory usage: 424.0+ KB\n"
     ]
    }
   ],
   "source": [
    "dataFrame.info()"
   ]
  },
  {
   "cell_type": "markdown",
   "id": "8093d6c2",
   "metadata": {
    "direction": "rtl"
   },
   "source": [
    "یکی از مثال های ساده کاربرد info زمانی است که داده هایی را وارد pandas کرده اید. داده های شما در ظاهر کاملا عددی است اما زمانی که عملیاتی را روی آن ها انجام می دهد خطای unsupported operand را دریافت می کنید. قدم اول برای حل این مسئله استفاده از تابع info است تا بتوانید نوع داده های جدول خود را مشاهده کنید. معمولا زمانی که افراد خطای unsupported operand می گیرند، متوجه می شوند که داده هایشان در واقع رشته ای بوده است اما از آنجایی که درون رشته ها عدد می باشد تصور کرده اند که داده ها عددی است."
   ]
  },
  {
   "cell_type": "markdown",
   "id": "94d0870e",
   "metadata": {
    "direction": "rtl"
   },
   "source": [
    "برای پردازش ستونهای غیر عددی، یکی از راههای ممکن برچسبگذاری است؛ به صورتی که هر کدام از دستهها با یک عدد جایگزین شوند.برای مثال در این مجموعه داده، ستونی دستهای با نام marital وجود دارد که شامل مقادیر divorced, single و married میباشد.در فراخوانی متد replace مقادیر این ستون را به گونه‌ای تغییر داده‌ایم که هر کدام از این مدل‌ها به یکی از اعداد بازه‌ی [2,0] نگاشت است."
   ]
  },
  {
   "cell_type": "code",
   "execution_count": 7,
   "id": "7f24d80e",
   "metadata": {},
   "outputs": [
    {
     "data": {
      "text/html": [
       "<div>\n",
       "<style scoped>\n",
       "    .dataframe tbody tr th:only-of-type {\n",
       "        vertical-align: middle;\n",
       "    }\n",
       "\n",
       "    .dataframe tbody tr th {\n",
       "        vertical-align: top;\n",
       "    }\n",
       "\n",
       "    .dataframe thead th {\n",
       "        text-align: right;\n",
       "    }\n",
       "</style>\n",
       "<table border=\"1\" class=\"dataframe\">\n",
       "  <thead>\n",
       "    <tr style=\"text-align: right;\">\n",
       "      <th></th>\n",
       "      <th>age</th>\n",
       "      <th>job</th>\n",
       "      <th>marital</th>\n",
       "      <th>education</th>\n",
       "      <th>balance</th>\n",
       "      <th>housing</th>\n",
       "      <th>loan</th>\n",
       "      <th>duration</th>\n",
       "      <th>campaign</th>\n",
       "      <th>pdays</th>\n",
       "      <th>poutcome</th>\n",
       "      <th>y</th>\n",
       "    </tr>\n",
       "  </thead>\n",
       "  <tbody>\n",
       "    <tr>\n",
       "      <th>0</th>\n",
       "      <td>30.0</td>\n",
       "      <td>unemployed</td>\n",
       "      <td>2.0</td>\n",
       "      <td>primary</td>\n",
       "      <td>1787.0</td>\n",
       "      <td>no</td>\n",
       "      <td>no</td>\n",
       "      <td>79.0</td>\n",
       "      <td>1</td>\n",
       "      <td>-1</td>\n",
       "      <td>unknown</td>\n",
       "      <td>no</td>\n",
       "    </tr>\n",
       "    <tr>\n",
       "      <th>1</th>\n",
       "      <td>33.0</td>\n",
       "      <td>services</td>\n",
       "      <td>2.0</td>\n",
       "      <td>secondary</td>\n",
       "      <td>4789.0</td>\n",
       "      <td>yes</td>\n",
       "      <td>yes</td>\n",
       "      <td>NaN</td>\n",
       "      <td>1</td>\n",
       "      <td>339</td>\n",
       "      <td>failure</td>\n",
       "      <td>no</td>\n",
       "    </tr>\n",
       "    <tr>\n",
       "      <th>2</th>\n",
       "      <td>NaN</td>\n",
       "      <td>management</td>\n",
       "      <td>1.0</td>\n",
       "      <td>tertiary</td>\n",
       "      <td>135.0</td>\n",
       "      <td>yes</td>\n",
       "      <td>no</td>\n",
       "      <td>185.0</td>\n",
       "      <td>1</td>\n",
       "      <td>330</td>\n",
       "      <td>failure</td>\n",
       "      <td>no</td>\n",
       "    </tr>\n",
       "    <tr>\n",
       "      <th>3</th>\n",
       "      <td>30.0</td>\n",
       "      <td>management</td>\n",
       "      <td>2.0</td>\n",
       "      <td>tertiary</td>\n",
       "      <td>1476.0</td>\n",
       "      <td>yes</td>\n",
       "      <td>yes</td>\n",
       "      <td>199.0</td>\n",
       "      <td>4</td>\n",
       "      <td>-1</td>\n",
       "      <td>unknown</td>\n",
       "      <td>no</td>\n",
       "    </tr>\n",
       "    <tr>\n",
       "      <th>4</th>\n",
       "      <td>59.0</td>\n",
       "      <td>blue-collar</td>\n",
       "      <td>2.0</td>\n",
       "      <td>secondary</td>\n",
       "      <td>NaN</td>\n",
       "      <td>yes</td>\n",
       "      <td>no</td>\n",
       "      <td>226.0</td>\n",
       "      <td>1</td>\n",
       "      <td>-1</td>\n",
       "      <td>unknown</td>\n",
       "      <td>no</td>\n",
       "    </tr>\n",
       "  </tbody>\n",
       "</table>\n",
       "</div>"
      ],
      "text/plain": [
       "    age          job  marital  education  balance housing loan  duration  \\\n",
       "0  30.0   unemployed      2.0    primary   1787.0      no   no      79.0   \n",
       "1  33.0     services      2.0  secondary   4789.0     yes  yes       NaN   \n",
       "2   NaN   management      1.0   tertiary    135.0     yes   no     185.0   \n",
       "3  30.0   management      2.0   tertiary   1476.0     yes  yes     199.0   \n",
       "4  59.0  blue-collar      2.0  secondary      NaN     yes   no     226.0   \n",
       "\n",
       "   campaign  pdays poutcome   y  \n",
       "0         1     -1  unknown  no  \n",
       "1         1    339  failure  no  \n",
       "2         1    330  failure  no  \n",
       "3         4     -1  unknown  no  \n",
       "4         1     -1  unknown  no  "
      ]
     },
     "execution_count": 7,
     "metadata": {},
     "output_type": "execute_result"
    }
   ],
   "source": [
    "maritalLabel = {\"marital\":{\"divorced\":0, \"single\":1, \"married\":2}}\n",
    "dataFrame = dataFrame.replace(maritalLabel)\n",
    "dataFrame.head()"
   ]
  },
  {
   "cell_type": "markdown",
   "id": "765a28ec",
   "metadata": {
    "direction": "rtl"
   },
   "source": [
    "3.  مقدار بعضی از ستونهای بعضی سطرها، NaN است که معمولاً این مشکل در داده‌ها وجود دارد. pandas مقادیری که خالی باشند را با NaN نشان میدهد. حال با استفاده از همین کتابخانه و با فراخوانی متد ()isna و پس از آن متد sum تعداد سطرهایی را که مقدار آن ستون برای آنها خالی است را بدست آورده ایم."
   ]
  },
  {
   "cell_type": "code",
   "execution_count": 8,
   "id": "cc54469b",
   "metadata": {
    "scrolled": false
   },
   "outputs": [
    {
     "data": {
      "text/plain": [
       "age          537\n",
       "job            0\n",
       "marital      120\n",
       "education      0\n",
       "balance      357\n",
       "housing      219\n",
       "loan           0\n",
       "duration     133\n",
       "campaign       0\n",
       "pdays          0\n",
       "poutcome       0\n",
       "y            434\n",
       "dtype: int64"
      ]
     },
     "execution_count": 8,
     "metadata": {},
     "output_type": "execute_result"
    }
   ],
   "source": [
    "dataFrame.isna().sum()"
   ]
  },
  {
   "cell_type": "markdown",
   "id": "e5d6b7c3",
   "metadata": {
    "direction": "rtl"
   },
   "source": [
    "  برای هر ستون سطرهایی را که مقدار آن ستون برای آنها خالی است را با مقدار یانگین همان ستون، جایگزین کرده ایم."
   ]
  },
  {
   "cell_type": "code",
   "execution_count": 9,
   "id": "4ee95431",
   "metadata": {
    "scrolled": true
   },
   "outputs": [
    {
     "data": {
      "text/html": [
       "<div>\n",
       "<style scoped>\n",
       "    .dataframe tbody tr th:only-of-type {\n",
       "        vertical-align: middle;\n",
       "    }\n",
       "\n",
       "    .dataframe tbody tr th {\n",
       "        vertical-align: top;\n",
       "    }\n",
       "\n",
       "    .dataframe thead th {\n",
       "        text-align: right;\n",
       "    }\n",
       "</style>\n",
       "<table border=\"1\" class=\"dataframe\">\n",
       "  <thead>\n",
       "    <tr style=\"text-align: right;\">\n",
       "      <th></th>\n",
       "      <th>age</th>\n",
       "      <th>job</th>\n",
       "      <th>marital</th>\n",
       "      <th>education</th>\n",
       "      <th>balance</th>\n",
       "      <th>housing</th>\n",
       "      <th>loan</th>\n",
       "      <th>duration</th>\n",
       "      <th>campaign</th>\n",
       "      <th>pdays</th>\n",
       "      <th>poutcome</th>\n",
       "      <th>y</th>\n",
       "    </tr>\n",
       "  </thead>\n",
       "  <tbody>\n",
       "    <tr>\n",
       "      <th>0</th>\n",
       "      <td>30.0000</td>\n",
       "      <td>unemployed</td>\n",
       "      <td>2.0</td>\n",
       "      <td>primary</td>\n",
       "      <td>1787.0</td>\n",
       "      <td>no</td>\n",
       "      <td>no</td>\n",
       "      <td>79.0</td>\n",
       "      <td>1</td>\n",
       "      <td>-1</td>\n",
       "      <td>unknown</td>\n",
       "      <td>no</td>\n",
       "    </tr>\n",
       "    <tr>\n",
       "      <th>1</th>\n",
       "      <td>33.0000</td>\n",
       "      <td>services</td>\n",
       "      <td>2.0</td>\n",
       "      <td>secondary</td>\n",
       "      <td>4789.0</td>\n",
       "      <td>yes</td>\n",
       "      <td>yes</td>\n",
       "      <td>NaN</td>\n",
       "      <td>1</td>\n",
       "      <td>339</td>\n",
       "      <td>failure</td>\n",
       "      <td>no</td>\n",
       "    </tr>\n",
       "    <tr>\n",
       "      <th>2</th>\n",
       "      <td>41.6241</td>\n",
       "      <td>management</td>\n",
       "      <td>1.0</td>\n",
       "      <td>tertiary</td>\n",
       "      <td>135.0</td>\n",
       "      <td>yes</td>\n",
       "      <td>no</td>\n",
       "      <td>185.0</td>\n",
       "      <td>1</td>\n",
       "      <td>330</td>\n",
       "      <td>failure</td>\n",
       "      <td>no</td>\n",
       "    </tr>\n",
       "    <tr>\n",
       "      <th>3</th>\n",
       "      <td>30.0000</td>\n",
       "      <td>management</td>\n",
       "      <td>2.0</td>\n",
       "      <td>tertiary</td>\n",
       "      <td>1476.0</td>\n",
       "      <td>yes</td>\n",
       "      <td>yes</td>\n",
       "      <td>199.0</td>\n",
       "      <td>4</td>\n",
       "      <td>-1</td>\n",
       "      <td>unknown</td>\n",
       "      <td>no</td>\n",
       "    </tr>\n",
       "    <tr>\n",
       "      <th>4</th>\n",
       "      <td>59.0000</td>\n",
       "      <td>blue-collar</td>\n",
       "      <td>2.0</td>\n",
       "      <td>secondary</td>\n",
       "      <td>NaN</td>\n",
       "      <td>yes</td>\n",
       "      <td>no</td>\n",
       "      <td>226.0</td>\n",
       "      <td>1</td>\n",
       "      <td>-1</td>\n",
       "      <td>unknown</td>\n",
       "      <td>no</td>\n",
       "    </tr>\n",
       "  </tbody>\n",
       "</table>\n",
       "</div>"
      ],
      "text/plain": [
       "       age          job  marital  education  balance housing loan  duration  \\\n",
       "0  30.0000   unemployed      2.0    primary   1787.0      no   no      79.0   \n",
       "1  33.0000     services      2.0  secondary   4789.0     yes  yes       NaN   \n",
       "2  41.6241   management      1.0   tertiary    135.0     yes   no     185.0   \n",
       "3  30.0000   management      2.0   tertiary   1476.0     yes  yes     199.0   \n",
       "4  59.0000  blue-collar      2.0  secondary      NaN     yes   no     226.0   \n",
       "\n",
       "   campaign  pdays poutcome   y  \n",
       "0         1     -1  unknown  no  \n",
       "1         1    339  failure  no  \n",
       "2         1    330  failure  no  \n",
       "3         4     -1  unknown  no  \n",
       "4         1     -1  unknown  no  "
      ]
     },
     "execution_count": 9,
     "metadata": {},
     "output_type": "execute_result"
    }
   ],
   "source": [
    "ageMean = dataFrame[dataFrame['y'].notna()]['age'].mean()\n",
    "must_filled = dataFrame[dataFrame['y'].notna()]['age'].isna()\n",
    "dataFrame.loc[must_filled[must_filled].index,'age'] = ageMean\n",
    "dataFrame.head()"
   ]
  },
  {
   "cell_type": "markdown",
   "id": "9ea3e467",
   "metadata": {
    "direction": "rtl"
   },
   "source": [
    "  مقادیری در ستون balance که NAN بودند با مقدار میانگین جایگزین شده‌اند."
   ]
  },
  {
   "cell_type": "code",
   "execution_count": 10,
   "id": "b6532e03",
   "metadata": {},
   "outputs": [
    {
     "data": {
      "text/plain": [
       "age           60\n",
       "job            0\n",
       "marital      120\n",
       "education      0\n",
       "balance      357\n",
       "housing      219\n",
       "loan           0\n",
       "duration     133\n",
       "campaign       0\n",
       "pdays          0\n",
       "poutcome       0\n",
       "y            434\n",
       "dtype: int64"
      ]
     },
     "execution_count": 10,
     "metadata": {},
     "output_type": "execute_result"
    }
   ],
   "source": [
    "dataFrame.isna().sum()"
   ]
  },
  {
   "cell_type": "code",
   "execution_count": 11,
   "id": "c0594ab0",
   "metadata": {
    "scrolled": true
   },
   "outputs": [
    {
     "data": {
      "text/html": [
       "<div>\n",
       "<style scoped>\n",
       "    .dataframe tbody tr th:only-of-type {\n",
       "        vertical-align: middle;\n",
       "    }\n",
       "\n",
       "    .dataframe tbody tr th {\n",
       "        vertical-align: top;\n",
       "    }\n",
       "\n",
       "    .dataframe thead th {\n",
       "        text-align: right;\n",
       "    }\n",
       "</style>\n",
       "<table border=\"1\" class=\"dataframe\">\n",
       "  <thead>\n",
       "    <tr style=\"text-align: right;\">\n",
       "      <th></th>\n",
       "      <th>age</th>\n",
       "      <th>job</th>\n",
       "      <th>marital</th>\n",
       "      <th>education</th>\n",
       "      <th>balance</th>\n",
       "      <th>housing</th>\n",
       "      <th>loan</th>\n",
       "      <th>duration</th>\n",
       "      <th>campaign</th>\n",
       "      <th>pdays</th>\n",
       "      <th>poutcome</th>\n",
       "      <th>y</th>\n",
       "    </tr>\n",
       "  </thead>\n",
       "  <tbody>\n",
       "    <tr>\n",
       "      <th>0</th>\n",
       "      <td>30.0000</td>\n",
       "      <td>unemployed</td>\n",
       "      <td>2.0</td>\n",
       "      <td>primary</td>\n",
       "      <td>1787.000000</td>\n",
       "      <td>no</td>\n",
       "      <td>no</td>\n",
       "      <td>79.0</td>\n",
       "      <td>1</td>\n",
       "      <td>-1</td>\n",
       "      <td>unknown</td>\n",
       "      <td>no</td>\n",
       "    </tr>\n",
       "    <tr>\n",
       "      <th>1</th>\n",
       "      <td>33.0000</td>\n",
       "      <td>services</td>\n",
       "      <td>2.0</td>\n",
       "      <td>secondary</td>\n",
       "      <td>4789.000000</td>\n",
       "      <td>yes</td>\n",
       "      <td>yes</td>\n",
       "      <td>NaN</td>\n",
       "      <td>1</td>\n",
       "      <td>339</td>\n",
       "      <td>failure</td>\n",
       "      <td>no</td>\n",
       "    </tr>\n",
       "    <tr>\n",
       "      <th>2</th>\n",
       "      <td>41.6241</td>\n",
       "      <td>management</td>\n",
       "      <td>1.0</td>\n",
       "      <td>tertiary</td>\n",
       "      <td>135.000000</td>\n",
       "      <td>yes</td>\n",
       "      <td>no</td>\n",
       "      <td>185.0</td>\n",
       "      <td>1</td>\n",
       "      <td>330</td>\n",
       "      <td>failure</td>\n",
       "      <td>no</td>\n",
       "    </tr>\n",
       "    <tr>\n",
       "      <th>3</th>\n",
       "      <td>30.0000</td>\n",
       "      <td>management</td>\n",
       "      <td>2.0</td>\n",
       "      <td>tertiary</td>\n",
       "      <td>1476.000000</td>\n",
       "      <td>yes</td>\n",
       "      <td>yes</td>\n",
       "      <td>199.0</td>\n",
       "      <td>4</td>\n",
       "      <td>-1</td>\n",
       "      <td>unknown</td>\n",
       "      <td>no</td>\n",
       "    </tr>\n",
       "    <tr>\n",
       "      <th>4</th>\n",
       "      <td>59.0000</td>\n",
       "      <td>blue-collar</td>\n",
       "      <td>2.0</td>\n",
       "      <td>secondary</td>\n",
       "      <td>1119.537991</td>\n",
       "      <td>yes</td>\n",
       "      <td>no</td>\n",
       "      <td>226.0</td>\n",
       "      <td>1</td>\n",
       "      <td>-1</td>\n",
       "      <td>unknown</td>\n",
       "      <td>no</td>\n",
       "    </tr>\n",
       "  </tbody>\n",
       "</table>\n",
       "</div>"
      ],
      "text/plain": [
       "       age          job  marital  education      balance housing loan  \\\n",
       "0  30.0000   unemployed      2.0    primary  1787.000000      no   no   \n",
       "1  33.0000     services      2.0  secondary  4789.000000     yes  yes   \n",
       "2  41.6241   management      1.0   tertiary   135.000000     yes   no   \n",
       "3  30.0000   management      2.0   tertiary  1476.000000     yes  yes   \n",
       "4  59.0000  blue-collar      2.0  secondary  1119.537991     yes   no   \n",
       "\n",
       "   duration  campaign  pdays poutcome   y  \n",
       "0      79.0         1     -1  unknown  no  \n",
       "1       NaN         1    339  failure  no  \n",
       "2     185.0         1    330  failure  no  \n",
       "3     199.0         4     -1  unknown  no  \n",
       "4     226.0         1     -1  unknown  no  "
      ]
     },
     "execution_count": 11,
     "metadata": {},
     "output_type": "execute_result"
    }
   ],
   "source": [
    "balanceMean = dataFrame[dataFrame['y'].notna()]['balance'].mean()\n",
    "must_filled = dataFrame[dataFrame['y'].notna()]['balance'].isna()\n",
    "dataFrame.loc[must_filled[must_filled].index,'balance'] = balanceMean\n",
    "dataFrame.head()"
   ]
  },
  {
   "cell_type": "markdown",
   "id": "1ef044c7",
   "metadata": {
    "direction": "rtl"
   },
   "source": [
    "  مقادیری در ستون duration که NAN بودند با مقدار میانگین جایگزین شده‌اند."
   ]
  },
  {
   "cell_type": "code",
   "execution_count": 12,
   "id": "6b57fa13",
   "metadata": {},
   "outputs": [
    {
     "data": {
      "text/plain": [
       "age           60\n",
       "job            0\n",
       "marital      120\n",
       "education      0\n",
       "balance       34\n",
       "housing      219\n",
       "loan           0\n",
       "duration     133\n",
       "campaign       0\n",
       "pdays          0\n",
       "poutcome       0\n",
       "y            434\n",
       "dtype: int64"
      ]
     },
     "execution_count": 12,
     "metadata": {},
     "output_type": "execute_result"
    }
   ],
   "source": [
    "dataFrame.isna().sum()"
   ]
  },
  {
   "cell_type": "code",
   "execution_count": 13,
   "id": "ab3c73c6",
   "metadata": {},
   "outputs": [
    {
     "data": {
      "text/html": [
       "<div>\n",
       "<style scoped>\n",
       "    .dataframe tbody tr th:only-of-type {\n",
       "        vertical-align: middle;\n",
       "    }\n",
       "\n",
       "    .dataframe tbody tr th {\n",
       "        vertical-align: top;\n",
       "    }\n",
       "\n",
       "    .dataframe thead th {\n",
       "        text-align: right;\n",
       "    }\n",
       "</style>\n",
       "<table border=\"1\" class=\"dataframe\">\n",
       "  <thead>\n",
       "    <tr style=\"text-align: right;\">\n",
       "      <th></th>\n",
       "      <th>age</th>\n",
       "      <th>job</th>\n",
       "      <th>marital</th>\n",
       "      <th>education</th>\n",
       "      <th>balance</th>\n",
       "      <th>housing</th>\n",
       "      <th>loan</th>\n",
       "      <th>duration</th>\n",
       "      <th>campaign</th>\n",
       "      <th>pdays</th>\n",
       "      <th>poutcome</th>\n",
       "      <th>y</th>\n",
       "    </tr>\n",
       "  </thead>\n",
       "  <tbody>\n",
       "    <tr>\n",
       "      <th>0</th>\n",
       "      <td>30.0000</td>\n",
       "      <td>unemployed</td>\n",
       "      <td>2.0</td>\n",
       "      <td>primary</td>\n",
       "      <td>1787.000000</td>\n",
       "      <td>no</td>\n",
       "      <td>no</td>\n",
       "      <td>79.000000</td>\n",
       "      <td>1</td>\n",
       "      <td>-1</td>\n",
       "      <td>unknown</td>\n",
       "      <td>no</td>\n",
       "    </tr>\n",
       "    <tr>\n",
       "      <th>1</th>\n",
       "      <td>33.0000</td>\n",
       "      <td>services</td>\n",
       "      <td>2.0</td>\n",
       "      <td>secondary</td>\n",
       "      <td>4789.000000</td>\n",
       "      <td>yes</td>\n",
       "      <td>yes</td>\n",
       "      <td>266.086858</td>\n",
       "      <td>1</td>\n",
       "      <td>339</td>\n",
       "      <td>failure</td>\n",
       "      <td>no</td>\n",
       "    </tr>\n",
       "    <tr>\n",
       "      <th>2</th>\n",
       "      <td>41.6241</td>\n",
       "      <td>management</td>\n",
       "      <td>1.0</td>\n",
       "      <td>tertiary</td>\n",
       "      <td>135.000000</td>\n",
       "      <td>yes</td>\n",
       "      <td>no</td>\n",
       "      <td>185.000000</td>\n",
       "      <td>1</td>\n",
       "      <td>330</td>\n",
       "      <td>failure</td>\n",
       "      <td>no</td>\n",
       "    </tr>\n",
       "    <tr>\n",
       "      <th>3</th>\n",
       "      <td>30.0000</td>\n",
       "      <td>management</td>\n",
       "      <td>2.0</td>\n",
       "      <td>tertiary</td>\n",
       "      <td>1476.000000</td>\n",
       "      <td>yes</td>\n",
       "      <td>yes</td>\n",
       "      <td>199.000000</td>\n",
       "      <td>4</td>\n",
       "      <td>-1</td>\n",
       "      <td>unknown</td>\n",
       "      <td>no</td>\n",
       "    </tr>\n",
       "    <tr>\n",
       "      <th>4</th>\n",
       "      <td>59.0000</td>\n",
       "      <td>blue-collar</td>\n",
       "      <td>2.0</td>\n",
       "      <td>secondary</td>\n",
       "      <td>1119.537991</td>\n",
       "      <td>yes</td>\n",
       "      <td>no</td>\n",
       "      <td>226.000000</td>\n",
       "      <td>1</td>\n",
       "      <td>-1</td>\n",
       "      <td>unknown</td>\n",
       "      <td>no</td>\n",
       "    </tr>\n",
       "  </tbody>\n",
       "</table>\n",
       "</div>"
      ],
      "text/plain": [
       "       age          job  marital  education      balance housing loan  \\\n",
       "0  30.0000   unemployed      2.0    primary  1787.000000      no   no   \n",
       "1  33.0000     services      2.0  secondary  4789.000000     yes  yes   \n",
       "2  41.6241   management      1.0   tertiary   135.000000     yes   no   \n",
       "3  30.0000   management      2.0   tertiary  1476.000000     yes  yes   \n",
       "4  59.0000  blue-collar      2.0  secondary  1119.537991     yes   no   \n",
       "\n",
       "     duration  campaign  pdays poutcome   y  \n",
       "0   79.000000         1     -1  unknown  no  \n",
       "1  266.086858         1    339  failure  no  \n",
       "2  185.000000         1    330  failure  no  \n",
       "3  199.000000         4     -1  unknown  no  \n",
       "4  226.000000         1     -1  unknown  no  "
      ]
     },
     "execution_count": 13,
     "metadata": {},
     "output_type": "execute_result"
    }
   ],
   "source": [
    "durationMean = dataFrame[dataFrame['y'].notna()]['duration'].mean()\n",
    "must_filled = dataFrame[dataFrame['y'].notna()]['duration'].isna()\n",
    "dataFrame.loc[must_filled[must_filled].index,'duration'] = durationMean\n",
    "dataFrame.head()"
   ]
  },
  {
   "cell_type": "code",
   "execution_count": 14,
   "id": "7f35fd10",
   "metadata": {},
   "outputs": [
    {
     "data": {
      "text/plain": [
       "age           60\n",
       "job            0\n",
       "marital      120\n",
       "education      0\n",
       "balance       34\n",
       "housing      219\n",
       "loan           0\n",
       "duration      18\n",
       "campaign       0\n",
       "pdays          0\n",
       "poutcome       0\n",
       "y            434\n",
       "dtype: int64"
      ]
     },
     "execution_count": 14,
     "metadata": {},
     "output_type": "execute_result"
    }
   ],
   "source": [
    "dataFrame.isna().sum()"
   ]
  },
  {
   "cell_type": "code",
   "execution_count": 15,
   "id": "724986ea",
   "metadata": {
    "scrolled": true
   },
   "outputs": [
    {
     "data": {
      "text/html": [
       "<div>\n",
       "<style scoped>\n",
       "    .dataframe tbody tr th:only-of-type {\n",
       "        vertical-align: middle;\n",
       "    }\n",
       "\n",
       "    .dataframe tbody tr th {\n",
       "        vertical-align: top;\n",
       "    }\n",
       "\n",
       "    .dataframe thead th {\n",
       "        text-align: right;\n",
       "    }\n",
       "</style>\n",
       "<table border=\"1\" class=\"dataframe\">\n",
       "  <thead>\n",
       "    <tr style=\"text-align: right;\">\n",
       "      <th></th>\n",
       "      <th>age</th>\n",
       "      <th>marital</th>\n",
       "      <th>balance</th>\n",
       "      <th>duration</th>\n",
       "      <th>campaign</th>\n",
       "      <th>pdays</th>\n",
       "    </tr>\n",
       "  </thead>\n",
       "  <tbody>\n",
       "    <tr>\n",
       "      <th>count</th>\n",
       "      <td>4461.000000</td>\n",
       "      <td>4401.000000</td>\n",
       "      <td>4487.000000</td>\n",
       "      <td>4503.000000</td>\n",
       "      <td>4521.000000</td>\n",
       "      <td>4521.000000</td>\n",
       "    </tr>\n",
       "    <tr>\n",
       "      <th>mean</th>\n",
       "      <td>41.618179</td>\n",
       "      <td>1.503522</td>\n",
       "      <td>1135.511204</td>\n",
       "      <td>264.758825</td>\n",
       "      <td>2.793630</td>\n",
       "      <td>39.766645</td>\n",
       "    </tr>\n",
       "    <tr>\n",
       "      <th>std</th>\n",
       "      <td>10.108215</td>\n",
       "      <td>0.694818</td>\n",
       "      <td>2626.229595</td>\n",
       "      <td>257.701392</td>\n",
       "      <td>3.109807</td>\n",
       "      <td>100.121124</td>\n",
       "    </tr>\n",
       "    <tr>\n",
       "      <th>min</th>\n",
       "      <td>19.000000</td>\n",
       "      <td>0.000000</td>\n",
       "      <td>-3313.000000</td>\n",
       "      <td>4.000000</td>\n",
       "      <td>1.000000</td>\n",
       "      <td>-1.000000</td>\n",
       "    </tr>\n",
       "    <tr>\n",
       "      <th>25%</th>\n",
       "      <td>33.000000</td>\n",
       "      <td>1.000000</td>\n",
       "      <td>69.000000</td>\n",
       "      <td>106.000000</td>\n",
       "      <td>1.000000</td>\n",
       "      <td>-1.000000</td>\n",
       "    </tr>\n",
       "    <tr>\n",
       "      <th>50%</th>\n",
       "      <td>41.624100</td>\n",
       "      <td>2.000000</td>\n",
       "      <td>376.000000</td>\n",
       "      <td>192.000000</td>\n",
       "      <td>2.000000</td>\n",
       "      <td>-1.000000</td>\n",
       "    </tr>\n",
       "    <tr>\n",
       "      <th>75%</th>\n",
       "      <td>48.000000</td>\n",
       "      <td>2.000000</td>\n",
       "      <td>1119.537991</td>\n",
       "      <td>325.500000</td>\n",
       "      <td>3.000000</td>\n",
       "      <td>-1.000000</td>\n",
       "    </tr>\n",
       "    <tr>\n",
       "      <th>max</th>\n",
       "      <td>87.000000</td>\n",
       "      <td>2.000000</td>\n",
       "      <td>71188.000000</td>\n",
       "      <td>3025.000000</td>\n",
       "      <td>50.000000</td>\n",
       "      <td>871.000000</td>\n",
       "    </tr>\n",
       "  </tbody>\n",
       "</table>\n",
       "</div>"
      ],
      "text/plain": [
       "               age      marital       balance     duration     campaign  \\\n",
       "count  4461.000000  4401.000000   4487.000000  4503.000000  4521.000000   \n",
       "mean     41.618179     1.503522   1135.511204   264.758825     2.793630   \n",
       "std      10.108215     0.694818   2626.229595   257.701392     3.109807   \n",
       "min      19.000000     0.000000  -3313.000000     4.000000     1.000000   \n",
       "25%      33.000000     1.000000     69.000000   106.000000     1.000000   \n",
       "50%      41.624100     2.000000    376.000000   192.000000     2.000000   \n",
       "75%      48.000000     2.000000   1119.537991   325.500000     3.000000   \n",
       "max      87.000000     2.000000  71188.000000  3025.000000    50.000000   \n",
       "\n",
       "             pdays  \n",
       "count  4521.000000  \n",
       "mean     39.766645  \n",
       "std     100.121124  \n",
       "min      -1.000000  \n",
       "25%      -1.000000  \n",
       "50%      -1.000000  \n",
       "75%      -1.000000  \n",
       "max     871.000000  "
      ]
     },
     "execution_count": 15,
     "metadata": {},
     "output_type": "execute_result"
    }
   ],
   "source": [
    "dataFrame.describe()"
   ]
  },
  {
   "cell_type": "markdown",
   "id": "8997e125",
   "metadata": {
    "direction": "rtl"
   },
   "source": [
    "  در اینجا ابتدا به کمک تابع mean میانگین هر ستون را محاسبه کردیم و سپس با استفاده از تابع fillna مقادیر NaN را با میانگین ستون موردنظر جایگزین کرده‌دیم.\n",
    "\n",
    "باتوجه به داده ها استفاده از میانگین میتواند مناسب و یا نامناسب باشد. درصورت وجود داده های پرت و بدلیل تاثیرگذاری زیاد این داده ها بروی میانگین، این روش مناسب نخواهد بود.\n",
    "\n",
    "همچنین با اجرای دوباره تابع describe مشاهده میکنیم که جایگزینی میانگین باعث تغییر در مقادیر انحراف معیار و چارکها برای دو ستون age ، campaign و balance شده است."
   ]
  },
  {
   "cell_type": "markdown",
   "id": "83025b63",
   "metadata": {
    "direction": "rtl"
   },
   "source": [
    "  حال ابتدا سطرهایی که مقادیر قیمت برای آنها NaN است را در یک دیتافریم دیگر ذخیره میکنیم و پس از آن با استفاده از تابع dropna این سطرها را از دیتافریم اصلی حذف می‌کنیم."
   ]
  },
  {
   "cell_type": "code",
   "execution_count": 16,
   "id": "f52c455d",
   "metadata": {},
   "outputs": [],
   "source": [
    "df = dataFrame[dataFrame[\"y\"].isna()]\n",
    "dataFrame = dataFrame.dropna()"
   ]
  },
  {
   "cell_type": "markdown",
   "id": "0a84bc6a",
   "metadata": {
    "direction": "rtl"
   },
   "source": [
    "4.  با فراخوانی تابع value_counts از کتابخانه pandas  تعداد کاربرانی که وام خانه دارند به کمک دستور زیر بدست می آید."
   ]
  },
  {
   "cell_type": "code",
   "execution_count": 17,
   "id": "eb975ab5",
   "metadata": {},
   "outputs": [
    {
     "data": {
      "text/plain": [
       "yes    2128\n",
       "no     1659\n",
       "Name: housing, dtype: int64"
      ]
     },
     "execution_count": 17,
     "metadata": {},
     "output_type": "execute_result"
    }
   ],
   "source": [
    "dataFrame[\"housing\"].value_counts()"
   ]
  },
  {
   "cell_type": "markdown",
   "id": "b313937c",
   "metadata": {
    "direction": "rtl"
   },
   "source": [
    "  با فراخوانی تابع value_counts از کتابخانه pandas  تعداد کاربرانی که سپرده مدت‌دار را ثبت کرده‌اند به کمک دستور زیر بدست می‌آید."
   ]
  },
  {
   "cell_type": "code",
   "execution_count": 18,
   "id": "7c490e40",
   "metadata": {},
   "outputs": [
    {
     "data": {
      "text/plain": [
       "no     3360\n",
       "yes     427\n",
       "Name: y, dtype: int64"
      ]
     },
     "execution_count": 18,
     "metadata": {},
     "output_type": "execute_result"
    }
   ],
   "source": [
    "dataFrame[\"y\"].value_counts()"
   ]
  },
  {
   "cell_type": "markdown",
   "id": "39a7c2ea",
   "metadata": {
    "direction": "rtl"
   },
   "source": [
    "5.  تعداد کاربران بالای ۳۵ سال با وضعیت تاهل مجرد که نتیجه کمپین بازاریابی قبلی برای آنها موفقیتآمیز بوده است به کمک دستور زیر بدست می‌آید."
   ]
  },
  {
   "cell_type": "code",
   "execution_count": 19,
   "id": "94aa43af",
   "metadata": {},
   "outputs": [
    {
     "data": {
      "text/plain": [
       "14"
      ]
     },
     "execution_count": 19,
     "metadata": {},
     "output_type": "execute_result"
    }
   ],
   "source": [
    "((dataFrame[\"age\"] > 35) & (dataFrame[\"marital\"] == 1) & (dataFrame[\"poutcome\"] == \"success\")).sum()"
   ]
  },
  {
   "cell_type": "markdown",
   "id": "19da90d3",
   "metadata": {
    "direction": "rtl"
   },
   "source": [
    "6.  میانگین موجودی حساب سالانه مشتریانی که وضعیت تحصیل secondary دارند با کمک دستور زیر بدست می‌آید."
   ]
  },
  {
   "cell_type": "code",
   "execution_count": 20,
   "id": "e338adf7",
   "metadata": {},
   "outputs": [
    {
     "data": {
      "text/plain": [
       "952.68422111853"
      ]
     },
     "execution_count": 20,
     "metadata": {},
     "output_type": "execute_result"
    }
   ],
   "source": [
    "secMean = dataFrame[dataFrame[\"education\"] == \"secondary\"][\"balance\"].mean()\n",
    "secMean"
   ]
  },
  {
   "cell_type": "markdown",
   "id": "2a79e7ef",
   "metadata": {
    "direction": "rtl"
   },
   "source": [
    "در این قسمت بدون حلقه for و به کمک کتابخانه time زمان اجرا این قطعه کد را محاسبه می‌کنیم."
   ]
  },
  {
   "cell_type": "code",
   "execution_count": 21,
   "id": "a3d90b40",
   "metadata": {},
   "outputs": [
    {
     "name": "stdout",
     "output_type": "stream",
     "text": [
      "mean: 952.68422111853\n",
      "time: 2.996445 ms\n"
     ]
    }
   ],
   "source": [
    "import time\n",
    "tic = time.time()\n",
    "\n",
    "secMean = dataFrame[dataFrame[\"education\"] == \"secondary\"][\"balance\"].mean()\n",
    "\n",
    "toc = time.time()\n",
    "print(\"mean:\", secMean)\n",
    "print(\"time: %f ms\" % ((toc - tic)*1000))"
   ]
  },
  {
   "cell_type": "markdown",
   "id": "d517c398",
   "metadata": {
    "direction": "rtl"
   },
   "source": [
    "7.  در این مرحله، محاسبات قسمت 6  را با استفاده از حلقه for انجام میدهیم و مشاهده میکنیم که زمان انجام این کار نسبت به حالت vectorization افزایش می‌ابد."
   ]
  },
  {
   "cell_type": "code",
   "execution_count": 22,
   "id": "e01caa21",
   "metadata": {
    "scrolled": true
   },
   "outputs": [
    {
     "name": "stdout",
     "output_type": "stream",
     "text": [
      "mean: 952.68422111853\n",
      "time: 339.788675 ms\n"
     ]
    }
   ],
   "source": [
    "tic = time.time()\n",
    "\n",
    "secondary = 0\n",
    "balanceSum = 0\n",
    "\n",
    "for row in dataFrame.iterrows():\n",
    "    if row[1][\"education\"] == \"secondary\":\n",
    "        balanceSum += row[1][\"balance\"]\n",
    "        secondary += 1\n",
    "secMean = balanceSum / secondary\n",
    "\n",
    "toc = time.time()\n",
    "print(\"mean:\", secMean)\n",
    "print(\"time: %f ms\" % ((toc - tic)*1000))"
   ]
  },
  {
   "cell_type": "markdown",
   "id": "d646043a",
   "metadata": {
    "direction": "rtl"
   },
   "source": [
    "8.  در این قسمت به کمک تابع hist در کتابخانه pandas نمودار توزیع ستونهای عددی را رسم می‌کنیم."
   ]
  },
  {
   "cell_type": "code",
   "execution_count": 23,
   "id": "73e0dce8",
   "metadata": {
    "scrolled": true
   },
   "outputs": [
    {
     "data": {
      "image/png": "[encoded data removed]",
      "text/plain": [
       "<Figure size 432x288 with 1 Axes>"
      ]
     },
     "metadata": {
      "needs_background": "light"
     },
     "output_type": "display_data"
    },
    {
     "data": {
      "image/png": "[encoded data removed]",
      "text/plain": [
       "<Figure size 432x288 with 1 Axes>"
      ]
     },
     "metadata": {
      "needs_background": "light"
     },
     "output_type": "display_data"
    },
    {
     "data": {
      "image/png": "[encoded data removed]",
      "text/plain": [
       "<Figure size 432x288 with 1 Axes>"
      ]
     },
     "metadata": {
      "needs_background": "light"
     },
     "output_type": "display_data"
    },
    {
     "data": {
      "image/png": "[encoded data removed]",
      "text/plain": [
       "<Figure size 432x288 with 1 Axes>"
      ]
     },
     "metadata": {
      "needs_background": "light"
     },
     "output_type": "display_data"
    },
    {
     "data": {
      "image/png": "[encoded data removed]",
      "text/plain": [
       "<Figure size 432x288 with 1 Axes>"
      ]
     },
     "metadata": {
      "needs_background": "light"
     },
     "output_type": "display_data"
    }
   ],
   "source": [
    "age = dataFrame.hist(column=\"age\",bins=30)\n",
    "for i in age[0]:\n",
    "    i.set_xlabel(\"age\")\n",
    "    i.set_ylabel(\"frequency\")\n",
    "\n",
    "balance = dataFrame.hist(column=\"balance\",bins=30)\n",
    "for i in balance[0]:\n",
    "    i.set_xlabel(\"balance\")\n",
    "    i.set_ylabel(\"frequency\")    \n",
    "\n",
    "duration = dataFrame.hist(column=\"duration\",bins=30)\n",
    "for i in duration[0]:\n",
    "    i.set_xlabel(\"duration\")\n",
    "    i.set_ylabel(\"frequency\")\n",
    "    \n",
    "campaign = dataFrame.hist(column=\"campaign\",bins=30)\n",
    "for i in campaign[0]:\n",
    "    i.set_xlabel(\"campaign\")\n",
    "    i.set_ylabel(\"frequency\")\n",
    "    \n",
    "pdays = dataFrame.hist(column=\"pdays\",bins=30)\n",
    "for i in pdays[0]:\n",
    "    i.set_xlabel(\"pdays\")\n",
    "    i.set_ylabel(\"frequency\")"
   ]
  },
  {
   "cell_type": "markdown",
   "id": "4630ecb0",
   "metadata": {
    "direction": "rtl"
   },
   "source": [
    "9.  یکی از راههای بهبود دادهها برای مدلهای یادگیری ماشین، نرمالسازی داده‌هاست. برای تمام ستونها، نرمال سازی را با کم کردن میانگین و تقسیم کردن بر انحراف‌معیار انجام داده ایم."
   ]
  },
  {
   "cell_type": "code",
   "execution_count": 24,
   "id": "03d7333b",
   "metadata": {
    "scrolled": true
   },
   "outputs": [
    {
     "data": {
      "text/html": [
       "<div>\n",
       "<style scoped>\n",
       "    .dataframe tbody tr th:only-of-type {\n",
       "        vertical-align: middle;\n",
       "    }\n",
       "\n",
       "    .dataframe tbody tr th {\n",
       "        vertical-align: top;\n",
       "    }\n",
       "\n",
       "    .dataframe thead th {\n",
       "        text-align: right;\n",
       "    }\n",
       "</style>\n",
       "<table border=\"1\" class=\"dataframe\">\n",
       "  <thead>\n",
       "    <tr style=\"text-align: right;\">\n",
       "      <th></th>\n",
       "      <th>age</th>\n",
       "      <th>job</th>\n",
       "      <th>marital</th>\n",
       "      <th>education</th>\n",
       "      <th>balance</th>\n",
       "      <th>housing</th>\n",
       "      <th>loan</th>\n",
       "      <th>duration</th>\n",
       "      <th>campaign</th>\n",
       "      <th>pdays</th>\n",
       "      <th>poutcome</th>\n",
       "      <th>y</th>\n",
       "    </tr>\n",
       "  </thead>\n",
       "  <tbody>\n",
       "    <tr>\n",
       "      <th>0</th>\n",
       "      <td>-1.156484</td>\n",
       "      <td>unemployed</td>\n",
       "      <td>2.0</td>\n",
       "      <td>primary</td>\n",
       "      <td>0.288618</td>\n",
       "      <td>no</td>\n",
       "      <td>no</td>\n",
       "      <td>-0.732398</td>\n",
       "      <td>-0.575804</td>\n",
       "      <td>-0.399719</td>\n",
       "      <td>unknown</td>\n",
       "      <td>no</td>\n",
       "    </tr>\n",
       "    <tr>\n",
       "      <th>1</th>\n",
       "      <td>-0.860327</td>\n",
       "      <td>services</td>\n",
       "      <td>2.0</td>\n",
       "      <td>secondary</td>\n",
       "      <td>1.562681</td>\n",
       "      <td>yes</td>\n",
       "      <td>yes</td>\n",
       "      <td>0.004402</td>\n",
       "      <td>-0.575804</td>\n",
       "      <td>3.096044</td>\n",
       "      <td>failure</td>\n",
       "      <td>no</td>\n",
       "    </tr>\n",
       "    <tr>\n",
       "      <th>2</th>\n",
       "      <td>-0.008964</td>\n",
       "      <td>management</td>\n",
       "      <td>1.0</td>\n",
       "      <td>tertiary</td>\n",
       "      <td>-0.412499</td>\n",
       "      <td>yes</td>\n",
       "      <td>no</td>\n",
       "      <td>-0.314941</td>\n",
       "      <td>-0.575804</td>\n",
       "      <td>3.003509</td>\n",
       "      <td>failure</td>\n",
       "      <td>no</td>\n",
       "    </tr>\n",
       "    <tr>\n",
       "      <th>3</th>\n",
       "      <td>-1.156484</td>\n",
       "      <td>management</td>\n",
       "      <td>2.0</td>\n",
       "      <td>tertiary</td>\n",
       "      <td>0.156628</td>\n",
       "      <td>yes</td>\n",
       "      <td>yes</td>\n",
       "      <td>-0.259805</td>\n",
       "      <td>0.389477</td>\n",
       "      <td>-0.399719</td>\n",
       "      <td>unknown</td>\n",
       "      <td>no</td>\n",
       "    </tr>\n",
       "    <tr>\n",
       "      <th>4</th>\n",
       "      <td>1.706368</td>\n",
       "      <td>blue-collar</td>\n",
       "      <td>2.0</td>\n",
       "      <td>secondary</td>\n",
       "      <td>0.005344</td>\n",
       "      <td>yes</td>\n",
       "      <td>no</td>\n",
       "      <td>-0.153471</td>\n",
       "      <td>-0.575804</td>\n",
       "      <td>-0.399719</td>\n",
       "      <td>unknown</td>\n",
       "      <td>no</td>\n",
       "    </tr>\n",
       "  </tbody>\n",
       "</table>\n",
       "</div>"
      ],
      "text/plain": [
       "        age          job  marital  education   balance housing loan  duration  \\\n",
       "0 -1.156484   unemployed      2.0    primary  0.288618      no   no -0.732398   \n",
       "1 -0.860327     services      2.0  secondary  1.562681     yes  yes  0.004402   \n",
       "2 -0.008964   management      1.0   tertiary -0.412499     yes   no -0.314941   \n",
       "3 -1.156484   management      2.0   tertiary  0.156628     yes  yes -0.259805   \n",
       "4  1.706368  blue-collar      2.0  secondary  0.005344     yes   no -0.153471   \n",
       "\n",
       "   campaign     pdays poutcome   y  \n",
       "0 -0.575804 -0.399719  unknown  no  \n",
       "1 -0.575804  3.096044  failure  no  \n",
       "2 -0.575804  3.003509  failure  no  \n",
       "3  0.389477 -0.399719  unknown  no  \n",
       "4 -0.575804 -0.399719  unknown  no  "
      ]
     },
     "execution_count": 24,
     "metadata": {},
     "output_type": "execute_result"
    }
   ],
   "source": [
    "dataFrame[\"age\"] = (dataFrame[\"age\"] - dataFrame[\"age\"].mean())/dataFrame[\"age\"].std()\n",
    "\n",
    "dataFrame[\"balance\"] = (dataFrame[\"balance\"] - dataFrame[\"balance\"].mean())/dataFrame[\"balance\"].std()\n",
    "\n",
    "dataFrame[\"duration\"] = (dataFrame[\"duration\"] - dataFrame[\"duration\"].mean())/dataFrame[\"duration\"].std()\n",
    "\n",
    "dataFrame[\"campaign\"] = (dataFrame[\"campaign\"] - dataFrame[\"campaign\"].mean())/dataFrame[\"campaign\"].std()\n",
    "\n",
    "dataFrame[\"pdays\"] = (dataFrame[\"pdays\"] - dataFrame[\"pdays\"].mean())/dataFrame[\"pdays\"].std()\n",
    "\n",
    "dataFrame.head()"
   ]
  },
  {
   "cell_type": "markdown",
   "id": "52df8596",
   "metadata": {
    "direction": "rtl"
   },
   "source": [
    "10.  تابع چگالی احتمال توزیع نرمال ویژگی age:"
   ]
  },
  {
   "cell_type": "code",
   "execution_count": 25,
   "id": "c4351d6a",
   "metadata": {},
   "outputs": [
    {
     "name": "stdout",
     "output_type": "stream",
     "text": [
      "mean: 0.13968340202267962\n",
      "std: 1.2495342983113475\n"
     ]
    }
   ],
   "source": [
    "ageMeanYes = dataFrame[dataFrame['y'] == 'yes']['age'].mean()\n",
    "ageStdYes = dataFrame[dataFrame['y'] == 'yes']['age'].std()\n",
    "print(\"mean:\", ageMeanYes)\n",
    "print(\"std:\" , ageStdYes)"
   ]
  },
  {
   "cell_type": "code",
   "execution_count": 26,
   "id": "aa427ac6",
   "metadata": {},
   "outputs": [
    {
     "name": "stdout",
     "output_type": "stream",
     "text": [
      "mean: -0.017751432340399984\n",
      "std: 0.9624508367653232\n"
     ]
    }
   ],
   "source": [
    "ageMeanNo = dataFrame[dataFrame['y'] == 'no']['age'].mean()\n",
    "ageStdNo = dataFrame[dataFrame['y'] == 'no']['age'].std()\n",
    "print(\"mean:\", ageMeanNo)\n",
    "print(\"std:\" , ageStdNo)"
   ]
  },
  {
   "cell_type": "code",
   "execution_count": 27,
   "id": "343683a7",
   "metadata": {
    "scrolled": true
   },
   "outputs": [
    {
     "data": {
      "image/png": "[encoded data removed]",
      "text/plain": [
       "<Figure size 432x288 with 1 Axes>"
      ]
     },
     "metadata": {
      "needs_background": "light"
     },
     "output_type": "display_data"
    }
   ],
   "source": [
    "import numpy as np\n",
    "import matplotlib.pyplot as plt\n",
    "import scipy\n",
    "from scipy import stats\n",
    "\n",
    "x = np.linspace(-3,3,100)\n",
    "\n",
    "yes_pdf_values = stats.norm.pdf(x,loc=ageMeanYes,scale=ageStdYes)\n",
    "no_pdf_values = stats.norm.pdf(x,loc=ageMeanNo,scale=ageStdNo)\n",
    "true_pdf_values = stats.norm.pdf(x,loc=0,scale=1)\n",
    "\n",
    "plt.plot(x,yes_pdf_values,'c')\n",
    "plt.plot(x,no_pdf_values,'b')\n",
    "plt.plot(x,true_pdf_values,'r')\n",
    "plt.xlabel('x-data')\n",
    "plt.ylabel('pdf_value')\n",
    "plt.show()"
   ]
  },
  {
   "cell_type": "markdown",
   "id": "ae9b2485",
   "metadata": {
    "direction": "rtl"
   },
   "source": [
    "  تابع چگالی احتمال توزیع نرمال ویژگی duration:"
   ]
  },
  {
   "cell_type": "code",
   "execution_count": 28,
   "id": "e598f184",
   "metadata": {},
   "outputs": [
    {
     "name": "stdout",
     "output_type": "stream",
     "text": [
      "mean: 1.0999706727614935\n",
      "std: 1.4856389470030953\n"
     ]
    }
   ],
   "source": [
    "durationMeanYes = dataFrame[dataFrame['y'] == 'yes']['duration'].mean()\n",
    "durationStdYes = dataFrame[dataFrame['y'] == 'yes']['duration'].std()\n",
    "print(\"mean:\", durationMeanYes)\n",
    "print(\"std:\" , durationStdYes)"
   ]
  },
  {
   "cell_type": "code",
   "execution_count": 29,
   "id": "59546960",
   "metadata": {},
   "outputs": [
    {
     "name": "stdout",
     "output_type": "stream",
     "text": [
      "mean: -0.13978793966344086\n",
      "std: 0.8208844540071907\n"
     ]
    }
   ],
   "source": [
    "durationMeanNo = dataFrame[dataFrame['y'] == 'no']['duration'].mean()\n",
    "durationStdNo = dataFrame[dataFrame['y'] == 'no']['duration'].std()\n",
    "print(\"mean:\", durationMeanNo)\n",
    "print(\"std:\" , durationStdNo)"
   ]
  },
  {
   "cell_type": "code",
   "execution_count": 30,
   "id": "9fea7f72",
   "metadata": {},
   "outputs": [
    {
     "data": {
      "image/png": "[encoded data removed]",
      "text/plain": [
       "<Figure size 432x288 with 1 Axes>"
      ]
     },
     "metadata": {
      "needs_background": "light"
     },
     "output_type": "display_data"
    }
   ],
   "source": [
    "import numpy as np\n",
    "import matplotlib.pyplot as plt\n",
    "import scipy\n",
    "from scipy import stats\n",
    "\n",
    "x = np.linspace(-3,3,100)\n",
    "\n",
    "yes_pdf_values = stats.norm.pdf(x,loc=durationMeanYes,scale=durationStdYes)\n",
    "no_pdf_values = stats.norm.pdf(x,loc=durationMeanNo,scale=durationStdNo)\n",
    "true_pdf_values = stats.norm.pdf(x,loc=0,scale=1)\n",
    "\n",
    "plt.plot(x,yes_pdf_values,'c')\n",
    "plt.plot(x,no_pdf_values,'b')\n",
    "plt.plot(x,true_pdf_values,'r')\n",
    "plt.xlabel('x-data')\n",
    "plt.ylabel('pdf_value')\n",
    "plt.show()"
   ]
  },
  {
   "cell_type": "markdown",
   "id": "fd08fe5b",
   "metadata": {
    "direction": "rtl"
   },
   "source": [
    "  تابع چگالی احتمال توزیع نرمال ویژگی balance:"
   ]
  },
  {
   "cell_type": "code",
   "execution_count": 31,
   "id": "36910847",
   "metadata": {},
   "outputs": [
    {
     "name": "stdout",
     "output_type": "stream",
     "text": [
      "mean: 0.047147602749085006\n",
      "std: 0.9110362153983889\n"
     ]
    }
   ],
   "source": [
    "balanceMeanYes = dataFrame[dataFrame['y'] == 'yes']['balance'].mean()\n",
    "balanceStdYes = dataFrame[dataFrame['y'] == 'yes']['balance'].std()\n",
    "print(\"mean:\", balanceMeanYes)\n",
    "print(\"std:\" , balanceStdYes)"
   ]
  },
  {
   "cell_type": "code",
   "execution_count": 32,
   "id": "92591af3",
   "metadata": {},
   "outputs": [
    {
     "name": "stdout",
     "output_type": "stream",
     "text": [
      "mean: -0.005991674516033025\n",
      "std: 1.0107130444449965\n"
     ]
    }
   ],
   "source": [
    "balanceMeanNo = dataFrame[dataFrame['y'] == 'no']['balance'].mean()\n",
    "balanceStdNo = dataFrame[dataFrame['y'] == 'no']['balance'].std()\n",
    "print(\"mean:\", balanceMeanNo)\n",
    "print(\"std:\" , balanceStdNo)"
   ]
  },
  {
   "cell_type": "code",
   "execution_count": 33,
   "id": "7711909a",
   "metadata": {},
   "outputs": [
    {
     "data": {
      "image/png": "[encoded data removed]",
      "text/plain": [
       "<Figure size 432x288 with 1 Axes>"
      ]
     },
     "metadata": {
      "needs_background": "light"
     },
     "output_type": "display_data"
    }
   ],
   "source": [
    "import numpy as np\n",
    "import matplotlib.pyplot as plt\n",
    "import scipy\n",
    "from scipy import stats\n",
    "\n",
    "x = np.linspace(-3,3,100)\n",
    "\n",
    "yes_pdf_values = stats.norm.pdf(x,loc=balanceMeanYes,scale=balanceStdYes)\n",
    "no_pdf_values = stats.norm.pdf(x,loc=balanceMeanNo,scale=balanceStdNo)\n",
    "true_pdf_values = stats.norm.pdf(x,loc=0,scale=1)\n",
    "\n",
    "plt.plot(x,yes_pdf_values,'c')\n",
    "plt.plot(x,no_pdf_values,'b')\n",
    "plt.plot(x,true_pdf_values,'r')\n",
    "plt.xlabel('x-data')\n",
    "plt.ylabel('pdf_value')\n",
    "plt.show()"
   ]
  },
  {
   "cell_type": "markdown",
   "id": "851bd573",
   "metadata": {
    "direction": "rtl"
   },
   "source": [
    "  تابع چگالی احتمال توزیع نرمال ویژگی campaign:"
   ]
  },
  {
   "cell_type": "code",
   "execution_count": 34,
   "id": "e582be75",
   "metadata": {},
   "outputs": [
    {
     "name": "stdout",
     "output_type": "stream",
     "text": [
      "mean: -0.16964739701815346\n",
      "std: 0.677844141500656\n"
     ]
    }
   ],
   "source": [
    "campaignMeanYes = dataFrame[dataFrame['y'] == 'yes']['campaign'].mean()\n",
    "campaignStdYes = dataFrame[dataFrame['y'] == 'yes']['campaign'].std()\n",
    "print(\"mean:\", campaignMeanYes)\n",
    "print(\"std:\" , campaignStdYes)"
   ]
  },
  {
   "cell_type": "code",
   "execution_count": 35,
   "id": "c95a2729",
   "metadata": {},
   "outputs": [
    {
     "name": "stdout",
     "output_type": "stream",
     "text": [
      "mean: 0.021559356704390294\n",
      "std: 1.0318554794088473\n"
     ]
    }
   ],
   "source": [
    "campaignMeanNo = dataFrame[dataFrame['y'] == 'no']['campaign'].mean()\n",
    "campaignStdNo = dataFrame[dataFrame['y'] == 'no']['campaign'].std()\n",
    "print(\"mean:\", campaignMeanNo)\n",
    "print(\"std:\" , campaignStdNo)"
   ]
  },
  {
   "cell_type": "code",
   "execution_count": 36,
   "id": "27dc1ed7",
   "metadata": {
    "scrolled": true
   },
   "outputs": [
    {
     "data": {
      "image/png": "[encoded data removed]",
      "text/plain": [
       "<Figure size 432x288 with 1 Axes>"
      ]
     },
     "metadata": {
      "needs_background": "light"
     },
     "output_type": "display_data"
    }
   ],
   "source": [
    "import numpy as np\n",
    "import matplotlib.pyplot as plt\n",
    "import scipy\n",
    "from scipy import stats\n",
    "\n",
    "x = np.linspace(-3,3,100)\n",
    "\n",
    "yes_pdf_values = stats.norm.pdf(x,loc=campaignMeanYes,scale=campaignStdYes)\n",
    "no_pdf_values = stats.norm.pdf(x,loc=campaignMeanNo,scale=campaignStdNo)\n",
    "true_pdf_values = stats.norm.pdf(x,loc=0,scale=1)\n",
    "\n",
    "plt.plot(x,yes_pdf_values,'c')\n",
    "plt.plot(x,no_pdf_values,'b')\n",
    "plt.plot(x,true_pdf_values,'r')\n",
    "plt.xlabel('x-data')\n",
    "plt.ylabel('pdf_value')\n",
    "plt.show()"
   ]
  },
  {
   "cell_type": "markdown",
   "id": "b65aafd6",
   "metadata": {
    "direction": "rtl"
   },
   "source": [
    "  تابع چگالی احتمال توزیع نرمال ویژگی pdays:"
   ]
  },
  {
   "cell_type": "code",
   "execution_count": 37,
   "id": "f3fac25a",
   "metadata": {},
   "outputs": [
    {
     "name": "stdout",
     "output_type": "stream",
     "text": [
      "mean: 0.2794478138946331\n",
      "std: 1.1848475631466828\n"
     ]
    }
   ],
   "source": [
    "pdaysMeanYes = dataFrame[dataFrame['y'] == 'yes']['pdays'].mean()\n",
    "pdaysStdYes = dataFrame[dataFrame['y'] == 'yes']['pdays'].std()\n",
    "print(\"mean:\", pdaysMeanYes)\n",
    "print(\"std:\" , pdaysStdYes)"
   ]
  },
  {
   "cell_type": "code",
   "execution_count": 38,
   "id": "32a6e3c1",
   "metadata": {},
   "outputs": [
    {
     "name": "stdout",
     "output_type": "stream",
     "text": [
      "mean: -0.03551315968244191\n",
      "std: 0.9684470665689708\n"
     ]
    }
   ],
   "source": [
    "pdaysMeanNo = dataFrame[dataFrame['y'] == 'no']['pdays'].mean()\n",
    "pdaysStdNo = dataFrame[dataFrame['y'] == 'no']['pdays'].std()\n",
    "print(\"mean:\", pdaysMeanNo)\n",
    "print(\"std:\" , pdaysStdNo)"
   ]
  },
  {
   "cell_type": "code",
   "execution_count": 39,
   "id": "8c975478",
   "metadata": {},
   "outputs": [
    {
     "data": {
      "image/png": "[encoded data removed]",
      "text/plain": [
       "<Figure size 432x288 with 1 Axes>"
      ]
     },
     "metadata": {
      "needs_background": "light"
     },
     "output_type": "display_data"
    }
   ],
   "source": [
    "\n",
    "import numpy as np\n",
    "import matplotlib.pyplot as plt\n",
    "import scipy\n",
    "from scipy import stats\n",
    "\n",
    "x = np.linspace(-3,3,100)\n",
    "\n",
    "yes_pdf_values = stats.norm.pdf(x,loc=pdaysMeanYes,scale=pdaysStdYes)\n",
    "no_pdf_values = stats.norm.pdf(x,loc=pdaysMeanNo,scale=pdaysStdNo)\n",
    "true_pdf_values = stats.norm.pdf(x,loc=0,scale=1)\n",
    "\n",
    "plt.plot(x,yes_pdf_values,'c')\n",
    "plt.plot(x,no_pdf_values,'b')\n",
    "plt.plot(x,true_pdf_values,'r')\n",
    "plt.xlabel('x-data')\n",
    "plt.ylabel('pdf_value')\n",
    "plt.show()"
   ]
  },
  {
   "cell_type": "markdown",
   "id": "8199f542",
   "metadata": {
    "direction": "rtl"
   },
   "source": [
    "  با مقایسه نمودارهای مربوط به تابع چگالی احتمال توزیع نرمال ویژگی های نست شده نتیجه می گیریم که ویژگی balance برای هر دو حالتی که \"کاربر سپرده مدت‌دار را ثبت کرده یا نکرده\" بیشنرین شباهت را با توزیع نرمال دارد و این ویژگی بهنرین انتحاب به عنوان ورودی مدل خواهد بود. "
   ]
  },
  {
   "cell_type": "code",
   "execution_count": null,
   "id": "1a703ec0",
   "metadata": {},
   "outputs": [],
   "source": []
  }
 ],
 "metadata": {
  "kernelspec": {
   "display_name": "Python 3",
   "language": "python",
   "name": "python3"
  },
  "language_info": {
   "codemirror_mode": {
    "name": "ipython",
    "version": 3
   },
   "file_extension": ".py",
   "mimetype": "text/x-python",
   "name": "python",
   "nbconvert_exporter": "python",
   "pygments_lexer": "ipython3",
   "version": "3.8.8"
  }
 },
 "nbformat": 4,
 "nbformat_minor": 5
}
