{
 "cells": [
  {
   "cell_type": "markdown",
   "id": "f36dd340",
   "metadata": {
    "direction": "rtl"
   },
   "source": [
    "# هدف پروژه:\n",
    "## توضیح کلی پروژه و تعریف صورت مسئله:\n",
    "در این پروژه، هدف آشنایی با روش‌هایی که برگرفته از طبیعت و انتخاب طبیعی هستند، می‌باشد. در این روش‌ها که بطور کلی الگوریتم‌های ژنتیک نامیده می شوند، ایده‌هایی برای مدل‌سازی جفت‌گیری، جهش و انتخاب طبیعی به کار گرفته می‌شود. در این گونه الگوریتم‌ها، ممکن است با انتخاب معیارهای ساده‌ی انتخاب طبیعی، نتایج مطلوب به دست نیاید و\n",
    "باید معیاری در نظر گرفته شود که علاوه بر عملکرد فردی، به گوناگونی جمعیت نیز اهمیت دهد.  \n",
    "الگوریتم‌های ژنتیک عموماً در مسئله‌هایی با فضای حالت بزرگ کاربرد دارند، این الگوریتم‌ها این کار را با نمونه گرفتن از جمعیت و ترکیب و تغییر افراد و ارزیابی آن‌ها انجام می‌دهند و سعی می‌کنند که نسل به نسل جواب‌ها را بهبود دهند تا به جواب مورد نظر برسند.  \n",
    "در این پروژه با استفاده از الگوریتم‌های ژنتیک، مسئله‌ی رمزگشایی که یکی از مسائل پرکاربرد در حوزه‌ی علوم کامپیوتری می‌باشد پیاده‌سازی شده است."
   ]
  },
  {
   "cell_type": "markdown",
   "id": "407733b8",
   "metadata": {
    "direction": "rtl"
   },
   "source": [
    "## مسئله رمزگشایی\n",
    "هدف از رمزنگاري، تبدیل متن خام (پیام) به متن رمز شده است تا هیچ کس جز مقصد پیام آن را نفهمد. هر چه بازگرداندن متن رمز شده به پیام اصلی از نظر زمانی پیچیده‌تر باشد، رمزنگاری ارزشمندتر است."
   ]
  },
  {
   "cell_type": "markdown",
   "id": "bae32e21",
   "metadata": {
    "direction": "rtl"
   },
   "source": [
    "## پیاده‌سازی مسئله\n",
    "در این پروژه یک پیام رمز شده و یک متن مرجع ضمیمه می‌باشد که با استفاده از الگوریتم ژنتیک، کلید مورد نظر را یافته و پیام رمزگشایی خواهد شد."
   ]
  },
  {
   "cell_type": "markdown",
   "id": "b5e652e9",
   "metadata": {
    "direction": "rtl"
   },
   "source": [
    "### بخش صفر : تمیز کردن داده ها و ایجاد لغت نامه\n",
    "در کلاس Decoder، خصوصیتی به نام dictionary وجود دارد که از آن برای کلماتی که در فایل مرجع وجود دارد استفاده شده است. متادی که وظیفه جمع آوری کلمات را برعهده دارد cleanData است. این متاد از ماژول Regex برای جداسازی حروف انگلیسی از باقی کاراکترها بهره برده است. این متاد دارای دو آرگومان dataset و treshold می‌باشد. چون در متن stop word ها دارای تعداد حروف کمی هستند از این مورد برای شناسایی آن‌ها استفاده شده است. مثلا اگر treshold برابر با 2 باشد کلماتی در dictionary وجود دارند که بیش از دو حرف دارند.  \n",
    "همانطور که در ابتدا گفته شد، خروجی این متاد نوع داده‌ی dictionary می‌باشد."
   ]
  },
  {
   "cell_type": "code",
   "execution_count": 2,
   "id": "43ad1d83",
   "metadata": {},
   "outputs": [],
   "source": [
    "def cleanData(self, dataSet, threshold = 0):\n",
    "    dataSet = re.sub(r'[^A-Za-z]', ' ', dataSet)\n",
    "    dataSetWords = dataSet.split()\n",
    "    dataSetWords = [word for word in dataSetWords if len(word) >= threshold]\n",
    "    dataSetWords = list(dict.fromkeys(dataSetWords))\n",
    "    return dataSetWords"
   ]
  },
  {
   "cell_type": "markdown",
   "id": "7b17478b",
   "metadata": {
    "direction": "rtl"
   },
   "source": [
    "### بخش یک : مشخص کردن مفاهیم اولیه\n",
    "مفهومی که برای کروموزوم در نظر گرفته شده ترکیبی از 14 حرف انگلیسی می‌باشد که هر حرف انگلیسی یک ژن است. چون key می‌تواند دارای حروف تکراری باشد بنابراین کروموزوم نیز می‌تواند ژن‌های تکراری داشته باشد.   \n",
    "تابع random.choice برای ایجاد یک gene و random.choices برای ایجاد یک کروموزوم استفاده شده است. "
   ]
  },
  {
   "cell_type": "code",
   "execution_count": 3,
   "id": "6e37dbf8",
   "metadata": {},
   "outputs": [],
   "source": [
    "def createChromosome(self):\n",
    "    gnome_len = self.keyLength\n",
    "    genes = string.ascii_lowercase\n",
    "    return random.choices(genes, k=gnome_len)"
   ]
  },
  {
   "cell_type": "markdown",
   "id": "e29caed1",
   "metadata": {
    "direction": "rtl"
   },
   "source": [
    "### بخش دو : تولید جمعیت اولیه\n",
    "به کمک دستور زیر، جمعیتی برابر با POPULATION_SIZE ایجاد خواهد شد که در قسمت های بعد برنامه این جمعیت است که بر روی آن crossover و  mutation انجام می‌شود. "
   ]
  },
  {
   "cell_type": "code",
   "execution_count": null,
   "id": "53a2362e",
   "metadata": {},
   "outputs": [],
   "source": [
    "population = [self.createChromosome() for i in range(POPULATION_SIZE)]"
   ]
  },
  {
   "cell_type": "markdown",
   "id": "da6dd581",
   "metadata": {
    "direction": "rtl"
   },
   "source": [
    "### بخش سه : پیاده‌سازی و مشخص کردن تابع معیار سازگاری\n",
    "در متاد fitness کلماتی که خروجی متاد decipherWords می‌باشد با کلمات dictionary مرجع مقایسه شده و تعداد کلمات مشترک شمرده خواهد شد. در واقع کروموزومی بعنوان کروموزم بهتر ارزیابی می‌شود که خروجی fitness آن عدد بزرگتری باشد. به بیان دیگر تعداد تطابق بیشتری بین کلمات خروجی متاد decipherWords و dictionary مرجع وجود داشته باشد."
   ]
  },
  {
   "cell_type": "code",
   "execution_count": 4,
   "id": "0c651346",
   "metadata": {},
   "outputs": [],
   "source": [
    "def fitness(self, chromosome):\n",
    "    self.decipherWords(chromosome)\n",
    "    decipheredWords = self.decipheredTextWords\n",
    "\n",
    "    counter = 0\n",
    "    for word in decipheredWords:\n",
    "        if word in self.dictionary:\n",
    "            counter += 1\n",
    "    return counter"
   ]
  },
  {
   "cell_type": "markdown",
   "id": "13948c02",
   "metadata": {
    "direction": "rtl"
   },
   "source": [
    "### بخش چهار : پیاده‌سازی crossover و mutation و تولید جمعیت بعدی\n",
    "متاد crossover دارای دو کروموزوم والد می‌باشد و در این متاد پس از فراخوانی متاد random با احتمالی رخدادی که قابل تنظیم می‌باشد می‌توان از والد‌ها با احتمال متفاوت ژن اختیار کرد. خروجی این متاد یک کروموزوم است که دارای خصوصیاتی مشابه والدین خود می‌باشد.     \n",
    "متاد mutation یک کروموزوم را بعنوان ورودی گرفته و با تغییری در ژن‌های آن می‌تواند یک کروموزوم جهش یافته را در خروجی ایجاد نماید."
   ]
  },
  {
   "cell_type": "code",
   "execution_count": 5,
   "id": "ac45d15a",
   "metadata": {},
   "outputs": [],
   "source": [
    "def crossover(self, father, mother):\n",
    "    childChromosome = []\n",
    "    for gp1, gp2 in zip(father, mother):\n",
    "        prob = random.random()\n",
    "        if prob < 0.45:\n",
    "            childChromosome.append(gp1)\n",
    "        else:\n",
    "            childChromosome.append(gp2)\n",
    "\n",
    "    return childChromosome\n",
    "\n",
    "\n",
    "def mutation(self, chromosome):\n",
    "    new_chromosome = []\n",
    "    genes = string.ascii_lowercase\n",
    "    for gp in chromosome:\n",
    "        prob = random.random()\n",
    "        if prob < 0.05 :\n",
    "            new_chromosome.append(random.choice(genes))\n",
    "        else:\n",
    "            new_chromosome.append(gp)\n",
    "\n",
    "    return new_chromosome"
   ]
  },
  {
   "cell_type": "markdown",
   "id": "8cbd9367",
   "metadata": {
    "direction": "rtl"
   },
   "source": [
    "### بخش شش : سوالات\n",
    "#### سوال 1 )\n",
    "انتخاب جمعیت خیلی زیاد، زمان اجرای برنامه را طولانی می‌کند. از طرفی با انتخاب جمعیت کم، چون فضای حالت این نوع برنامه‌ها خیلی بزرگ است نسل‌های بعد جمعیت نمی‌توانند تمام فضای حالت را بصورت تصادفی پوشش خوبی بدهند. بنابراین جمعیت در این نوع پروژه‌ها جزء مهمی از hyper parameter ها می‌باشد."
   ]
  },
  {
   "cell_type": "markdown",
   "id": "918af92e",
   "metadata": {
    "direction": "rtl"
   },
   "source": [
    "#### سوال 2 )\n",
    "اگر تعداد جمعیت در هر دوره افزایش یابد، دقت الگوریتم بالا رفته ولی سرعت اجرای آن پایین می‌آید. زیرا سرعت اجرا نسبت معکوسی با تعداد جمعیت کروموزوم‌ها دارد.\n",
    "\n",
    "#### سوال 3 )\n",
    "اگر در الگوریتم ژنتیک از crossover استفاده نشود، در حین اجرا نمی‌توان انتظار داشت که دقت الگوریتم در هر تکرار افزایش یابد. از طرفی انتخاب mutation هم خیلی مهم می‌باشد زیرا جهش‌هایی که الگوریتم را وادار می‌کند تا جمعیت تغییر اساسی کند و جهش ژنتیکی در آن اتفاق بیفتد، mutation می‌باشد.\n",
    "\n",
    "#### سوال 4 )\n",
    "همانطور که در جواب سوال 3 ذکر شد crossover باعث افزایش دقت خواهد شد و mutation می‌تواند با جهش ژنتیکی سرعت اجرا را بالاتر ببرد.\n",
    "\n",
    "#### سوال 5 )\n",
    "crossover می‌تواند در دو، سه یا چند نقطه انجام شود و اگر پس از چند تکرار جمعیت تغییر نکند می‌توان بین crossover هایی که در چند نقطه والدین شکسته می‌شوند یا اینکه از بیش از دو parent استفاده کرد.  \n",
    "درمورد mutation هم بطور مشابه می‌توان دو، سه یا ژن‌های بیشتری را جهش داد. در الگوریتم مورد استفاده پروژه هم درمورد crossover و هم درمورد mutation شکستن کروموزوم‌ها در چند نقطه انجام شده است.\n",
    "\n",
    "#### سوال 6 )\n",
    "نظر شخصی این می‌باشد که Crossover اگر در کنار جمعیت زیاد قرار گیرد می‌تواند موثرتر عمل نماید. درواقع تعداد جمعیت زیاد جایگزینی نه چندان مناسب برای متاد mutation شده است.\n",
    "\n",
    "#### سوال 7 )\n",
    "1)  انتخاب مناسب جمعیت راهکاری می‌باشد که می‌تواند سرعت اجرای الگوریتم را بهبود ببخشد.  \n",
    "2)  تغییر در متاد crosover که شکستن را در چندین نقطه انجام می‌دهد.  \n",
    "3)  تغییر در برنامه mutation که شکستن در چند نقطه انجام شود.\n",
    "4)  در شروع الگوریتم stop word ها در نظر گرفته شوند و پس از چند تکرار، بدون در نظر گرفتنشان الگوریتم ادامه پیدا نماید."
   ]
  },
  {
   "cell_type": "markdown",
   "id": "df26f1bd",
   "metadata": {
    "direction": "rtl"
   },
   "source": [
    "### تاثیرانتخاب جمعیت در سرعت اجرای برنامه"
   ]
  },
  {
   "cell_type": "markdown",
   "id": "011e8411",
   "metadata": {},
   "source": [
    "|Population  |50       |100      |200      |300      |400      |\n",
    "|:-----------|:-------:|:-------:|:-------:|:-------:|:-------:|\n",
    "|Running Time|54.58s   |64.49s   |93.63s   |110.34s  |157.58s  |"
   ]
  },
  {
   "cell_type": "markdown",
   "id": "d18553b5",
   "metadata": {
    "direction": "rtl"
   },
   "source": [
    "### تاثیر نخبه گرایی در سرعت اجرای برنامه"
   ]
  },
  {
   "cell_type": "markdown",
   "id": "f90f1113",
   "metadata": {},
   "source": [
    "|ELITISM RATE|0.2      |0.3    |0.4     |0.5      |0.6      |\n",
    "|:-----------|:-------:|:-------:|:-------:|:-------:|:-------:|\n",
    "|Running Time|54.58s   |54.06s   |42.42s   |35.50s  |48.23s  |"
   ]
  },
  {
   "cell_type": "code",
   "execution_count": 1,
   "id": "7fbc7690",
   "metadata": {},
   "outputs": [
    {
     "name": "stdout",
     "output_type": "stream",
     "text": [
      "The answer Chromosome is: \n",
      "['a', 'l', 'b', 'e', 'r', 't', 'e', 'i', 'n', 's', 't', 'e', 'i', 'n'] \n",
      "\n",
      "Time: 78.77374267578125 seconds \n",
      "\n",
      "The decoded text is: \n",
      "\n",
      "Albert Einstein\n",
      "Old Grove Rd.\n",
      "Nassau Point\n",
      "Peconic, Long Island\n",
      "\n",
      "August 2nd, 1939\n",
      "\n",
      "F.D. Roosevelt,\n",
      "President of the United States,\n",
      "White House\n",
      "Washington, D.C.\n",
      "\n",
      "Sir:\n",
      "\n",
      "Some recent work by E. Fermi and L. Szilard, which has been communicated to me in manuscript, leads me to expect that the element uranium may be turned into a new and important source of energy in the immediate future. Certain aspects of the situation which has arisen seem to call for watchfulness and, if necessary, quick action on the part of the Administration. I believe therefore that it is my duty to bring to your attention the following facts and recommendations:\n",
      "\n",
      "In the course of the last four months it has been made probableâ€”through the work of Joliot in France as well as Fermi and Szilard in Americaâ€”that it may become possible to set up a nuclear chain reaction in a large mass of uranium by which vast amounts of power and large quantities of new radium-like elements would be generated. Now it appears almost certain that this could be achieved in the immediate future.\n",
      "\n",
      "This phenomenon would also lead to the construction of bombs, and it is conceivableâ€”though much less certainâ€”that extremely powerful bombs of a new type may thus be constructed. A single bomb of this type, carried by boat and exploded in a port, might very well destroy the whole port together with some of the surrounding territory. However, such bombs might very well prove to be too heavy for transportation by air.\n",
      "\n",
      "The United States has only very poor ores of uranium in moderate quantities. There is some good ore in Canada and the former Czechoslovakia, while the most important source of uranium is Belgian Congo.\n",
      "\n",
      "In view of this situation you may think it desirable to have some permanent contact maintained between the Administration and the group of physicists working on chain reactions in America. One possible way of achieving this might be for you to entrust with this task a person who has your confidence and who could perhaps serve in an inofficial capacity. His task might comprise the following:\n",
      "\n",
      "a)  to approach Government Departments, keep them informed of the further development, and put forward recommendations for Government action, giving particular attention to the problem of securing a supply of uranium ore for the United States.\n",
      "\n",
      "b)  to speed up the experimental work, which is at present being carried on within the limits of the budgets of University laboratories, by providing funds, if such funds be required, through his contacts with private persons who are willing to make contributions for this cause, and perhaps also by obtaining the co-operation of industrial laboratories which have the necessary equipment.\n",
      "\n",
      "I understand that Germany has actually stopped the sale of uranium from the Czechoslovakian mines which she has taken over. That she should have taken such early action might perhaps be understood on the ground that the son of the German Under-Secretary of State, von Weizsacker, is attached to the Kaiser-Wilhelm-Institut in Berlin where some of the American work on uranium is now being repeated.\n",
      "\n",
      "Yours very truly,\n",
      "\n",
      "Albert Einstein\n",
      "\n"
     ]
    }
   ],
   "source": [
    "import time\n",
    "import random, string, re\n",
    "from operator import itemgetter\n",
    "import numpy as np\n",
    "\n",
    "POPULATION_SIZE = 50\n",
    "ELITISM_RATE = 0.5\n",
    "CROSSOVER_RATE = 0.9\n",
    "CONSTASNT = 14\n",
    "THRESHOLD = 4\n",
    "\n",
    "class Decoder:\n",
    "\n",
    "    def __init__(self, globalText, encodedText, keyLength = 14):\n",
    "        self.threshold = 0\n",
    "        self.encodedText = encodedText\n",
    "        self.globalText = globalText\n",
    "        self.keyLength = keyLength\n",
    "        self.dictionary = {}\n",
    "        self.createDictionary()\n",
    "        self.decipheredTextWords = {}\n",
    "\n",
    "    def cleanData(self, dataSet, threshold = 0):\n",
    "        dataSet = re.sub(r'[^A-Za-z]', ' ', dataSet)\n",
    "        dataSetWords = dataSet.split()\n",
    "        dataSetWords = [word for word in dataSetWords if len(word) >= threshold]\n",
    "        dataSetWords = list(dict.fromkeys(dataSetWords))\n",
    "        return dataSetWords\n",
    "\n",
    "    def createDictionary(self):\n",
    "        tmp = self.cleanData(globalText, 0)\n",
    "        self.dictionary = set(tmp)\n",
    "\n",
    "    def getDecryptionChar(self, chromosomeChar, cryptionChar):\n",
    "        cryptionChar = cryptionChar.lower()\n",
    "        chromosomeChar = chromosomeChar.lower()\n",
    "\n",
    "        lowercaseChar = string.ascii_lowercase\n",
    "        length = len(lowercaseChar)\n",
    "        chromosomeCharIndex = lowercaseChar.find(chromosomeChar)\n",
    "        cryptionCharIndex = lowercaseChar.find(cryptionChar)\n",
    "        if(cryptionCharIndex >= chromosomeCharIndex):\n",
    "            return lowercaseChar[cryptionCharIndex - chromosomeCharIndex]\n",
    "        else:\n",
    "            return lowercaseChar[length + cryptionCharIndex - chromosomeCharIndex]\n",
    "\n",
    "    def getCryptionChar(self, chromosomeChar, char):\n",
    "        char = char.lower()\n",
    "        chromosomeChar = chromosomeChar.lower()\n",
    "\n",
    "        lowercase_char = string.ascii_lowercase\n",
    "        length = len(lowercase_char)\n",
    "        return lowercase_char[(lowercase_char.find(chromosomeChar) + lowercase_char.find(char)) % length]\n",
    "\n",
    "    def maskString(self, str, chromosome):\n",
    "        mask = []\n",
    "        index = 0\n",
    "        for char in str:\n",
    "            if char in string.ascii_letters:\n",
    "                mask.append(chromosome[index % self.keyLength])\n",
    "                index += 1\n",
    "            else:\n",
    "                mask.append(' ')\n",
    "        return mask\n",
    "\n",
    "    def decipherString(self, chromosome):\n",
    "        encodedText = self.encodedText\n",
    "        mask = self.maskString(encodedText, chromosome)\n",
    "        decipheredChars = []\n",
    "\n",
    "        for i, char in enumerate(self.encodedText):\n",
    "            if char in string.ascii_letters:\n",
    "                decodedChar = self.getDecryptionChar(mask[i], char)\n",
    "                if char in string.ascii_lowercase:\n",
    "                    decipheredChars.append(decodedChar.lower())\n",
    "                elif char in string.ascii_uppercase:\n",
    "                    decipheredChars.append(decodedChar.upper())\n",
    "            else:\n",
    "                decipheredChars.append(char)\n",
    "        decipheredStr = \"\"\n",
    "        return  decipheredStr.join(decipheredChars)\n",
    "\n",
    "    def decipherWords(self, chromosome):\n",
    "        self.decipheredTextWords = set(self.cleanData(self.decipherString(chromosome), self.threshold))\n",
    "\n",
    "    def fitness(self, chromosome):\n",
    "        self.decipherWords(chromosome)\n",
    "        decipheredWords = self.decipheredTextWords\n",
    "\n",
    "        counter = 0\n",
    "        for word in decipheredWords:\n",
    "            if word in self.dictionary:\n",
    "                counter += 1\n",
    "        return counter\n",
    "\n",
    "    def createChromosome(self):\n",
    "        gnome_len = self.keyLength\n",
    "        genes = string.ascii_lowercase\n",
    "        return random.choices(genes, k=gnome_len)\n",
    "\n",
    "    def calculateFitnesses(self, population):\n",
    "        populationScores = [[self.fitness(population[i]), i] for i in range(len(population))]\n",
    "        populationScores = sorted(populationScores, key=itemgetter(0), reverse=True)\n",
    "        return populationScores\n",
    "\n",
    "    def crossover(self, father, mother):\n",
    "        childChromosome = []\n",
    "        for gp1, gp2 in zip(father, mother):\n",
    "            prob = random.random()\n",
    "            if prob < 0.45:\n",
    "                childChromosome.append(gp1)\n",
    "            else:\n",
    "                childChromosome.append(gp2)\n",
    "\n",
    "        return childChromosome\n",
    "\n",
    "    def mutation(self, chromosome):\n",
    "        new_chromosome = []\n",
    "        genes = string.ascii_lowercase\n",
    "        for gp in chromosome:\n",
    "            prob = random.random()\n",
    "            if prob < 0.05 :\n",
    "                new_chromosome.append(random.choice(genes))\n",
    "            else:\n",
    "                new_chromosome.append(gp)\n",
    "\n",
    "        return new_chromosome\n",
    "\n",
    "    def geneticAlgorithm(self):\n",
    "        population = [self.createChromosome() for i in range(POPULATION_SIZE)]\n",
    "\n",
    "        while True:\n",
    "            sumOfRanks = len(population) * (len(population) + 1) / 2\n",
    "            ranksProbabilities = [(i + 1) / sumOfRanks for i in range(len(population))]\n",
    "            ranksProbabilities = sorted(ranksProbabilities, reverse=True)\n",
    "\n",
    "            populationScores = self.calculateFitnesses(population)\n",
    "            self.threshold = min(THRESHOLD, int((THRESHOLD+1) * populationScores[0][0] / len(self.decipheredTextWords)))\n",
    "            #print(self.threshold)\n",
    "            chromosome = population[populationScores[0][1]]\n",
    "            #print(f'{populationScores[0][0]}  {len(self.decipheredTextWords)}   {population[populationScores[0][1]]}')\n",
    "            if populationScores[0][0] >= len(self.cleanData(self.decipherString(chromosome), THRESHOLD + 1)):\n",
    "\n",
    "                print(\"The answer Chromosome is: \")\n",
    "                print(chromosome, \"\\n\")\n",
    "                return self.decipherString(chromosome)\n",
    "\n",
    "            newPopulation = []\n",
    "\n",
    "            newPopulation.extend(\n",
    "                [population[populationScores[i][1]] for i in range(int(POPULATION_SIZE * ELITISM_RATE))])\n",
    "\n",
    "            size = int(CROSSOVER_RATE * POPULATION_SIZE)\n",
    "\n",
    "            for i in range(size):\n",
    "                rnd_indices = np.random.choice(len(population), 2, ranksProbabilities)\n",
    "                parent = [population[i] for i in rnd_indices]\n",
    "\n",
    "                offspring = self.crossover(parent[0], parent[1])\n",
    "                newPopulation.append(self.mutation(offspring))\n",
    "\n",
    "            population = newPopulation\n",
    "\n",
    "    def decode(self):\n",
    "        return self.geneticAlgorithm()\n",
    "\n",
    "if __name__ == '__main__':\n",
    "    encodedText=open('encoded_text.txt').read()\n",
    "    globalText=open('global_text.txt').read()\n",
    "    d=Decoder(globalText,encodedText, keyLength = CONSTASNT)\n",
    "    \n",
    "    start = time.time()\n",
    "    decodedText = d.decode()\n",
    "    end = time.time()\n",
    "\n",
    "    print(\"Time: %s seconds\" % (end - start), \"\\n\")\n",
    "    print(\"The decoded text is: \\n\")\n",
    "    print(decodedText)"
   ]
  },
  {
   "cell_type": "code",
   "execution_count": null,
   "id": "7ac40668",
   "metadata": {},
   "outputs": [],
   "source": []
  }
 ],
 "metadata": {
  "kernelspec": {
   "display_name": "Python 3",
   "language": "python",
   "name": "python3"
  },
  "language_info": {
   "codemirror_mode": {
    "name": "ipython",
    "version": 3
   },
   "file_extension": ".py",
   "mimetype": "text/x-python",
   "name": "python",
   "nbconvert_exporter": "python",
   "pygments_lexer": "ipython3",
   "version": "3.8.8"
  }
 },
 "nbformat": 4,
 "nbformat_minor": 5
}
